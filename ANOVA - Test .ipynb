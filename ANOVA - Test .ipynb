{
 "cells": [
  {
   "cell_type": "code",
   "execution_count": 116,
   "metadata": {},
   "outputs": [],
   "source": [
    "import pandas as pd\n",
    "import numpy as np\n",
    "from tabulate import tabulate\n",
    "\n",
    "# import statmodels\n",
    "import statsmodels.formula.api as smf\n",
    "from statsmodels.graphics.factorplots import interaction_plot\n",
    "import statsmodels.api as sm"
   ]
  },
  {
   "cell_type": "markdown",
   "metadata": {},
   "source": [
    "#### Some utulity functions"
   ]
  },
  {
   "cell_type": "code",
   "execution_count": 359,
   "metadata": {},
   "outputs": [],
   "source": [
    "def create_2cat_table(data, cat_var1, cat_var2, observation):\n",
    "    '''\n",
    "    cerate tables for anova observation\n",
    "    input: \n",
    "        data: dataset type of panda dataframe\n",
    "        cat_var1: label of first cat variable\n",
    "        cat_var2: label of second cat variable\n",
    "        observation: label of traget variable\n",
    "        \n",
    "    \n",
    "    '''\n",
    "    \n",
    "    # list for storing tabulate data\n",
    "    tabulate_list = []\n",
    "\n",
    "    # iterate over first var\n",
    "    for cat_1 in np.unique(data[cat_var1]):\n",
    "\n",
    "        sub_group=''\n",
    "        sub_len=''\n",
    "        sub_mean=''\n",
    "        sub_std=''\n",
    "\n",
    "        # iterate over second var\n",
    "        for cat_2 in np.unique(data[cat_var2]):\n",
    "\n",
    "            # get value for given cat_1 and cat_2\n",
    "            tmp_data = data[(data[cat_var1]==cat_1) & (data[cat_var2]==cat_2)][observation]\n",
    "\n",
    "            # labels\n",
    "            sub_group=sub_group+'\\n'+cat_2\n",
    "            \n",
    "            # values\n",
    "            sub_len=sub_len+'\\n'+str(len(tmp_data))\n",
    "            sub_mean=sub_mean+'\\n'+ '%.2f' % np.mean(tmp_data)\n",
    "            sub_std=sub_std+'\\n'+ '%.2f' % np.std(tmp_data)\n",
    "\n",
    "        # add to main tabulate list\n",
    "        tabulate_list.append([cat_1, sub_group, sub_len, sub_mean, sub_std,\n",
    "                             np.mean(data[data[cat_var1]==cat_1][observation]),\n",
    "                             np.std(data[data[cat_var1]==cat_1][observation])])\n",
    "\n",
    "    # print tabulate\n",
    "    print(tabulate(tabulate_list, headers=[cat_var1, cat_var2, 'N', \n",
    "                                        observation+'\\nmean', \n",
    "                                        observation+'\\nstd',\n",
    "                                        observation+'\\nmean_all', \n",
    "                                        observation+'\\nstd_all'], tablefmt='grid'))"
   ]
  },
  {
   "cell_type": "code",
   "execution_count": 360,
   "metadata": {},
   "outputs": [],
   "source": [
    "def create_1cat_table(data, cat_var1, observation):\n",
    "    '''\n",
    "    cerate tables for anova observation\n",
    "    input: \n",
    "        data: dataset type of panda dataframe\n",
    "        cat_var1: label of first cat variabl\n",
    "        observation: label of traget variable\n",
    "    '''\n",
    "    \n",
    "    # list for storing tabulate data\n",
    "    tabulate_list = []\n",
    "\n",
    "    # iterate over first var\n",
    "    for cat_1 in np.unique(data[cat_var1]):\n",
    "     \n",
    "        # get value for given cat_1 and cat_2\n",
    "        tmp_data = data[data[cat_var1]==cat_1][observation]\n",
    "\n",
    "        # add to main tabulate list\n",
    "        tabulate_list.append([cat_1, len(tmp_data), \n",
    "                              '%.2f' % np.mean(tmp_data),\n",
    "                              '%.2f' % np.std(tmp_data)])\n",
    "\n",
    "    # print tabulate\n",
    "    print(tabulate(tabulate_list, headers=[cat_var1, 'N', \n",
    "                                        observation+'\\nmean', \n",
    "                                        observation+'\\nstd'], tablefmt='grid'))"
   ]
  },
  {
   "cell_type": "markdown",
   "metadata": {},
   "source": [
    "#### Load data"
   ]
  },
  {
   "cell_type": "code",
   "execution_count": 361,
   "metadata": {},
   "outputs": [
    {
     "data": {
      "text/plain": [
       "Index(['Id', 'age', 'gender', 'BMI', 'sleeping_time',\n",
       "       'sporting_activity_(h/week)', 'daytime', 'outdoor_temperature',\n",
       "       'shopping_cart', 'attendants', 'shopping_frequency', 'cash_point',\n",
       "       'shopping_amount', 'weekday', 'smoking', 'ex_max', 'ex_min', 'hr_max',\n",
       "       'max_time', 'hr_min', 'min_time', 'shopping duration (in minutes)',\n",
       "       'reaching HRmax'],\n",
       "      dtype='object')"
      ]
     },
     "execution_count": 361,
     "metadata": {},
     "output_type": "execute_result"
    }
   ],
   "source": [
    "# load data\n",
    "data = pd.read_csv ('Dataset_heart rate_retail stores.csv')\n",
    "\n",
    "data.columns"
   ]
  },
  {
   "cell_type": "code",
   "execution_count": 362,
   "metadata": {},
   "outputs": [],
   "source": [
    "# raname shopping duration (in minutes) for easy handling\n",
    "data=data.rename(columns = {'shopping duration (in minutes)':'shop_dur'})"
   ]
  },
  {
   "cell_type": "markdown",
   "metadata": {},
   "source": [
    "### Create categorical vars\n",
    "\n",
    "Create new categorical variables from exsisting ones  to use in the anova date\n",
    "\n",
    "#### 1.  for age groups"
   ]
  },
  {
   "cell_type": "code",
   "execution_count": 363,
   "metadata": {},
   "outputs": [],
   "source": [
    "# make new categorical data\n",
    "intervals = [18, 31, 45, 60, 72]\n",
    "levels =[\"18-31\", \"31-45\", \"45-60\", \"60+\"]\n",
    "data[\"age_groups\"]=pd.cut(data[\"age\"], intervals, labels=levels, include_lowest=True)\n",
    "\n",
    "# factor data\n",
    "data['age_groups'] = data['age_groups'].astype(str)"
   ]
  },
  {
   "cell_type": "markdown",
   "metadata": {},
   "source": [
    "#### 2. for outdoor_temperature"
   ]
  },
  {
   "cell_type": "code",
   "execution_count": 364,
   "metadata": {},
   "outputs": [],
   "source": [
    "intervals = [12, 18, 24, 28]\n",
    "levels =[\"12-18\", \"18-24\", \"24+\"]\n",
    "data[\"out_t_groups\"]=pd.cut(data[\"outdoor_temperature\"], intervals, labels=levels, include_lowest=True)\n",
    "\n",
    "# factorize data\n",
    "data['out_t_groups'] = data['out_t_groups'].astype(str)"
   ]
  },
  {
   "cell_type": "markdown",
   "metadata": {},
   "source": [
    "#### 3. for sporting_activity_(h/week)"
   ]
  },
  {
   "cell_type": "code",
   "execution_count": 365,
   "metadata": {},
   "outputs": [],
   "source": [
    "intervals = [0, 2, 14]\n",
    "levels =[\"0-2\", \"2+\"]\n",
    "data[\"sport_activity_groups\"]=pd.cut(data[\"sporting_activity_(h/week)\"], intervals, labels=levels, include_lowest=True)\n",
    "\n",
    "# factorize data\n",
    "data['sport_activity_groups'] = data['sport_activity_groups'].astype(str)"
   ]
  },
  {
   "cell_type": "markdown",
   "metadata": {},
   "source": [
    "#### 4. for sleeping_time"
   ]
  },
  {
   "cell_type": "code",
   "execution_count": 366,
   "metadata": {},
   "outputs": [],
   "source": [
    "intervals = [0, 6, 9, 12]\n",
    "levels =[\"0-6\", \"6-9\", \"9+\"]\n",
    "data[\"sleeping_time_groups\"]=pd.cut(data[\"sleeping_time\"], intervals, labels=levels, include_lowest=True)\n",
    "\n",
    "# factorize data\n",
    "data['sleeping_time_groups'] = data['sleeping_time_groups'].astype(str)"
   ]
  },
  {
   "cell_type": "markdown",
   "metadata": {},
   "source": [
    "#### 5. for ex_max"
   ]
  },
  {
   "cell_type": "code",
   "execution_count": 405,
   "metadata": {},
   "outputs": [],
   "source": [
    "intervals = np.linspace(min(data['ex_max']), max(data['ex_max']), 7)\n",
    "levels =[\"70-83\", \"93-96\", \"96-109\", \"109-122\", \"122-135\", \"135+\"]\n",
    "data['ex_max_groups']=pd.cut(data['ex_max'], intervals, labels=levels, include_lowest=True)\n",
    "\n",
    "# factorize data\n",
    "data['ex_max_groups'] = data['ex_max_groups'].astype(str)"
   ]
  },
  {
   "cell_type": "markdown",
   "metadata": {},
   "source": [
    "#### 6. for ex_min"
   ]
  },
  {
   "cell_type": "code",
   "execution_count": 410,
   "metadata": {},
   "outputs": [],
   "source": [
    "intervals = np.linspace(min(data['ex_min']), max(data['ex_min']), 7)\n",
    "levels =[\"44-56\", \"56-69\", \"69-82\", \"82-94\", \"94-107\", \"107+\"]\n",
    "data['ex_min_groups']=pd.cut(data['ex_min'], intervals, labels=levels, include_lowest=True)\n",
    "\n",
    "# factorize data\n",
    "data['ex_min_groups'] = data['ex_min_groups'].astype(str)"
   ]
  },
  {
   "cell_type": "code",
   "execution_count": 411,
   "metadata": {},
   "outputs": [
    {
     "data": {
      "text/html": [
       "<div>\n",
       "<style scoped>\n",
       "    .dataframe tbody tr th:only-of-type {\n",
       "        vertical-align: middle;\n",
       "    }\n",
       "\n",
       "    .dataframe tbody tr th {\n",
       "        vertical-align: top;\n",
       "    }\n",
       "\n",
       "    .dataframe thead th {\n",
       "        text-align: right;\n",
       "    }\n",
       "</style>\n",
       "<table border=\"1\" class=\"dataframe\">\n",
       "  <thead>\n",
       "    <tr style=\"text-align: right;\">\n",
       "      <th></th>\n",
       "      <th>Id</th>\n",
       "      <th>age</th>\n",
       "      <th>gender</th>\n",
       "      <th>BMI</th>\n",
       "      <th>sleeping_time</th>\n",
       "      <th>sporting_activity_(h/week)</th>\n",
       "      <th>daytime</th>\n",
       "      <th>outdoor_temperature</th>\n",
       "      <th>shopping_cart</th>\n",
       "      <th>attendants</th>\n",
       "      <th>...</th>\n",
       "      <th>hr_min</th>\n",
       "      <th>min_time</th>\n",
       "      <th>shop_dur</th>\n",
       "      <th>reaching HRmax</th>\n",
       "      <th>age_groups</th>\n",
       "      <th>out_t_groups</th>\n",
       "      <th>sport_activity_groups</th>\n",
       "      <th>sleeping_time_groups</th>\n",
       "      <th>ex_max_groups</th>\n",
       "      <th>ex_min_groups</th>\n",
       "    </tr>\n",
       "  </thead>\n",
       "  <tbody>\n",
       "    <tr>\n",
       "      <td>0</td>\n",
       "      <td>1</td>\n",
       "      <td>55</td>\n",
       "      <td>female</td>\n",
       "      <td>30.0</td>\n",
       "      <td>7.0</td>\n",
       "      <td>2.0</td>\n",
       "      <td>noon</td>\n",
       "      <td>23</td>\n",
       "      <td>no</td>\n",
       "      <td>no</td>\n",
       "      <td>...</td>\n",
       "      <td>72</td>\n",
       "      <td>4</td>\n",
       "      <td>12</td>\n",
       "      <td>0</td>\n",
       "      <td>45-60</td>\n",
       "      <td>18-24</td>\n",
       "      <td>0-2</td>\n",
       "      <td>6-9</td>\n",
       "      <td>109-122</td>\n",
       "      <td>69-82</td>\n",
       "    </tr>\n",
       "    <tr>\n",
       "      <td>1</td>\n",
       "      <td>2</td>\n",
       "      <td>25</td>\n",
       "      <td>female</td>\n",
       "      <td>18.4</td>\n",
       "      <td>9.0</td>\n",
       "      <td>1.0</td>\n",
       "      <td>noon</td>\n",
       "      <td>23</td>\n",
       "      <td>yes</td>\n",
       "      <td>no</td>\n",
       "      <td>...</td>\n",
       "      <td>70</td>\n",
       "      <td>18</td>\n",
       "      <td>26</td>\n",
       "      <td>0</td>\n",
       "      <td>18-31</td>\n",
       "      <td>18-24</td>\n",
       "      <td>0-2</td>\n",
       "      <td>6-9</td>\n",
       "      <td>109-122</td>\n",
       "      <td>69-82</td>\n",
       "    </tr>\n",
       "    <tr>\n",
       "      <td>2</td>\n",
       "      <td>3</td>\n",
       "      <td>38</td>\n",
       "      <td>male</td>\n",
       "      <td>25.1</td>\n",
       "      <td>5.0</td>\n",
       "      <td>3.0</td>\n",
       "      <td>noon</td>\n",
       "      <td>23</td>\n",
       "      <td>no</td>\n",
       "      <td>no</td>\n",
       "      <td>...</td>\n",
       "      <td>75</td>\n",
       "      <td>20</td>\n",
       "      <td>24</td>\n",
       "      <td>0</td>\n",
       "      <td>31-45</td>\n",
       "      <td>18-24</td>\n",
       "      <td>2+</td>\n",
       "      <td>0-6</td>\n",
       "      <td>109-122</td>\n",
       "      <td>69-82</td>\n",
       "    </tr>\n",
       "    <tr>\n",
       "      <td>3</td>\n",
       "      <td>4</td>\n",
       "      <td>21</td>\n",
       "      <td>female</td>\n",
       "      <td>22.6</td>\n",
       "      <td>8.0</td>\n",
       "      <td>0.0</td>\n",
       "      <td>evening</td>\n",
       "      <td>23</td>\n",
       "      <td>yes</td>\n",
       "      <td>family</td>\n",
       "      <td>...</td>\n",
       "      <td>62</td>\n",
       "      <td>41</td>\n",
       "      <td>46</td>\n",
       "      <td>0</td>\n",
       "      <td>18-31</td>\n",
       "      <td>18-24</td>\n",
       "      <td>0-2</td>\n",
       "      <td>6-9</td>\n",
       "      <td>135+</td>\n",
       "      <td>44-56</td>\n",
       "    </tr>\n",
       "    <tr>\n",
       "      <td>4</td>\n",
       "      <td>5</td>\n",
       "      <td>30</td>\n",
       "      <td>female</td>\n",
       "      <td>21.7</td>\n",
       "      <td>12.0</td>\n",
       "      <td>10.0</td>\n",
       "      <td>evening</td>\n",
       "      <td>23</td>\n",
       "      <td>yes</td>\n",
       "      <td>life partner</td>\n",
       "      <td>...</td>\n",
       "      <td>61</td>\n",
       "      <td>20</td>\n",
       "      <td>41</td>\n",
       "      <td>1</td>\n",
       "      <td>18-31</td>\n",
       "      <td>18-24</td>\n",
       "      <td>2+</td>\n",
       "      <td>9+</td>\n",
       "      <td>109-122</td>\n",
       "      <td>44-56</td>\n",
       "    </tr>\n",
       "  </tbody>\n",
       "</table>\n",
       "<p>5 rows × 29 columns</p>\n",
       "</div>"
      ],
      "text/plain": [
       "   Id  age  gender   BMI  sleeping_time  sporting_activity_(h/week)  daytime  \\\n",
       "0   1   55  female  30.0            7.0                         2.0     noon   \n",
       "1   2   25  female  18.4            9.0                         1.0     noon   \n",
       "2   3   38    male  25.1            5.0                         3.0     noon   \n",
       "3   4   21  female  22.6            8.0                         0.0  evening   \n",
       "4   5   30  female  21.7           12.0                        10.0  evening   \n",
       "\n",
       "   outdoor_temperature shopping_cart    attendants  ... hr_min min_time  \\\n",
       "0                   23            no            no  ...     72        4   \n",
       "1                   23           yes            no  ...     70       18   \n",
       "2                   23            no            no  ...     75       20   \n",
       "3                   23           yes        family  ...     62       41   \n",
       "4                   23           yes  life partner  ...     61       20   \n",
       "\n",
       "  shop_dur reaching HRmax  age_groups  out_t_groups  sport_activity_groups  \\\n",
       "0       12              0       45-60         18-24                    0-2   \n",
       "1       26              0       18-31         18-24                    0-2   \n",
       "2       24              0       31-45         18-24                     2+   \n",
       "3       46              0       18-31         18-24                    0-2   \n",
       "4       41              1       18-31         18-24                     2+   \n",
       "\n",
       "   sleeping_time_groups  ex_max_groups  ex_min_groups  \n",
       "0                   6-9        109-122          69-82  \n",
       "1                   6-9        109-122          69-82  \n",
       "2                   0-6        109-122          69-82  \n",
       "3                   6-9           135+          44-56  \n",
       "4                    9+        109-122          44-56  \n",
       "\n",
       "[5 rows x 29 columns]"
      ]
     },
     "execution_count": 411,
     "metadata": {},
     "output_type": "execute_result"
    }
   ],
   "source": [
    "data.head()"
   ]
  },
  {
   "cell_type": "markdown",
   "metadata": {},
   "source": [
    "# ANOVA test"
   ]
  },
  {
   "cell_type": "markdown",
   "metadata": {},
   "source": [
    "## 1. shop_dur ~ age_groups + gender + age_groups*gender "
   ]
  },
  {
   "cell_type": "code",
   "execution_count": 368,
   "metadata": {},
   "outputs": [
    {
     "name": "stdout",
     "output_type": "stream",
     "text": [
      "+--------------+----------+-----+------------+------------+------------+------------+\n",
      "| age_groups   | gender   | N   | shop_dur   | shop_dur   |   shop_dur |   shop_dur |\n",
      "|              |          |     | mean       | std        |   mean_all |    std_all |\n",
      "+==============+==========+=====+============+============+============+============+\n",
      "| 18-31        | female   | 35  | 38.57      | 22.76      |    37.661  |    20.7386 |\n",
      "|              | male     | 24  | 36.33      | 17.29      |            |            |\n",
      "+--------------+----------+-----+------------+------------+------------+------------+\n",
      "| 31-45        | female   | 22  | 34.32      | 17.61      |    33.9375 |    20.068  |\n",
      "|              | male     | 26  | 33.62      | 21.93      |            |            |\n",
      "+--------------+----------+-----+------------+------------+------------+------------+\n",
      "| 45-60        | female   | 24  | 35.12      | 14.12      |    33.814  |    14.995  |\n",
      "|              | male     | 19  | 32.16      | 15.88      |            |            |\n",
      "+--------------+----------+-----+------------+------------+------------+------------+\n",
      "| 60+          | female   | 7   | 39.29      | 26.84      |    36.1333 |    19.8389 |\n",
      "|              | male     | 8   | 33.38      | 9.55       |            |            |\n",
      "+--------------+----------+-----+------------+------------+------------+------------+\n"
     ]
    }
   ],
   "source": [
    "create_2cat_table(data, 'age_groups', 'gender', 'shop_dur')"
   ]
  },
  {
   "cell_type": "markdown",
   "metadata": {},
   "source": [
    "#### Calculate anova"
   ]
  },
  {
   "cell_type": "code",
   "execution_count": 369,
   "metadata": {},
   "outputs": [
    {
     "data": {
      "text/html": [
       "<div>\n",
       "<style scoped>\n",
       "    .dataframe tbody tr th:only-of-type {\n",
       "        vertical-align: middle;\n",
       "    }\n",
       "\n",
       "    .dataframe tbody tr th {\n",
       "        vertical-align: top;\n",
       "    }\n",
       "\n",
       "    .dataframe thead th {\n",
       "        text-align: right;\n",
       "    }\n",
       "</style>\n",
       "<table border=\"1\" class=\"dataframe\">\n",
       "  <thead>\n",
       "    <tr style=\"text-align: right;\">\n",
       "      <th></th>\n",
       "      <th>df</th>\n",
       "      <th>sum_sq</th>\n",
       "      <th>mean_sq</th>\n",
       "      <th>F</th>\n",
       "      <th>PR(&gt;F)</th>\n",
       "    </tr>\n",
       "  </thead>\n",
       "  <tbody>\n",
       "    <tr>\n",
       "      <td>age_groups</td>\n",
       "      <td>3.0</td>\n",
       "      <td>520.304018</td>\n",
       "      <td>173.434673</td>\n",
       "      <td>0.453993</td>\n",
       "      <td>0.714841</td>\n",
       "    </tr>\n",
       "    <tr>\n",
       "      <td>gender</td>\n",
       "      <td>1.0</td>\n",
       "      <td>217.155221</td>\n",
       "      <td>217.155221</td>\n",
       "      <td>0.568438</td>\n",
       "      <td>0.452010</td>\n",
       "    </tr>\n",
       "    <tr>\n",
       "      <td>age_groups:gender</td>\n",
       "      <td>3.0</td>\n",
       "      <td>83.836357</td>\n",
       "      <td>27.945452</td>\n",
       "      <td>0.073152</td>\n",
       "      <td>0.974298</td>\n",
       "    </tr>\n",
       "    <tr>\n",
       "      <td>Residual</td>\n",
       "      <td>157.0</td>\n",
       "      <td>59977.286223</td>\n",
       "      <td>382.020931</td>\n",
       "      <td>NaN</td>\n",
       "      <td>NaN</td>\n",
       "    </tr>\n",
       "  </tbody>\n",
       "</table>\n",
       "</div>"
      ],
      "text/plain": [
       "                      df        sum_sq     mean_sq         F    PR(>F)\n",
       "age_groups           3.0    520.304018  173.434673  0.453993  0.714841\n",
       "gender               1.0    217.155221  217.155221  0.568438  0.452010\n",
       "age_groups:gender    3.0     83.836357   27.945452  0.073152  0.974298\n",
       "Residual           157.0  59977.286223  382.020931       NaN       NaN"
      ]
     },
     "execution_count": 369,
     "metadata": {},
     "output_type": "execute_result"
    }
   ],
   "source": [
    "data['age_groups'] = data['age_groups'].astype(str)\n",
    "\n",
    "lm = smf.ols('shop_dur ~ age_groups + gender + age_groups*gender ', data=data).fit()\n",
    "sm.stats.anova_lm(lm, type=1)"
   ]
  },
  {
   "cell_type": "markdown",
   "metadata": {},
   "source": [
    "As we can see from the PR(>F) values, n-Anova test doesn't suggest a significant difference between the effects of age_groups and gender on shopping duration. Also, we can see from the interaction term that the interaction of given factors don't have a significant effect on the response var. "
   ]
  },
  {
   "cell_type": "markdown",
   "metadata": {},
   "source": [
    "#### Interaction plot"
   ]
  },
  {
   "cell_type": "code",
   "execution_count": 370,
   "metadata": {},
   "outputs": [
    {
     "data": {
      "image/png": "[encoded data removed]",
      "text/plain": [
       "<Figure size 432x288 with 1 Axes>"
      ]
     },
     "execution_count": 370,
     "metadata": {},
     "output_type": "execute_result"
    },
    {
     "data": {
      "image/png": "[encoded data removed]",
      "text/plain": [
       "<Figure size 432x288 with 1 Axes>"
      ]
     },
     "metadata": {
      "needs_background": "light"
     },
     "output_type": "display_data"
    }
   ],
   "source": [
    "interaction_plot(data['age_groups'], data['gender'], data['shop_dur'])"
   ]
  },
  {
   "cell_type": "markdown",
   "metadata": {},
   "source": [
    "Although general interaction is not significant, we can still see the relatively considerable difference between genders on 60+ age groups."
   ]
  },
  {
   "cell_type": "markdown",
   "metadata": {},
   "source": [
    "## 2. shop_dur ~ age_groups"
   ]
  },
  {
   "cell_type": "code",
   "execution_count": 371,
   "metadata": {},
   "outputs": [
    {
     "name": "stdout",
     "output_type": "stream",
     "text": [
      "+--------------+-----+------------+------------+\n",
      "| age_groups   |   N |   shop_dur |   shop_dur |\n",
      "|              |     |       mean |        std |\n",
      "+==============+=====+============+============+\n",
      "| 18-31        |  59 |      37.66 |      20.74 |\n",
      "+--------------+-----+------------+------------+\n",
      "| 31-45        |  48 |      33.94 |      20.07 |\n",
      "+--------------+-----+------------+------------+\n",
      "| 45-60        |  43 |      33.81 |      14.99 |\n",
      "+--------------+-----+------------+------------+\n",
      "| 60+          |  15 |      36.13 |      19.84 |\n",
      "+--------------+-----+------------+------------+\n"
     ]
    }
   ],
   "source": [
    "create_1cat_table(data, 'age_groups', 'shop_dur')"
   ]
  },
  {
   "cell_type": "markdown",
   "metadata": {},
   "source": [
    "#### Calculate annova"
   ]
  },
  {
   "cell_type": "code",
   "execution_count": 372,
   "metadata": {},
   "outputs": [
    {
     "data": {
      "text/html": [
       "<div>\n",
       "<style scoped>\n",
       "    .dataframe tbody tr th:only-of-type {\n",
       "        vertical-align: middle;\n",
       "    }\n",
       "\n",
       "    .dataframe tbody tr th {\n",
       "        vertical-align: top;\n",
       "    }\n",
       "\n",
       "    .dataframe thead th {\n",
       "        text-align: right;\n",
       "    }\n",
       "</style>\n",
       "<table border=\"1\" class=\"dataframe\">\n",
       "  <thead>\n",
       "    <tr style=\"text-align: right;\">\n",
       "      <th></th>\n",
       "      <th>df</th>\n",
       "      <th>sum_sq</th>\n",
       "      <th>mean_sq</th>\n",
       "      <th>F</th>\n",
       "      <th>PR(&gt;F)</th>\n",
       "    </tr>\n",
       "  </thead>\n",
       "  <tbody>\n",
       "    <tr>\n",
       "      <td>age_groups</td>\n",
       "      <td>3.0</td>\n",
       "      <td>520.304018</td>\n",
       "      <td>173.434673</td>\n",
       "      <td>0.463235</td>\n",
       "      <td>0.708344</td>\n",
       "    </tr>\n",
       "    <tr>\n",
       "      <td>Residual</td>\n",
       "      <td>161.0</td>\n",
       "      <td>60278.277800</td>\n",
       "      <td>374.399241</td>\n",
       "      <td>NaN</td>\n",
       "      <td>NaN</td>\n",
       "    </tr>\n",
       "  </tbody>\n",
       "</table>\n",
       "</div>"
      ],
      "text/plain": [
       "               df        sum_sq     mean_sq         F    PR(>F)\n",
       "age_groups    3.0    520.304018  173.434673  0.463235  0.708344\n",
       "Residual    161.0  60278.277800  374.399241       NaN       NaN"
      ]
     },
     "execution_count": 372,
     "metadata": {},
     "output_type": "execute_result"
    }
   ],
   "source": [
    "lm = smf.ols('shop_dur ~ age_groups', data=data).fit()\n",
    "sm.stats.anova_lm(lm, type=1)"
   ]
  },
  {
   "cell_type": "markdown",
   "metadata": {},
   "source": [
    "We don't find a significant main effect of age groups (F = 0.46, p > .70) on shopping durations."
   ]
  },
  {
   "cell_type": "markdown",
   "metadata": {},
   "source": [
    "## 3. shop_dur ~ out_t_groups"
   ]
  },
  {
   "cell_type": "code",
   "execution_count": 373,
   "metadata": {},
   "outputs": [
    {
     "name": "stdout",
     "output_type": "stream",
     "text": [
      "+----------------+-----+------------+------------+\n",
      "| out_t_groups   |   N |   shop_dur |   shop_dur |\n",
      "|                |     |       mean |        std |\n",
      "+================+=====+============+============+\n",
      "| 12-18          |  50 |      42    |      19.37 |\n",
      "+----------------+-----+------------+------------+\n",
      "| 18-24          |  89 |      32.19 |      19.23 |\n",
      "+----------------+-----+------------+------------+\n",
      "| 24+            |  26 |      33.92 |      15.15 |\n",
      "+----------------+-----+------------+------------+\n"
     ]
    }
   ],
   "source": [
    "create_1cat_table(data, 'out_t_groups', 'shop_dur')"
   ]
  },
  {
   "cell_type": "markdown",
   "metadata": {},
   "source": [
    "#### Calculate anova"
   ]
  },
  {
   "cell_type": "code",
   "execution_count": 374,
   "metadata": {},
   "outputs": [
    {
     "data": {
      "text/html": [
       "<div>\n",
       "<style scoped>\n",
       "    .dataframe tbody tr th:only-of-type {\n",
       "        vertical-align: middle;\n",
       "    }\n",
       "\n",
       "    .dataframe tbody tr th {\n",
       "        vertical-align: top;\n",
       "    }\n",
       "\n",
       "    .dataframe thead th {\n",
       "        text-align: right;\n",
       "    }\n",
       "</style>\n",
       "<table border=\"1\" class=\"dataframe\">\n",
       "  <thead>\n",
       "    <tr style=\"text-align: right;\">\n",
       "      <th></th>\n",
       "      <th>df</th>\n",
       "      <th>sum_sq</th>\n",
       "      <th>mean_sq</th>\n",
       "      <th>F</th>\n",
       "      <th>PR(&gt;F)</th>\n",
       "    </tr>\n",
       "  </thead>\n",
       "  <tbody>\n",
       "    <tr>\n",
       "      <td>out_t_groups</td>\n",
       "      <td>2.0</td>\n",
       "      <td>3150.982855</td>\n",
       "      <td>1575.491428</td>\n",
       "      <td>4.427411</td>\n",
       "      <td>0.013425</td>\n",
       "    </tr>\n",
       "    <tr>\n",
       "      <td>Residual</td>\n",
       "      <td>162.0</td>\n",
       "      <td>57647.598963</td>\n",
       "      <td>355.849376</td>\n",
       "      <td>NaN</td>\n",
       "      <td>NaN</td>\n",
       "    </tr>\n",
       "  </tbody>\n",
       "</table>\n",
       "</div>"
      ],
      "text/plain": [
       "                 df        sum_sq      mean_sq         F    PR(>F)\n",
       "out_t_groups    2.0   3150.982855  1575.491428  4.427411  0.013425\n",
       "Residual      162.0  57647.598963   355.849376       NaN       NaN"
      ]
     },
     "execution_count": 374,
     "metadata": {},
     "output_type": "execute_result"
    }
   ],
   "source": [
    "lm = smf.ols('shop_dur ~ out_t_groups', data=data).fit()\n",
    "sm.stats.anova_lm(lm, type=1)"
   ]
  },
  {
   "cell_type": "markdown",
   "metadata": {},
   "source": [
    "As it's also clear from the table, the ANOVA test suggests us that response of temperature groups on shopping duration is important where  (F = 4.42, p < 0.013). Especially we can come to the conculusion that people ofen go shippoing during the cool days."
   ]
  },
  {
   "cell_type": "markdown",
   "metadata": {},
   "source": [
    "## 4. shop_dur ~  out_t_groups + gender + out_t_groups*gender"
   ]
  },
  {
   "cell_type": "code",
   "execution_count": 375,
   "metadata": {},
   "outputs": [
    {
     "name": "stdout",
     "output_type": "stream",
     "text": [
      "+----------------+--------------+-----+------------+------------+------------+------------+\n",
      "| out_t_groups   | age_groups   | N   | shop_dur   | shop_dur   |   shop_dur |   shop_dur |\n",
      "|                |              |     | mean       | std        |   mean_all |    std_all |\n",
      "+================+==============+=====+============+============+============+============+\n",
      "| 12-18          | 18-31        | 20  | 36.55      | 21.20      |    42      |    19.368  |\n",
      "|                | 31-45        | 13  | 47.00      | 22.26      |            |            |\n",
      "|                | 45-60        | 14  | 45.29      | 12.33      |            |            |\n",
      "|                | 60+          | 3   | 41.33      | 6.55       |            |            |\n",
      "+----------------+--------------+-----+------------+------------+------------+------------+\n",
      "| 18-24          | 18-31        | 26  | 40.65      | 22.84      |    32.191  |    19.233  |\n",
      "|                | 31-45        | 33  | 28.15      | 16.80      |            |            |\n",
      "|                | 45-60        | 20  | 27.75      | 10.65      |            |            |\n",
      "|                | 60+          | 10  | 32.40      | 22.32      |            |            |\n",
      "+----------------+--------------+-----+------------+------------+------------+------------+\n",
      "| 24+            | 18-31        | 13  | 33.38      | 13.40      |    33.9231 |    15.1529 |\n",
      "|                | 31-45        | 2   | 44.50      | 3.50       |            |            |\n",
      "|                | 45-60        | 9   | 29.44      | 16.74      |            |            |\n",
      "|                | 60+          | 2   | 47.00      | 13.00      |            |            |\n",
      "+----------------+--------------+-----+------------+------------+------------+------------+\n"
     ]
    }
   ],
   "source": [
    "create_2cat_table(data, 'out_t_groups', 'age_groups', 'shop_dur')"
   ]
  },
  {
   "cell_type": "markdown",
   "metadata": {},
   "source": [
    "#### Calculate anova"
   ]
  },
  {
   "cell_type": "code",
   "execution_count": 376,
   "metadata": {},
   "outputs": [
    {
     "data": {
      "text/html": [
       "<div>\n",
       "<style scoped>\n",
       "    .dataframe tbody tr th:only-of-type {\n",
       "        vertical-align: middle;\n",
       "    }\n",
       "\n",
       "    .dataframe tbody tr th {\n",
       "        vertical-align: top;\n",
       "    }\n",
       "\n",
       "    .dataframe thead th {\n",
       "        text-align: right;\n",
       "    }\n",
       "</style>\n",
       "<table border=\"1\" class=\"dataframe\">\n",
       "  <thead>\n",
       "    <tr style=\"text-align: right;\">\n",
       "      <th></th>\n",
       "      <th>df</th>\n",
       "      <th>sum_sq</th>\n",
       "      <th>mean_sq</th>\n",
       "      <th>F</th>\n",
       "      <th>PR(&gt;F)</th>\n",
       "    </tr>\n",
       "  </thead>\n",
       "  <tbody>\n",
       "    <tr>\n",
       "      <td>out_t_groups</td>\n",
       "      <td>2.0</td>\n",
       "      <td>3150.982855</td>\n",
       "      <td>1575.491428</td>\n",
       "      <td>4.545497</td>\n",
       "      <td>0.012088</td>\n",
       "    </tr>\n",
       "    <tr>\n",
       "      <td>age_groups</td>\n",
       "      <td>3.0</td>\n",
       "      <td>439.144034</td>\n",
       "      <td>146.381345</td>\n",
       "      <td>0.422329</td>\n",
       "      <td>0.737251</td>\n",
       "    </tr>\n",
       "    <tr>\n",
       "      <td>out_t_groups:age_groups</td>\n",
       "      <td>6.0</td>\n",
       "      <td>4177.904935</td>\n",
       "      <td>696.317489</td>\n",
       "      <td>2.008966</td>\n",
       "      <td>0.067721</td>\n",
       "    </tr>\n",
       "    <tr>\n",
       "      <td>Residual</td>\n",
       "      <td>153.0</td>\n",
       "      <td>53030.549994</td>\n",
       "      <td>346.604902</td>\n",
       "      <td>NaN</td>\n",
       "      <td>NaN</td>\n",
       "    </tr>\n",
       "  </tbody>\n",
       "</table>\n",
       "</div>"
      ],
      "text/plain": [
       "                            df        sum_sq      mean_sq         F    PR(>F)\n",
       "out_t_groups               2.0   3150.982855  1575.491428  4.545497  0.012088\n",
       "age_groups                 3.0    439.144034   146.381345  0.422329  0.737251\n",
       "out_t_groups:age_groups    6.0   4177.904935   696.317489  2.008966  0.067721\n",
       "Residual                 153.0  53030.549994   346.604902       NaN       NaN"
      ]
     },
     "execution_count": 376,
     "metadata": {},
     "output_type": "execute_result"
    }
   ],
   "source": [
    "lm = smf.ols('shop_dur ~ out_t_groups + age_groups + out_t_groups*age_groups ', data=data).fit()\n",
    "sm.stats.anova_lm(lm, type=1)"
   ]
  },
  {
   "cell_type": "markdown",
   "metadata": {},
   "source": [
    "#### Interaction plot"
   ]
  },
  {
   "cell_type": "code",
   "execution_count": 377,
   "metadata": {},
   "outputs": [
    {
     "data": {
      "image/png": "[encoded data removed]",
      "text/plain": [
       "<Figure size 432x288 with 1 Axes>"
      ]
     },
     "execution_count": 377,
     "metadata": {},
     "output_type": "execute_result"
    },
    {
     "data": {
      "image/png": "[encoded data removed]",
      "text/plain": [
       "<Figure size 432x288 with 1 Axes>"
      ]
     },
     "metadata": {
      "needs_background": "light"
     },
     "output_type": "display_data"
    }
   ],
   "source": [
    "interaction_plot(data['age_groups'], data['out_t_groups'], data['shop_dur'])"
   ]
  },
  {
   "cell_type": "markdown",
   "metadata": {},
   "source": [
    "Interaction between outdoor temperature groups and age groups is not significant, but close to rejection interval (F > 0.06). As it's clear from the above plot, it's that still can be important for capturing some pattern on customer behaviour. From the interaction plot, we can see temperature has a relatively important effect on customer's behaviours from 31-45, 45-60, 60+ age groups. Where it's very close among 18-31.  "
   ]
  },
  {
   "cell_type": "markdown",
   "metadata": {},
   "source": [
    "## 5. shop_dur ~ attendants"
   ]
  },
  {
   "cell_type": "code",
   "execution_count": 378,
   "metadata": {},
   "outputs": [
    {
     "name": "stdout",
     "output_type": "stream",
     "text": [
      "+---------------+-----+------------+------------+\n",
      "| attendants    |   N |   shop_dur |   shop_dur |\n",
      "|               |     |       mean |        std |\n",
      "+===============+=====+============+============+\n",
      "| family        |  13 |      47.08 |      24.37 |\n",
      "+---------------+-----+------------+------------+\n",
      "| family member |  15 |      40.07 |      23    |\n",
      "+---------------+-----+------------+------------+\n",
      "| life partner  |  53 |      43.43 |      16.62 |\n",
      "+---------------+-----+------------+------------+\n",
      "| little child  |   6 |      38.83 |      12.88 |\n",
      "+---------------+-----+------------+------------+\n",
      "| no            |  78 |      26.91 |      15.32 |\n",
      "+---------------+-----+------------+------------+\n"
     ]
    }
   ],
   "source": [
    "create_1cat_table(data, 'attendants', 'shop_dur')"
   ]
  },
  {
   "cell_type": "code",
   "execution_count": 379,
   "metadata": {},
   "outputs": [
    {
     "data": {
      "text/html": [
       "<div>\n",
       "<style scoped>\n",
       "    .dataframe tbody tr th:only-of-type {\n",
       "        vertical-align: middle;\n",
       "    }\n",
       "\n",
       "    .dataframe tbody tr th {\n",
       "        vertical-align: top;\n",
       "    }\n",
       "\n",
       "    .dataframe thead th {\n",
       "        text-align: right;\n",
       "    }\n",
       "</style>\n",
       "<table border=\"1\" class=\"dataframe\">\n",
       "  <thead>\n",
       "    <tr style=\"text-align: right;\">\n",
       "      <th></th>\n",
       "      <th>df</th>\n",
       "      <th>sum_sq</th>\n",
       "      <th>mean_sq</th>\n",
       "      <th>F</th>\n",
       "      <th>PR(&gt;F)</th>\n",
       "    </tr>\n",
       "  </thead>\n",
       "  <tbody>\n",
       "    <tr>\n",
       "      <td>attendants</td>\n",
       "      <td>4.0</td>\n",
       "      <td>11212.501412</td>\n",
       "      <td>2803.125353</td>\n",
       "      <td>9.044878</td>\n",
       "      <td>0.000001</td>\n",
       "    </tr>\n",
       "    <tr>\n",
       "      <td>Residual</td>\n",
       "      <td>160.0</td>\n",
       "      <td>49586.080406</td>\n",
       "      <td>309.913003</td>\n",
       "      <td>NaN</td>\n",
       "      <td>NaN</td>\n",
       "    </tr>\n",
       "  </tbody>\n",
       "</table>\n",
       "</div>"
      ],
      "text/plain": [
       "               df        sum_sq      mean_sq         F    PR(>F)\n",
       "attendants    4.0  11212.501412  2803.125353  9.044878  0.000001\n",
       "Residual    160.0  49586.080406   309.913003       NaN       NaN"
      ]
     },
     "execution_count": 379,
     "metadata": {},
     "output_type": "execute_result"
    }
   ],
   "source": [
    "lm = smf.ols('shop_dur ~ attendants', data=data).fit()\n",
    "sm.stats.anova_lm(lm, type=1)"
   ]
  },
  {
   "cell_type": "markdown",
   "metadata": {},
   "source": [
    "Having F < 0.000001, ANOVA test shows us that shopping duration upon attendants varies significantly from each other. We can also see from the table that, people spend more time on shopping when they're with family or life partner than they're alone. "
   ]
  },
  {
   "cell_type": "markdown",
   "metadata": {},
   "source": [
    "## 6. shop_dur ~ shopping_cart"
   ]
  },
  {
   "cell_type": "code",
   "execution_count": 380,
   "metadata": {},
   "outputs": [
    {
     "name": "stdout",
     "output_type": "stream",
     "text": [
      "+-----------------+-----+------------+------------+\n",
      "| shopping_cart   |   N |   shop_dur |   shop_dur |\n",
      "|                 |     |       mean |        std |\n",
      "+=================+=====+============+============+\n",
      "| no              |  66 |      25.41 |      15.29 |\n",
      "+-----------------+-----+------------+------------+\n",
      "| yes             |  99 |      42.12 |      18.62 |\n",
      "+-----------------+-----+------------+------------+\n"
     ]
    }
   ],
   "source": [
    "create_1cat_table(data, 'shopping_cart', 'shop_dur')"
   ]
  },
  {
   "cell_type": "markdown",
   "metadata": {},
   "source": [
    "#### Calculate anova"
   ]
  },
  {
   "cell_type": "code",
   "execution_count": 381,
   "metadata": {},
   "outputs": [
    {
     "data": {
      "text/html": [
       "<div>\n",
       "<style scoped>\n",
       "    .dataframe tbody tr th:only-of-type {\n",
       "        vertical-align: middle;\n",
       "    }\n",
       "\n",
       "    .dataframe tbody tr th {\n",
       "        vertical-align: top;\n",
       "    }\n",
       "\n",
       "    .dataframe thead th {\n",
       "        text-align: right;\n",
       "    }\n",
       "</style>\n",
       "<table border=\"1\" class=\"dataframe\">\n",
       "  <thead>\n",
       "    <tr style=\"text-align: right;\">\n",
       "      <th></th>\n",
       "      <th>df</th>\n",
       "      <th>sum_sq</th>\n",
       "      <th>mean_sq</th>\n",
       "      <th>F</th>\n",
       "      <th>PR(&gt;F)</th>\n",
       "    </tr>\n",
       "  </thead>\n",
       "  <tbody>\n",
       "    <tr>\n",
       "      <td>shopping_cart</td>\n",
       "      <td>1.0</td>\n",
       "      <td>11060.081818</td>\n",
       "      <td>11060.081818</td>\n",
       "      <td>36.24543</td>\n",
       "      <td>1.114950e-08</td>\n",
       "    </tr>\n",
       "    <tr>\n",
       "      <td>Residual</td>\n",
       "      <td>163.0</td>\n",
       "      <td>49738.500000</td>\n",
       "      <td>305.144172</td>\n",
       "      <td>NaN</td>\n",
       "      <td>NaN</td>\n",
       "    </tr>\n",
       "  </tbody>\n",
       "</table>\n",
       "</div>"
      ],
      "text/plain": [
       "                  df        sum_sq       mean_sq         F        PR(>F)\n",
       "shopping_cart    1.0  11060.081818  11060.081818  36.24543  1.114950e-08\n",
       "Residual       163.0  49738.500000    305.144172       NaN           NaN"
      ]
     },
     "execution_count": 381,
     "metadata": {},
     "output_type": "execute_result"
    }
   ],
   "source": [
    "lm = smf.ols('shop_dur ~ shopping_cart', data=data).fit()\n",
    "sm.stats.anova_lm(lm, type=1)"
   ]
  },
  {
   "cell_type": "markdown",
   "metadata": {},
   "source": [
    "Here we can see that the null hypothesis is externally week. This suggests that taking a shopping cart on shopping definitely increase the duration of time a customer spends on shopping. This can be an important insight for markets on finding ways to increase the time customer spend on shopping, thus spend more money. "
   ]
  },
  {
   "cell_type": "markdown",
   "metadata": {},
   "source": [
    "## 7. shop_dur ~ smoking"
   ]
  },
  {
   "cell_type": "code",
   "execution_count": 382,
   "metadata": {},
   "outputs": [
    {
     "name": "stdout",
     "output_type": "stream",
     "text": [
      "+-----------+-----+------------+------------+\n",
      "|   smoking |   N |   shop_dur |   shop_dur |\n",
      "|           |     |       mean |        std |\n",
      "+===========+=====+============+============+\n",
      "|         0 | 104 |      37.84 |      20.64 |\n",
      "+-----------+-----+------------+------------+\n",
      "|         1 |  61 |      31.34 |      15.61 |\n",
      "+-----------+-----+------------+------------+\n"
     ]
    }
   ],
   "source": [
    "create_1cat_table(data, 'smoking', 'shop_dur')"
   ]
  },
  {
   "cell_type": "markdown",
   "metadata": {},
   "source": [
    "#### Calculate anova"
   ]
  },
  {
   "cell_type": "code",
   "execution_count": 383,
   "metadata": {},
   "outputs": [
    {
     "data": {
      "text/html": [
       "<div>\n",
       "<style scoped>\n",
       "    .dataframe tbody tr th:only-of-type {\n",
       "        vertical-align: middle;\n",
       "    }\n",
       "\n",
       "    .dataframe tbody tr th {\n",
       "        vertical-align: top;\n",
       "    }\n",
       "\n",
       "    .dataframe thead th {\n",
       "        text-align: right;\n",
       "    }\n",
       "</style>\n",
       "<table border=\"1\" class=\"dataframe\">\n",
       "  <thead>\n",
       "    <tr style=\"text-align: right;\">\n",
       "      <th></th>\n",
       "      <th>df</th>\n",
       "      <th>sum_sq</th>\n",
       "      <th>mean_sq</th>\n",
       "      <th>F</th>\n",
       "      <th>PR(&gt;F)</th>\n",
       "    </tr>\n",
       "  </thead>\n",
       "  <tbody>\n",
       "    <tr>\n",
       "      <td>smoking</td>\n",
       "      <td>1.0</td>\n",
       "      <td>1620.590173</td>\n",
       "      <td>1620.590173</td>\n",
       "      <td>4.463757</td>\n",
       "      <td>0.036145</td>\n",
       "    </tr>\n",
       "    <tr>\n",
       "      <td>Residual</td>\n",
       "      <td>163.0</td>\n",
       "      <td>59177.991646</td>\n",
       "      <td>363.055163</td>\n",
       "      <td>NaN</td>\n",
       "      <td>NaN</td>\n",
       "    </tr>\n",
       "  </tbody>\n",
       "</table>\n",
       "</div>"
      ],
      "text/plain": [
       "             df        sum_sq      mean_sq         F    PR(>F)\n",
       "smoking     1.0   1620.590173  1620.590173  4.463757  0.036145\n",
       "Residual  163.0  59177.991646   363.055163       NaN       NaN"
      ]
     },
     "execution_count": 383,
     "metadata": {},
     "output_type": "execute_result"
    }
   ],
   "source": [
    "lm = smf.ols('shop_dur ~ smoking', data=data).fit()\n",
    "sm.stats.anova_lm(lm, type=1)"
   ]
  },
  {
   "cell_type": "markdown",
   "metadata": {},
   "source": [
    "We can also see that customer who's smoker are intend to spend less time inside shopping. Using this insight, companies can look for ways to attract smokers customer intention, so they'll spend more time on shopping."
   ]
  },
  {
   "cell_type": "markdown",
   "metadata": {},
   "source": [
    "## 8.  \n",
    "#### shop_dur ~ daytime + sleeping_time_groups + sport_activity_groups + daytime*sleeping_time_groups + daytime*sport_activity_groups +sleeping_time_groups*sport_activity_groups"
   ]
  },
  {
   "cell_type": "code",
   "execution_count": 384,
   "metadata": {},
   "outputs": [
    {
     "name": "stdout",
     "output_type": "stream",
     "text": [
      "+------------------------+-----+------------+------------+\n",
      "| sleeping_time_groups   |   N |   shop_dur |   shop_dur |\n",
      "|                        |     |       mean |        std |\n",
      "+========================+=====+============+============+\n",
      "| 0-6                    |  42 |      31    |      16.33 |\n",
      "+------------------------+-----+------------+------------+\n",
      "| 6-9                    | 114 |      36.28 |      19.47 |\n",
      "+------------------------+-----+------------+------------+\n",
      "| 9+                     |   9 |      45.44 |      22.5  |\n",
      "+------------------------+-----+------------+------------+\n"
     ]
    }
   ],
   "source": [
    "create_1cat_table(data, 'sleeping_time_groups', 'shop_dur')"
   ]
  },
  {
   "cell_type": "markdown",
   "metadata": {},
   "source": [
    "#### Calcualate anova"
   ]
  },
  {
   "cell_type": "code",
   "execution_count": 385,
   "metadata": {},
   "outputs": [
    {
     "data": {
      "text/html": [
       "<div>\n",
       "<style scoped>\n",
       "    .dataframe tbody tr th:only-of-type {\n",
       "        vertical-align: middle;\n",
       "    }\n",
       "\n",
       "    .dataframe tbody tr th {\n",
       "        vertical-align: top;\n",
       "    }\n",
       "\n",
       "    .dataframe thead th {\n",
       "        text-align: right;\n",
       "    }\n",
       "</style>\n",
       "<table border=\"1\" class=\"dataframe\">\n",
       "  <thead>\n",
       "    <tr style=\"text-align: right;\">\n",
       "      <th></th>\n",
       "      <th>df</th>\n",
       "      <th>sum_sq</th>\n",
       "      <th>mean_sq</th>\n",
       "      <th>F</th>\n",
       "      <th>PR(&gt;F)</th>\n",
       "    </tr>\n",
       "  </thead>\n",
       "  <tbody>\n",
       "    <tr>\n",
       "      <td>daytime</td>\n",
       "      <td>2.0</td>\n",
       "      <td>406.019115</td>\n",
       "      <td>203.009558</td>\n",
       "      <td>0.573359</td>\n",
       "      <td>0.564851</td>\n",
       "    </tr>\n",
       "    <tr>\n",
       "      <td>sleeping_time_groups</td>\n",
       "      <td>2.0</td>\n",
       "      <td>1854.332747</td>\n",
       "      <td>927.166374</td>\n",
       "      <td>2.618591</td>\n",
       "      <td>0.076214</td>\n",
       "    </tr>\n",
       "    <tr>\n",
       "      <td>sport_activity_groups</td>\n",
       "      <td>1.0</td>\n",
       "      <td>562.616572</td>\n",
       "      <td>562.616572</td>\n",
       "      <td>1.588995</td>\n",
       "      <td>0.209414</td>\n",
       "    </tr>\n",
       "    <tr>\n",
       "      <td>daytime:sleeping_time_groups</td>\n",
       "      <td>4.0</td>\n",
       "      <td>1580.586276</td>\n",
       "      <td>395.146569</td>\n",
       "      <td>1.116010</td>\n",
       "      <td>0.351135</td>\n",
       "    </tr>\n",
       "    <tr>\n",
       "      <td>daytime:sport_activity_groups</td>\n",
       "      <td>2.0</td>\n",
       "      <td>964.537245</td>\n",
       "      <td>482.268622</td>\n",
       "      <td>1.362069</td>\n",
       "      <td>0.259259</td>\n",
       "    </tr>\n",
       "    <tr>\n",
       "      <td>sleeping_time_groups:sport_activity_groups</td>\n",
       "      <td>2.0</td>\n",
       "      <td>1965.813795</td>\n",
       "      <td>982.906898</td>\n",
       "      <td>2.776019</td>\n",
       "      <td>0.065468</td>\n",
       "    </tr>\n",
       "    <tr>\n",
       "      <td>Residual</td>\n",
       "      <td>151.0</td>\n",
       "      <td>53464.676068</td>\n",
       "      <td>354.070702</td>\n",
       "      <td>NaN</td>\n",
       "      <td>NaN</td>\n",
       "    </tr>\n",
       "  </tbody>\n",
       "</table>\n",
       "</div>"
      ],
      "text/plain": [
       "                                               df        sum_sq     mean_sq  \\\n",
       "daytime                                       2.0    406.019115  203.009558   \n",
       "sleeping_time_groups                          2.0   1854.332747  927.166374   \n",
       "sport_activity_groups                         1.0    562.616572  562.616572   \n",
       "daytime:sleeping_time_groups                  4.0   1580.586276  395.146569   \n",
       "daytime:sport_activity_groups                 2.0    964.537245  482.268622   \n",
       "sleeping_time_groups:sport_activity_groups    2.0   1965.813795  982.906898   \n",
       "Residual                                    151.0  53464.676068  354.070702   \n",
       "\n",
       "                                                   F    PR(>F)  \n",
       "daytime                                     0.573359  0.564851  \n",
       "sleeping_time_groups                        2.618591  0.076214  \n",
       "sport_activity_groups                       1.588995  0.209414  \n",
       "daytime:sleeping_time_groups                1.116010  0.351135  \n",
       "daytime:sport_activity_groups               1.362069  0.259259  \n",
       "sleeping_time_groups:sport_activity_groups  2.776019  0.065468  \n",
       "Residual                                         NaN       NaN  "
      ]
     },
     "execution_count": 385,
     "metadata": {},
     "output_type": "execute_result"
    }
   ],
   "source": [
    "lm = smf.ols('shop_dur ~ daytime + sleeping_time_groups + sport_activity_groups\\\n",
    "            + daytime*sleeping_time_groups + daytime*sport_activity_groups\\\n",
    "            + sleeping_time_groups*sport_activity_groups', data=data).fit()\n",
    "sm.stats.anova_lm(lm, type=1)"
   ]
  },
  {
   "cell_type": "markdown",
   "metadata": {},
   "source": [
    "Here we have calculated ANOVA response of daytime, sleeping time, sports activities number and their interaction on shopping duration. We only observed relatively significant (but not close enough to reject H0) on sleeping time group and interaction of sleeping time groups with activity groups, F value of being >0.076 and >0.654 respectively. It's aslo clear in the table above."
   ]
  },
  {
   "cell_type": "markdown",
   "metadata": {},
   "source": [
    "#### Interaction plot"
   ]
  },
  {
   "cell_type": "code",
   "execution_count": 386,
   "metadata": {},
   "outputs": [
    {
     "data": {
      "image/png": "[encoded data removed]",
      "text/plain": [
       "<Figure size 432x288 with 1 Axes>"
      ]
     },
     "execution_count": 386,
     "metadata": {},
     "output_type": "execute_result"
    },
    {
     "data": {
      "image/png": "[encoded data removed]",
      "text/plain": [
       "<Figure size 432x288 with 1 Axes>"
      ]
     },
     "metadata": {
      "needs_background": "light"
     },
     "output_type": "display_data"
    }
   ],
   "source": [
    "interaction_plot(data['sleeping_time_groups'], data['sport_activity_groups'], data['shop_dur'])"
   ]
  },
  {
   "cell_type": "markdown",
   "metadata": {},
   "source": [
    "Interaction plot suggests that people who sleep more than 9 hours and actively participate in sports activities tended to spend more time in shopping."
   ]
  },
  {
   "cell_type": "markdown",
   "metadata": {},
   "source": [
    "### 9. shop_dur ~ ex_max_groups (ex_min_groups)"
   ]
  },
  {
   "cell_type": "markdown",
   "metadata": {},
   "source": [
    "#### Calculate annova"
   ]
  },
  {
   "cell_type": "code",
   "execution_count": 430,
   "metadata": {},
   "outputs": [
    {
     "data": {
      "text/html": [
       "<div>\n",
       "<style scoped>\n",
       "    .dataframe tbody tr th:only-of-type {\n",
       "        vertical-align: middle;\n",
       "    }\n",
       "\n",
       "    .dataframe tbody tr th {\n",
       "        vertical-align: top;\n",
       "    }\n",
       "\n",
       "    .dataframe thead th {\n",
       "        text-align: right;\n",
       "    }\n",
       "</style>\n",
       "<table border=\"1\" class=\"dataframe\">\n",
       "  <thead>\n",
       "    <tr style=\"text-align: right;\">\n",
       "      <th></th>\n",
       "      <th>df</th>\n",
       "      <th>sum_sq</th>\n",
       "      <th>mean_sq</th>\n",
       "      <th>F</th>\n",
       "      <th>PR(&gt;F)</th>\n",
       "    </tr>\n",
       "  </thead>\n",
       "  <tbody>\n",
       "    <tr>\n",
       "      <td>ex_max_groups</td>\n",
       "      <td>5.0</td>\n",
       "      <td>831.254884</td>\n",
       "      <td>166.250977</td>\n",
       "      <td>0.440805</td>\n",
       "      <td>0.819471</td>\n",
       "    </tr>\n",
       "    <tr>\n",
       "      <td>Residual</td>\n",
       "      <td>159.0</td>\n",
       "      <td>59967.326934</td>\n",
       "      <td>377.153000</td>\n",
       "      <td>NaN</td>\n",
       "      <td>NaN</td>\n",
       "    </tr>\n",
       "  </tbody>\n",
       "</table>\n",
       "</div>"
      ],
      "text/plain": [
       "                  df        sum_sq     mean_sq         F    PR(>F)\n",
       "ex_max_groups    5.0    831.254884  166.250977  0.440805  0.819471\n",
       "Residual       159.0  59967.326934  377.153000       NaN       NaN"
      ]
     },
     "execution_count": 430,
     "metadata": {},
     "output_type": "execute_result"
    }
   ],
   "source": [
    "lm = smf.ols('shop_dur ~ ex_max_groups', data=data).fit()\n",
    "sm.stats.anova_lm(lm, type=1)"
   ]
  },
  {
   "cell_type": "code",
   "execution_count": 431,
   "metadata": {},
   "outputs": [
    {
     "data": {
      "text/html": [
       "<div>\n",
       "<style scoped>\n",
       "    .dataframe tbody tr th:only-of-type {\n",
       "        vertical-align: middle;\n",
       "    }\n",
       "\n",
       "    .dataframe tbody tr th {\n",
       "        vertical-align: top;\n",
       "    }\n",
       "\n",
       "    .dataframe thead th {\n",
       "        text-align: right;\n",
       "    }\n",
       "</style>\n",
       "<table border=\"1\" class=\"dataframe\">\n",
       "  <thead>\n",
       "    <tr style=\"text-align: right;\">\n",
       "      <th></th>\n",
       "      <th>df</th>\n",
       "      <th>sum_sq</th>\n",
       "      <th>mean_sq</th>\n",
       "      <th>F</th>\n",
       "      <th>PR(&gt;F)</th>\n",
       "    </tr>\n",
       "  </thead>\n",
       "  <tbody>\n",
       "    <tr>\n",
       "      <td>ex_min_groups</td>\n",
       "      <td>5.0</td>\n",
       "      <td>1228.543383</td>\n",
       "      <td>245.708677</td>\n",
       "      <td>0.655828</td>\n",
       "      <td>0.657481</td>\n",
       "    </tr>\n",
       "    <tr>\n",
       "      <td>Residual</td>\n",
       "      <td>159.0</td>\n",
       "      <td>59570.038436</td>\n",
       "      <td>374.654330</td>\n",
       "      <td>NaN</td>\n",
       "      <td>NaN</td>\n",
       "    </tr>\n",
       "  </tbody>\n",
       "</table>\n",
       "</div>"
      ],
      "text/plain": [
       "                  df        sum_sq     mean_sq         F    PR(>F)\n",
       "ex_min_groups    5.0   1228.543383  245.708677  0.655828  0.657481\n",
       "Residual       159.0  59570.038436  374.654330       NaN       NaN"
      ]
     },
     "execution_count": 431,
     "metadata": {},
     "output_type": "execute_result"
    }
   ],
   "source": [
    "lm = smf.ols('shop_dur ~ ex_min_groups', data=data).fit()\n",
    "sm.stats.anova_lm(lm, type=1)"
   ]
  },
  {
   "cell_type": "markdown",
   "metadata": {},
   "source": [
    "Annova test alone suggests that given ex_mag_groups and ex_min_groups don't show any different distribution on the response variable, thus not important for capturing necessary information."
   ]
  }
 ],
 "metadata": {
  "kernelspec": {
   "display_name": "Python 3",
   "language": "python",
   "name": "python3"
  },
  "language_info": {
   "codemirror_mode": {
    "name": "ipython",
    "version": 3
   },
   "file_extension": ".py",
   "mimetype": "text/x-python",
   "name": "python",
   "nbconvert_exporter": "python",
   "pygments_lexer": "ipython3",
   "version": "3.7.4"
  }
 },
 "nbformat": 4,
 "nbformat_minor": 2
}
