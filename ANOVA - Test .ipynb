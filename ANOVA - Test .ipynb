{
 "cells": [
  {
   "cell_type": "code",
   "execution_count": 186,
   "metadata": {},
   "outputs": [],
   "source": [
    "import pandas as pd\n",
    "import numpy as np\n",
    "from tabulate import tabulate\n",
    "from scipy import stats\n",
    "import matplotlib.pyplot as plt\n",
    "\n",
    "# import statmodels\n",
    "import statsmodels.formula.api as smf\n",
    "from statsmodels.stats.multicomp import pairwise_tukeyhsd\n",
    "from statsmodels.graphics.factorplots import interaction_plot\n",
    "import statsmodels.api as sm\n",
    "import seaborn as sns"
   ]
  },
  {
   "cell_type": "markdown",
   "metadata": {},
   "source": [
    "#### Some utulity functions"
   ]
  },
  {
   "cell_type": "code",
   "execution_count": 187,
   "metadata": {},
   "outputs": [],
   "source": [
    "def create_2cat_table(data, cat_var1, cat_var2, observation):\n",
    "    '''\n",
    "    cerate tables for anova observation\n",
    "    input: \n",
    "        data: dataset type of panda dataframe\n",
    "        cat_var1: label of first cat variable\n",
    "        cat_var2: label of second cat variable\n",
    "        observation: label of traget variable\n",
    "        \n",
    "    \n",
    "    '''\n",
    "    \n",
    "    # list for storing tabulate data\n",
    "    tabulate_list = []\n",
    "\n",
    "    # iterate over first var\n",
    "    for cat_1 in np.unique(data[cat_var1]):\n",
    "\n",
    "        sub_group=''\n",
    "        sub_len=''\n",
    "        sub_mean=''\n",
    "        sub_std=''\n",
    "\n",
    "        # iterate over second var\n",
    "        for cat_2 in np.unique(data[cat_var2]):\n",
    "\n",
    "            # get value for given cat_1 and cat_2\n",
    "            tmp_data = data[(data[cat_var1]==cat_1) & (data[cat_var2]==cat_2)][observation]\n",
    "\n",
    "            # labels\n",
    "            sub_group=sub_group+'\\n'+cat_2\n",
    "            \n",
    "            # values\n",
    "            sub_len=sub_len+'\\n'+str(len(tmp_data))\n",
    "            sub_mean=sub_mean+'\\n'+ '%.2f' % np.mean(tmp_data)\n",
    "            sub_std=sub_std+'\\n'+ '%.2f' % np.std(tmp_data)\n",
    "\n",
    "        # add to main tabulate list\n",
    "        tabulate_list.append([cat_1, sub_group, sub_len, sub_mean, sub_std,\n",
    "                             np.mean(data[data[cat_var1]==cat_1][observation]),\n",
    "                             np.std(data[data[cat_var1]==cat_1][observation])])\n",
    "\n",
    "    # print tabulate\n",
    "    print(tabulate(tabulate_list, headers=[cat_var1, cat_var2, 'N', \n",
    "                                        observation+'\\nmean', \n",
    "                                        observation+'\\nstd',\n",
    "                                        observation+'\\nmean_all', \n",
    "                                        observation+'\\nstd_all'], tablefmt='grid'))"
   ]
  },
  {
   "cell_type": "code",
   "execution_count": 188,
   "metadata": {},
   "outputs": [],
   "source": [
    "def create_1cat_table(data, cat_var1, observation):\n",
    "    '''\n",
    "    cerate tables for anova observation\n",
    "    input: \n",
    "        data: dataset type of panda dataframe\n",
    "        cat_var1: label of first cat variabl\n",
    "        observation: label of traget variable\n",
    "    '''\n",
    "    \n",
    "    # list for storing tabulate data\n",
    "    tabulate_list = []\n",
    "\n",
    "    # iterate over first var\n",
    "    for cat_1 in np.unique(data[cat_var1]):\n",
    "     \n",
    "        # get value for given cat_1 and cat_2\n",
    "        tmp_data = data[data[cat_var1]==cat_1][observation]\n",
    "\n",
    "        # add to main tabulate list\n",
    "        tabulate_list.append([cat_1, len(tmp_data), \n",
    "                              '%.2f' % np.mean(tmp_data),\n",
    "                              '%.2f' % np.std(tmp_data)])\n",
    "\n",
    "    # print tabulate\n",
    "    print(tabulate(tabulate_list, headers=[cat_var1, 'N', \n",
    "                                        observation+'\\nmean', \n",
    "                                        observation+'\\nstd'], tablefmt='grid'))"
   ]
  },
  {
   "cell_type": "code",
   "execution_count": 189,
   "metadata": {},
   "outputs": [],
   "source": [
    "def independence_test(lm):\n",
    "    '''\n",
    "    gets fitted lm model and plot residuals vs fitted valuesfor checking\n",
    "    independence\n",
    "    '''\n",
    "    \n",
    "    fig = plt.figure()\n",
    "\n",
    "    fig.axes[0] = sns.residplot(lm.fittedvalues, lm.resid,\n",
    "                          lowess=True,\n",
    "                          scatter_kws={'alpha': 0.5},\n",
    "                          line_kws={'color': 'red', 'lw': 1, 'alpha': 0.8})\n",
    "\n",
    "    fig.axes[0].set_title('Residuals vs Fitted')\n",
    "    fig.axes[0].set_xlabel('Fitted values')\n",
    "    fig.axes[0].set_ylabel('Residuals')"
   ]
  },
  {
   "cell_type": "markdown",
   "metadata": {},
   "source": [
    "## Load data"
   ]
  },
  {
   "cell_type": "code",
   "execution_count": 222,
   "metadata": {},
   "outputs": [
    {
     "data": {
      "text/plain": [
       "Index(['Id', 'age', 'gender', 'BMI', 'sleeping_time',\n",
       "       'sporting_activity_(h/week)', 'daytime', 'outdoor_temperature',\n",
       "       'shopping_cart', 'attendants', 'shopping_frequency', 'cash_point',\n",
       "       'shopping_amount', 'weekday', 'smoking', 'ex_max', 'ex_min', 'hr_max',\n",
       "       'max_time', 'hr_min', 'min_time', 'shopping duration (in minutes)',\n",
       "       'reaching HRmax'],\n",
       "      dtype='object')"
      ]
     },
     "execution_count": 222,
     "metadata": {},
     "output_type": "execute_result"
    }
   ],
   "source": [
    "# load data\n",
    "data = pd.read_csv ('Dataset_heart rate_retail stores.csv')\n",
    "\n",
    "data.columns"
   ]
  },
  {
   "cell_type": "code",
   "execution_count": 223,
   "metadata": {},
   "outputs": [],
   "source": [
    "# raname shopping duration (in minutes) for easy handling\n",
    "data=data.rename(columns = {'shopping duration (in minutes)':'shop_dur'})"
   ]
  },
  {
   "cell_type": "code",
   "execution_count": 224,
   "metadata": {},
   "outputs": [
    {
     "data": {
      "text/plain": [
       "array(['bag full', 'heavy', 'less', 'normal'], dtype=object)"
      ]
     },
     "execution_count": 224,
     "metadata": {},
     "output_type": "execute_result"
    }
   ],
   "source": [
    "np.unique(data['shopping_amount'])"
   ]
  },
  {
   "cell_type": "markdown",
   "metadata": {},
   "source": [
    "## Create categorical vars\n",
    "\n",
    "For doing ANOVA test, we need some group variable. Here we'll create new categorical variables from exsisting onee for this purpose.\n",
    "\n",
    "#### But fist remove the siginificant outliers in shoping durations"
   ]
  },
  {
   "cell_type": "code",
   "execution_count": 225,
   "metadata": {},
   "outputs": [
    {
     "data": {
      "image/png": "[encoded data removed]",
      "text/plain": [
       "<Figure size 432x288 with 1 Axes>"
      ]
     },
     "metadata": {
      "needs_background": "light"
     },
     "output_type": "display_data"
    }
   ],
   "source": [
    "plt.boxplot(x=data['shop_dur'])\n",
    "plt.show()"
   ]
  },
  {
   "cell_type": "code",
   "execution_count": 226,
   "metadata": {},
   "outputs": [],
   "source": [
    "Q1 = data['shop_dur'].quantile(0.25)\n",
    "Q3 = data['shop_dur'].quantile(0.75)\n",
    "IQR = Q3 - Q1\n",
    "lower_bound = Q1 - 1.5 * IQR\n",
    "upper_bound = Q3 + 1.5 * IQR"
   ]
  },
  {
   "cell_type": "code",
   "execution_count": 227,
   "metadata": {},
   "outputs": [
    {
     "data": {
      "text/plain": [
       "17     90\n",
       "25     89\n",
       "96     84\n",
       "120    98\n",
       "121    93\n",
       "Name: shop_dur, dtype: int64"
      ]
     },
     "execution_count": 227,
     "metadata": {},
     "output_type": "execute_result"
    }
   ],
   "source": [
    "# significant outiers\n",
    "data[(data['shop_dur']<lower_bound) | (data['shop_dur']>upper_bound)]['shop_dur']"
   ]
  },
  {
   "cell_type": "code",
   "execution_count": 228,
   "metadata": {},
   "outputs": [],
   "source": [
    "data.drop(data[(data['shop_dur'] > upper_bound) | (data['shop_dur'] < lower_bound) ].index , inplace=True)"
   ]
  },
  {
   "cell_type": "code",
   "execution_count": 229,
   "metadata": {},
   "outputs": [
    {
     "data": {
      "image/png": "[encoded data removed]",
      "text/plain": [
       "<Figure size 432x288 with 1 Axes>"
      ]
     },
     "metadata": {
      "needs_background": "light"
     },
     "output_type": "display_data"
    }
   ],
   "source": [
    "plt.boxplot(x=data['shop_dur'])\n",
    "plt.show()"
   ]
  },
  {
   "cell_type": "code",
   "execution_count": 230,
   "metadata": {},
   "outputs": [
    {
     "data": {
      "text/plain": [
       "(29.0, 40.0]      44\n",
       "(17.999, 29.0]    41\n",
       "(52.0, 72.0]      38\n",
       "(40.0, 52.0]      37\n",
       "Name: age_groups, dtype: int64"
      ]
     },
     "execution_count": 230,
     "metadata": {},
     "output_type": "execute_result"
    }
   ],
   "source": [
    "# make new categorical data\n",
    "data['age_groups'] = pd.qcut(data['age'], q=4)\n",
    "\n",
    "# factor data\n",
    "data['age_groups'] = data['age_groups'].astype(str)\n",
    "\n",
    "data['age_groups'].value_counts()"
   ]
  },
  {
   "cell_type": "markdown",
   "metadata": {},
   "source": [
    "#### 2. for outdoor_temperature"
   ]
  },
  {
   "cell_type": "code",
   "execution_count": 231,
   "metadata": {},
   "outputs": [
    {
     "data": {
      "text/plain": [
       "(11.999, 18.0]    49\n",
       "(21.0, 23.0]      38\n",
       "(23.0, 28.0]      38\n",
       "(18.0, 21.0]      35\n",
       "Name: out_t_groups, dtype: int64"
      ]
     },
     "execution_count": 231,
     "metadata": {},
     "output_type": "execute_result"
    }
   ],
   "source": [
    "# make new categorical data\n",
    "data['out_t_groups'] = pd.qcut(data['outdoor_temperature'], q=4)\n",
    "\n",
    "# factorize data\n",
    "data['out_t_groups'] = data['out_t_groups'].astype(str)\n",
    "\n",
    "data['out_t_groups'].value_counts()"
   ]
  },
  {
   "cell_type": "markdown",
   "metadata": {},
   "source": [
    "#### 3. for sporting_activity_(h/week)"
   ]
  },
  {
   "cell_type": "code",
   "execution_count": 232,
   "metadata": {},
   "outputs": [
    {
     "data": {
      "text/plain": [
       "(-0.001, 1.0]    54\n",
       "(2.0, 4.0]       42\n",
       "(4.0, 14.0]      36\n",
       "(1.0, 2.0]       28\n",
       "Name: sport_activity_groups, dtype: int64"
      ]
     },
     "execution_count": 232,
     "metadata": {},
     "output_type": "execute_result"
    }
   ],
   "source": [
    "# make new categorical data\n",
    "data['sport_activity_groups'] = pd.qcut(data['sporting_activity_(h/week)'], q=4)\n",
    "\n",
    "# factorize data\n",
    "data['sport_activity_groups'] = data['sport_activity_groups'].astype(str)\n",
    "\n",
    "data['sport_activity_groups'].value_counts()"
   ]
  },
  {
   "cell_type": "markdown",
   "metadata": {},
   "source": [
    "#### 4. for sleeping_time"
   ]
  },
  {
   "cell_type": "code",
   "execution_count": 233,
   "metadata": {},
   "outputs": [
    {
     "data": {
      "text/plain": [
       "(7.0, 8.0]      50\n",
       "(6.0, 7.0]      47\n",
       "(2.999, 6.0]    41\n",
       "(8.0, 12.0]     22\n",
       "Name: sleeping_time_groups, dtype: int64"
      ]
     },
     "execution_count": 233,
     "metadata": {},
     "output_type": "execute_result"
    }
   ],
   "source": [
    "# make new categorical data\n",
    "data['sleeping_time_groups'] = pd.qcut(data['sleeping_time'], q=4)\n",
    "\n",
    "# factorize data\n",
    "data['sleeping_time_groups'] = data['sleeping_time_groups'].astype(str)\n",
    "\n",
    "data['sleeping_time_groups'].value_counts()"
   ]
  },
  {
   "cell_type": "markdown",
   "metadata": {},
   "source": [
    "#### 5. for ex_max"
   ]
  },
  {
   "cell_type": "code",
   "execution_count": 234,
   "metadata": {},
   "outputs": [
    {
     "data": {
      "text/plain": [
       "(106.0, 116.0]     41\n",
       "(69.999, 106.0]    41\n",
       "(124.25, 148.0]    40\n",
       "(116.0, 124.25]    38\n",
       "Name: ex_max_groups, dtype: int64"
      ]
     },
     "execution_count": 234,
     "metadata": {},
     "output_type": "execute_result"
    }
   ],
   "source": [
    "# make new categorical data\n",
    "data['ex_max_groups'] = pd.qcut(data['ex_max'], q=4)\n",
    "\n",
    "# factorize data\n",
    "data['ex_max_groups'] = data['ex_max_groups'].astype(str)\n",
    "\n",
    "data['ex_max_groups'].value_counts()"
   ]
  },
  {
   "cell_type": "markdown",
   "metadata": {},
   "source": [
    "#### 6. for ex_min"
   ]
  },
  {
   "cell_type": "code",
   "execution_count": 235,
   "metadata": {},
   "outputs": [
    {
     "data": {
      "text/plain": [
       "(43.999, 65.0]    44\n",
       "(80.25, 120.0]    40\n",
       "(65.0, 72.0]      38\n",
       "(72.0, 80.25]     38\n",
       "Name: ex_min_groups, dtype: int64"
      ]
     },
     "execution_count": 235,
     "metadata": {},
     "output_type": "execute_result"
    }
   ],
   "source": [
    "# make new categorical data\n",
    "data['ex_min_groups'] = pd.qcut(data['ex_min'], q=4)\n",
    "\n",
    "# factorize data\n",
    "data['ex_min_groups'] = data['ex_min_groups'].astype(str)\n",
    "\n",
    "data['ex_min_groups'].value_counts()"
   ]
  },
  {
   "cell_type": "markdown",
   "metadata": {},
   "source": [
    "#### 7. for max_time"
   ]
  },
  {
   "cell_type": "code",
   "execution_count": 236,
   "metadata": {},
   "outputs": [
    {
     "data": {
      "text/plain": [
       "(0.999, 8.0]    43\n",
       "(16.5, 31.0]    41\n",
       "(31.0, 74.0]    39\n",
       "(8.0, 16.5]     37\n",
       "Name: max_time_groups, dtype: int64"
      ]
     },
     "execution_count": 236,
     "metadata": {},
     "output_type": "execute_result"
    }
   ],
   "source": [
    "# make new categorical data\n",
    "data['max_time_groups'] = pd.qcut(data['max_time'], q=4)\n",
    "\n",
    "# factorize data\n",
    "data['max_time_groups'] = data['max_time_groups'].astype(str)\n",
    "\n",
    "data['max_time_groups'].value_counts()"
   ]
  },
  {
   "cell_type": "markdown",
   "metadata": {},
   "source": [
    "#### 8. for max_time"
   ]
  },
  {
   "cell_type": "code",
   "execution_count": 237,
   "metadata": {},
   "outputs": [
    {
     "data": {
      "text/plain": [
       "(0.999, 6.0]     43\n",
       "(13.0, 23.0]     42\n",
       "(6.0, 13.0]      38\n",
       "(23.0, 150.0]    37\n",
       "Name: min_time_groups, dtype: int64"
      ]
     },
     "execution_count": 237,
     "metadata": {},
     "output_type": "execute_result"
    }
   ],
   "source": [
    "# make new categorical data\n",
    "data['min_time_groups'] = pd.qcut(data['min_time'], q=4)\n",
    "\n",
    "# factorize data\n",
    "data['min_time_groups'] = data['min_time_groups'].astype(str)\n",
    "\n",
    "data['min_time_groups'].value_counts()"
   ]
  },
  {
   "cell_type": "markdown",
   "metadata": {},
   "source": [
    "#### Check the distribution of traget data"
   ]
  },
  {
   "cell_type": "code",
   "execution_count": 238,
   "metadata": {
    "scrolled": false
   },
   "outputs": [
    {
     "data": {
      "image/png": "[encoded data removed]",
      "text/plain": [
       "<Figure size 432x288 with 1 Axes>"
      ]
     },
     "metadata": {
      "needs_background": "light"
     },
     "output_type": "display_data"
    },
    {
     "data": {
      "text/plain": [
       "<matplotlib.axes._subplots.AxesSubplot at 0x19f5aa11e08>"
      ]
     },
     "execution_count": 238,
     "metadata": {},
     "output_type": "execute_result"
    },
    {
     "data": {
      "image/png": "[encoded data removed]",
      "text/plain": [
       "<Figure size 432x288 with 1 Axes>"
      ]
     },
     "metadata": {
      "needs_background": "light"
     },
     "output_type": "display_data"
    }
   ],
   "source": [
    "# BEFORE TRANSFORMATION\n",
    "plt.hist(data['shop_dur'])\n",
    "plt.show()\n",
    "\n",
    "sns.kdeplot(data['shop_dur'], cumulative=False, bw=2)"
   ]
  },
  {
   "cell_type": "markdown",
   "metadata": {},
   "source": [
    "As we can see our traget data don't follow the normal distribution, so we've to apply gaussian transfromation on our data for making it valible for anova test."
   ]
  },
  {
   "cell_type": "code",
   "execution_count": 239,
   "metadata": {},
   "outputs": [
    {
     "data": {
      "image/png": "[encoded data removed]",
      "text/plain": [
       "<Figure size 432x288 with 1 Axes>"
      ]
     },
     "metadata": {
      "needs_background": "light"
     },
     "output_type": "display_data"
    },
    {
     "data": {
      "text/plain": [
       "<matplotlib.axes._subplots.AxesSubplot at 0x19f5d191d88>"
      ]
     },
     "execution_count": 239,
     "metadata": {},
     "output_type": "execute_result"
    },
    {
     "data": {
      "image/png": "[encoded data removed]",
      "text/plain": [
       "<Figure size 432x288 with 1 Axes>"
      ]
     },
     "metadata": {
      "needs_background": "light"
     },
     "output_type": "display_data"
    }
   ],
   "source": [
    "# gaussian transformation\n",
    "data['shop_dur'], fitted_lambda = stats.boxcox(data['shop_dur'])\n",
    "\n",
    "\n",
    "# AFTER TRANSFORMATION\n",
    "plt.hist(data['shop_dur'])\n",
    "plt.show()\n",
    "\n",
    "# plot after transformation\n",
    "sns.kdeplot(data['shop_dur'], cumulative=False, bw=2)"
   ]
  },
  {
   "cell_type": "code",
   "execution_count": 240,
   "metadata": {},
   "outputs": [
    {
     "data": {
      "text/html": [
       "<div>\n",
       "<style scoped>\n",
       "    .dataframe tbody tr th:only-of-type {\n",
       "        vertical-align: middle;\n",
       "    }\n",
       "\n",
       "    .dataframe tbody tr th {\n",
       "        vertical-align: top;\n",
       "    }\n",
       "\n",
       "    .dataframe thead th {\n",
       "        text-align: right;\n",
       "    }\n",
       "</style>\n",
       "<table border=\"1\" class=\"dataframe\">\n",
       "  <thead>\n",
       "    <tr style=\"text-align: right;\">\n",
       "      <th></th>\n",
       "      <th>Id</th>\n",
       "      <th>age</th>\n",
       "      <th>gender</th>\n",
       "      <th>BMI</th>\n",
       "      <th>sleeping_time</th>\n",
       "      <th>sporting_activity_(h/week)</th>\n",
       "      <th>daytime</th>\n",
       "      <th>outdoor_temperature</th>\n",
       "      <th>shopping_cart</th>\n",
       "      <th>attendants</th>\n",
       "      <th>...</th>\n",
       "      <th>shop_dur</th>\n",
       "      <th>reaching HRmax</th>\n",
       "      <th>age_groups</th>\n",
       "      <th>out_t_groups</th>\n",
       "      <th>sport_activity_groups</th>\n",
       "      <th>sleeping_time_groups</th>\n",
       "      <th>ex_max_groups</th>\n",
       "      <th>ex_min_groups</th>\n",
       "      <th>max_time_groups</th>\n",
       "      <th>min_time_groups</th>\n",
       "    </tr>\n",
       "  </thead>\n",
       "  <tbody>\n",
       "    <tr>\n",
       "      <td>0</td>\n",
       "      <td>1</td>\n",
       "      <td>55</td>\n",
       "      <td>female</td>\n",
       "      <td>30.0</td>\n",
       "      <td>7.0</td>\n",
       "      <td>2.0</td>\n",
       "      <td>noon</td>\n",
       "      <td>23</td>\n",
       "      <td>no</td>\n",
       "      <td>no</td>\n",
       "      <td>...</td>\n",
       "      <td>4.237883</td>\n",
       "      <td>0</td>\n",
       "      <td>(52.0, 72.0]</td>\n",
       "      <td>(21.0, 23.0]</td>\n",
       "      <td>(1.0, 2.0]</td>\n",
       "      <td>(6.0, 7.0]</td>\n",
       "      <td>(106.0, 116.0]</td>\n",
       "      <td>(65.0, 72.0]</td>\n",
       "      <td>(0.999, 8.0]</td>\n",
       "      <td>(0.999, 6.0]</td>\n",
       "    </tr>\n",
       "    <tr>\n",
       "      <td>1</td>\n",
       "      <td>2</td>\n",
       "      <td>25</td>\n",
       "      <td>female</td>\n",
       "      <td>18.4</td>\n",
       "      <td>9.0</td>\n",
       "      <td>1.0</td>\n",
       "      <td>noon</td>\n",
       "      <td>23</td>\n",
       "      <td>yes</td>\n",
       "      <td>no</td>\n",
       "      <td>...</td>\n",
       "      <td>6.666634</td>\n",
       "      <td>0</td>\n",
       "      <td>(17.999, 29.0]</td>\n",
       "      <td>(21.0, 23.0]</td>\n",
       "      <td>(-0.001, 1.0]</td>\n",
       "      <td>(8.0, 12.0]</td>\n",
       "      <td>(106.0, 116.0]</td>\n",
       "      <td>(80.25, 120.0]</td>\n",
       "      <td>(16.5, 31.0]</td>\n",
       "      <td>(13.0, 23.0]</td>\n",
       "    </tr>\n",
       "    <tr>\n",
       "      <td>2</td>\n",
       "      <td>3</td>\n",
       "      <td>38</td>\n",
       "      <td>male</td>\n",
       "      <td>25.1</td>\n",
       "      <td>5.0</td>\n",
       "      <td>3.0</td>\n",
       "      <td>noon</td>\n",
       "      <td>23</td>\n",
       "      <td>no</td>\n",
       "      <td>no</td>\n",
       "      <td>...</td>\n",
       "      <td>6.379210</td>\n",
       "      <td>0</td>\n",
       "      <td>(29.0, 40.0]</td>\n",
       "      <td>(21.0, 23.0]</td>\n",
       "      <td>(2.0, 4.0]</td>\n",
       "      <td>(2.999, 6.0]</td>\n",
       "      <td>(106.0, 116.0]</td>\n",
       "      <td>(72.0, 80.25]</td>\n",
       "      <td>(16.5, 31.0]</td>\n",
       "      <td>(13.0, 23.0]</td>\n",
       "    </tr>\n",
       "    <tr>\n",
       "      <td>3</td>\n",
       "      <td>4</td>\n",
       "      <td>21</td>\n",
       "      <td>female</td>\n",
       "      <td>22.6</td>\n",
       "      <td>8.0</td>\n",
       "      <td>0.0</td>\n",
       "      <td>evening</td>\n",
       "      <td>23</td>\n",
       "      <td>yes</td>\n",
       "      <td>family</td>\n",
       "      <td>...</td>\n",
       "      <td>9.002889</td>\n",
       "      <td>0</td>\n",
       "      <td>(17.999, 29.0]</td>\n",
       "      <td>(21.0, 23.0]</td>\n",
       "      <td>(-0.001, 1.0]</td>\n",
       "      <td>(7.0, 8.0]</td>\n",
       "      <td>(124.25, 148.0]</td>\n",
       "      <td>(43.999, 65.0]</td>\n",
       "      <td>(16.5, 31.0]</td>\n",
       "      <td>(23.0, 150.0]</td>\n",
       "    </tr>\n",
       "    <tr>\n",
       "      <td>4</td>\n",
       "      <td>5</td>\n",
       "      <td>30</td>\n",
       "      <td>female</td>\n",
       "      <td>21.7</td>\n",
       "      <td>12.0</td>\n",
       "      <td>10.0</td>\n",
       "      <td>evening</td>\n",
       "      <td>23</td>\n",
       "      <td>yes</td>\n",
       "      <td>life partner</td>\n",
       "      <td>...</td>\n",
       "      <td>8.488149</td>\n",
       "      <td>1</td>\n",
       "      <td>(29.0, 40.0]</td>\n",
       "      <td>(21.0, 23.0]</td>\n",
       "      <td>(4.0, 14.0]</td>\n",
       "      <td>(8.0, 12.0]</td>\n",
       "      <td>(106.0, 116.0]</td>\n",
       "      <td>(43.999, 65.0]</td>\n",
       "      <td>(31.0, 74.0]</td>\n",
       "      <td>(13.0, 23.0]</td>\n",
       "    </tr>\n",
       "  </tbody>\n",
       "</table>\n",
       "<p>5 rows × 31 columns</p>\n",
       "</div>"
      ],
      "text/plain": [
       "   Id  age  gender   BMI  sleeping_time  sporting_activity_(h/week)  daytime  \\\n",
       "0   1   55  female  30.0            7.0                         2.0     noon   \n",
       "1   2   25  female  18.4            9.0                         1.0     noon   \n",
       "2   3   38    male  25.1            5.0                         3.0     noon   \n",
       "3   4   21  female  22.6            8.0                         0.0  evening   \n",
       "4   5   30  female  21.7           12.0                        10.0  evening   \n",
       "\n",
       "   outdoor_temperature shopping_cart    attendants  ...  shop_dur  \\\n",
       "0                   23            no            no  ...  4.237883   \n",
       "1                   23           yes            no  ...  6.666634   \n",
       "2                   23            no            no  ...  6.379210   \n",
       "3                   23           yes        family  ...  9.002889   \n",
       "4                   23           yes  life partner  ...  8.488149   \n",
       "\n",
       "  reaching HRmax      age_groups  out_t_groups  sport_activity_groups  \\\n",
       "0              0    (52.0, 72.0]  (21.0, 23.0]             (1.0, 2.0]   \n",
       "1              0  (17.999, 29.0]  (21.0, 23.0]          (-0.001, 1.0]   \n",
       "2              0    (29.0, 40.0]  (21.0, 23.0]             (2.0, 4.0]   \n",
       "3              0  (17.999, 29.0]  (21.0, 23.0]          (-0.001, 1.0]   \n",
       "4              1    (29.0, 40.0]  (21.0, 23.0]            (4.0, 14.0]   \n",
       "\n",
       "   sleeping_time_groups    ex_max_groups   ex_min_groups  max_time_groups  \\\n",
       "0            (6.0, 7.0]   (106.0, 116.0]    (65.0, 72.0]     (0.999, 8.0]   \n",
       "1           (8.0, 12.0]   (106.0, 116.0]  (80.25, 120.0]     (16.5, 31.0]   \n",
       "2          (2.999, 6.0]   (106.0, 116.0]   (72.0, 80.25]     (16.5, 31.0]   \n",
       "3            (7.0, 8.0]  (124.25, 148.0]  (43.999, 65.0]     (16.5, 31.0]   \n",
       "4           (8.0, 12.0]   (106.0, 116.0]  (43.999, 65.0]     (31.0, 74.0]   \n",
       "\n",
       "   min_time_groups  \n",
       "0     (0.999, 6.0]  \n",
       "1     (13.0, 23.0]  \n",
       "2     (13.0, 23.0]  \n",
       "3    (23.0, 150.0]  \n",
       "4     (13.0, 23.0]  \n",
       "\n",
       "[5 rows x 31 columns]"
      ]
     },
     "execution_count": 240,
     "metadata": {},
     "output_type": "execute_result"
    }
   ],
   "source": [
    "data.head()"
   ]
  },
  {
   "cell_type": "markdown",
   "metadata": {},
   "source": [
    "# ANOVA\n",
    "\n",
    "We've already removed outliers in our target data, which is the first assumption of the ANOVA test. During the test we'll test below assumptions.\n",
    "1. The data for each factor level is normally distributed\n",
    "2. Independence of factors.\n",
    "3. Homogeneity of variance: Homogeneity means that the variance among the groups should be approximately equal\n",
    "\n",
    "After assumptions validaiton we'll carry out various ANOVA tests on different group values. Moreover, we'll also try to make some inferences based on ANOVA test."
   ]
  },
  {
   "cell_type": "markdown",
   "metadata": {},
   "source": [
    "# 1. shop_dur ~ age_groups + gender + age_groups*gender "
   ]
  },
  {
   "cell_type": "code",
   "execution_count": 241,
   "metadata": {},
   "outputs": [
    {
     "name": "stdout",
     "output_type": "stream",
     "text": [
      "+----------------+----------+-----+------------+------------+------------+------------+\n",
      "| age_groups     | gender   | N   | shop_dur   | shop_dur   |   shop_dur |   shop_dur |\n",
      "|                |          |     | mean       | std        |   mean_all |    std_all |\n",
      "+================+==========+=====+============+============+============+============+\n",
      "| (17.999, 29.0] | female   | 22  | 8.00       | 2.31       |    7.80943 |    2.34161 |\n",
      "|                | male     | 19  | 7.59       | 2.36       |            |            |\n",
      "+----------------+----------+-----+------------+------------+------------+------------+\n",
      "| (29.0, 40.0]   | female   | 22  | 7.32       | 1.96       |    7.34168 |    1.89317 |\n",
      "|                | male     | 22  | 7.36       | 1.83       |            |            |\n",
      "+----------------+----------+-----+------------+------------+------------+------------+\n",
      "| (40.0, 52.0]   | female   | 22  | 7.48       | 1.93       |    7.14851 |    1.87119 |\n",
      "|                | male     | 15  | 6.66       | 1.67       |            |            |\n",
      "+----------------+----------+-----+------------+------------+------------+------------+\n",
      "| (52.0, 72.0]   | female   | 19  | 6.97       | 1.99       |    7.05579 |    1.97971 |\n",
      "|                | male     | 19  | 7.15       | 1.97       |            |            |\n",
      "+----------------+----------+-----+------------+------------+------------+------------+\n"
     ]
    }
   ],
   "source": [
    "create_2cat_table(data, 'age_groups', 'gender', 'shop_dur')"
   ]
  },
  {
   "cell_type": "code",
   "execution_count": 242,
   "metadata": {},
   "outputs": [],
   "source": [
    "lm = smf.ols('shop_dur ~ age_groups + gender + age_groups*gender', data=data).fit()"
   ]
  },
  {
   "cell_type": "markdown",
   "metadata": {},
   "source": [
    "### Independence of varaibles and homogenity"
   ]
  },
  {
   "cell_type": "code",
   "execution_count": 243,
   "metadata": {},
   "outputs": [
    {
     "data": {
      "image/png": "[encoded data removed]",
      "text/plain": [
       "<Figure size 432x288 with 1 Axes>"
      ]
     },
     "metadata": {
      "needs_background": "light"
     },
     "output_type": "display_data"
    }
   ],
   "source": [
    "independence_test(lm)"
   ]
  },
  {
   "cell_type": "markdown",
   "metadata": {},
   "source": [
    "This plot shows the residuals (errors) on the y-axis and the fitted values (predicted values) on the x-axis. We can see that plot has no pattern or in other words each goup has same variance, thus the points should look like a more of random points. The plot spoints out that the variances are approximately homogenous since the residuals are distributed approximately equally above and below zero."
   ]
  },
  {
   "cell_type": "markdown",
   "metadata": {},
   "source": [
    "### Shaprio-Wild test//qq plot to check the normal distribution of residuals"
   ]
  },
  {
   "cell_type": "code",
   "execution_count": 244,
   "metadata": {},
   "outputs": [
    {
     "data": {
      "image/png": "[encoded data removed]",
      "text/plain": [
       "<Figure size 432x288 with 1 Axes>"
      ]
     },
     "metadata": {
      "needs_background": "light"
     },
     "output_type": "display_data"
    }
   ],
   "source": [
    "fig = sm.qqplot(lm.resid, line='s')\n",
    "plt.show()"
   ]
  },
  {
   "cell_type": "code",
   "execution_count": 245,
   "metadata": {},
   "outputs": [
    {
     "name": "stdout",
     "output_type": "stream",
     "text": [
      "p-values 0.2378\n"
     ]
    }
   ],
   "source": [
    "_, p = stats.shapiro(lm.resid)\n",
    "print('p-values %.4f' % p)"
   ]
  },
  {
   "cell_type": "markdown",
   "metadata": {},
   "source": [
    "As the p-value > 0.2378 is significant, we reject null hypothesis and conclude that residuals are normally distributed."
   ]
  },
  {
   "cell_type": "markdown",
   "metadata": {},
   "source": [
    "### Calculate anova\n",
    "\n",
    "As the assumptions of anova meet, now we can calculate it."
   ]
  },
  {
   "cell_type": "code",
   "execution_count": 246,
   "metadata": {},
   "outputs": [
    {
     "data": {
      "text/html": [
       "<div>\n",
       "<style scoped>\n",
       "    .dataframe tbody tr th:only-of-type {\n",
       "        vertical-align: middle;\n",
       "    }\n",
       "\n",
       "    .dataframe tbody tr th {\n",
       "        vertical-align: top;\n",
       "    }\n",
       "\n",
       "    .dataframe thead th {\n",
       "        text-align: right;\n",
       "    }\n",
       "</style>\n",
       "<table border=\"1\" class=\"dataframe\">\n",
       "  <thead>\n",
       "    <tr style=\"text-align: right;\">\n",
       "      <th></th>\n",
       "      <th>df</th>\n",
       "      <th>sum_sq</th>\n",
       "      <th>mean_sq</th>\n",
       "      <th>F</th>\n",
       "      <th>PR(&gt;F)</th>\n",
       "    </tr>\n",
       "  </thead>\n",
       "  <tbody>\n",
       "    <tr>\n",
       "      <td>age_groups</td>\n",
       "      <td>3.0</td>\n",
       "      <td>13.448326</td>\n",
       "      <td>4.482775</td>\n",
       "      <td>1.043450</td>\n",
       "      <td>0.375168</td>\n",
       "    </tr>\n",
       "    <tr>\n",
       "      <td>gender</td>\n",
       "      <td>1.0</td>\n",
       "      <td>2.187289</td>\n",
       "      <td>2.187289</td>\n",
       "      <td>0.509132</td>\n",
       "      <td>0.476609</td>\n",
       "    </tr>\n",
       "    <tr>\n",
       "      <td>age_groups:gender</td>\n",
       "      <td>3.0</td>\n",
       "      <td>5.795144</td>\n",
       "      <td>1.931715</td>\n",
       "      <td>0.449643</td>\n",
       "      <td>0.717914</td>\n",
       "    </tr>\n",
       "    <tr>\n",
       "      <td>Residual</td>\n",
       "      <td>152.0</td>\n",
       "      <td>653.008888</td>\n",
       "      <td>4.296111</td>\n",
       "      <td>NaN</td>\n",
       "      <td>NaN</td>\n",
       "    </tr>\n",
       "  </tbody>\n",
       "</table>\n",
       "</div>"
      ],
      "text/plain": [
       "                      df      sum_sq   mean_sq         F    PR(>F)\n",
       "age_groups           3.0   13.448326  4.482775  1.043450  0.375168\n",
       "gender               1.0    2.187289  2.187289  0.509132  0.476609\n",
       "age_groups:gender    3.0    5.795144  1.931715  0.449643  0.717914\n",
       "Residual           152.0  653.008888  4.296111       NaN       NaN"
      ]
     },
     "execution_count": 246,
     "metadata": {},
     "output_type": "execute_result"
    }
   ],
   "source": [
    "sm.stats.anova_lm(lm, type=2)"
   ]
  },
  {
   "cell_type": "markdown",
   "metadata": {},
   "source": [
    "As we can see from the PR(>F) values, n-Anova test doesn't suggest a significant difference between the effects of age_groups and gender on shopping duration. Also, we can see from the interaction term that the interaction of given factors don't have a significant effect on the response var. "
   ]
  },
  {
   "cell_type": "markdown",
   "metadata": {},
   "source": [
    "#### Interaction plot"
   ]
  },
  {
   "cell_type": "code",
   "execution_count": 247,
   "metadata": {},
   "outputs": [
    {
     "data": {
      "image/png": "[encoded data removed]",
      "text/plain": [
       "<Figure size 432x288 with 1 Axes>"
      ]
     },
     "execution_count": 247,
     "metadata": {},
     "output_type": "execute_result"
    },
    {
     "data": {
      "image/png": "[encoded data removed]",
      "text/plain": [
       "<Figure size 432x288 with 1 Axes>"
      ]
     },
     "metadata": {
      "needs_background": "light"
     },
     "output_type": "display_data"
    }
   ],
   "source": [
    "interaction_plot(data['age_groups'], data['gender'], data['shop_dur'])"
   ]
  },
  {
   "cell_type": "markdown",
   "metadata": {},
   "source": [
    "Although general interaction is not significant, we can still see the relatively some difference between genders on [40, 52] age groups. This explains that female customers of this age grup spend more time in shopping and they have an impact on the males shopping duration."
   ]
  },
  {
   "cell_type": "markdown",
   "metadata": {},
   "source": [
    "## 2. shop_dur ~ age_groups"
   ]
  },
  {
   "cell_type": "code",
   "execution_count": 279,
   "metadata": {},
   "outputs": [
    {
     "name": "stdout",
     "output_type": "stream",
     "text": [
      "+----------------+-----+------------+------------+\n",
      "| age_groups     |   N |   shop_dur |   shop_dur |\n",
      "|                |     |       mean |        std |\n",
      "+================+=====+============+============+\n",
      "| (17.999, 29.0] |  41 |       7.81 |       2.34 |\n",
      "+----------------+-----+------------+------------+\n",
      "| (29.0, 40.0]   |  44 |       7.34 |       1.89 |\n",
      "+----------------+-----+------------+------------+\n",
      "| (40.0, 52.0]   |  37 |       7.15 |       1.87 |\n",
      "+----------------+-----+------------+------------+\n",
      "| (52.0, 72.0]   |  38 |       7.06 |       1.98 |\n",
      "+----------------+-----+------------+------------+\n"
     ]
    }
   ],
   "source": [
    "create_1cat_table(data, 'age_groups', 'shop_dur')"
   ]
  },
  {
   "cell_type": "code",
   "execution_count": 280,
   "metadata": {},
   "outputs": [],
   "source": [
    "lm = smf.ols('shop_dur ~ age_groups', data=data).fit()"
   ]
  },
  {
   "cell_type": "markdown",
   "metadata": {},
   "source": [
    "### Independence of varaibles"
   ]
  },
  {
   "cell_type": "code",
   "execution_count": 281,
   "metadata": {},
   "outputs": [
    {
     "data": {
      "image/png": "[encoded data removed]",
      "text/plain": [
       "<Figure size 432x288 with 1 Axes>"
      ]
     },
     "metadata": {
      "needs_background": "light"
     },
     "output_type": "display_data"
    }
   ],
   "source": [
    "independence_test(lm)"
   ]
  },
  {
   "cell_type": "markdown",
   "metadata": {},
   "source": [
    "This plot shows the residuals (errors) on the y-axis and the fitted values (predicted values) on the x-axis. We can see that plot is randomly distributed, this is independent. We can see that plot has no pattern or in other words each goup has same variance, thus the points should look like a more of random points."
   ]
  },
  {
   "cell_type": "markdown",
   "metadata": {},
   "source": [
    "### Homogenity test"
   ]
  },
  {
   "cell_type": "code",
   "execution_count": 282,
   "metadata": {},
   "outputs": [
    {
     "name": "stdout",
     "output_type": "stream",
     "text": [
      "['(17.999, 29.0]' '(29.0, 40.0]' '(40.0, 52.0]' '(52.0, 72.0]']\n"
     ]
    }
   ],
   "source": [
    "groups = np.unique(data['age_groups'])\n",
    "print(groups)"
   ]
  },
  {
   "cell_type": "code",
   "execution_count": 283,
   "metadata": {},
   "outputs": [
    {
     "name": "stdout",
     "output_type": "stream",
     "text": [
      "p-values 0.4472\n"
     ]
    }
   ],
   "source": [
    "w, pvalue = stats.bartlett(data[data['age_groups']==groups[0]]['shop_dur'], \n",
    "                           data[data['age_groups']==groups[1]]['shop_dur'], \n",
    "                           data[data['age_groups']==groups[2]]['shop_dur'], \n",
    "                           data[data['age_groups']==groups[3]]['shop_dur'])\n",
    "print('p-values %.4f' % pvalue)"
   ]
  },
  {
   "cell_type": "markdown",
   "metadata": {},
   "source": [
    "As the p-value > 0.4472 is significant, we reject null hypothesis and conclude that treatments have equal variances."
   ]
  },
  {
   "cell_type": "markdown",
   "metadata": {},
   "source": [
    "### Shaprio-Wild//qq plot test to check the normal distribution of residuals"
   ]
  },
  {
   "cell_type": "code",
   "execution_count": 284,
   "metadata": {},
   "outputs": [
    {
     "data": {
      "image/png": "[encoded data removed]",
      "text/plain": [
       "<Figure size 432x288 with 1 Axes>"
      ]
     },
     "metadata": {
      "needs_background": "light"
     },
     "output_type": "display_data"
    }
   ],
   "source": [
    "fig = sm.qqplot(lm.resid, line='s')\n",
    "plt.show()"
   ]
  },
  {
   "cell_type": "code",
   "execution_count": 285,
   "metadata": {},
   "outputs": [
    {
     "name": "stdout",
     "output_type": "stream",
     "text": [
      "p-values 0.3456\n"
     ]
    }
   ],
   "source": [
    "_, p = stats.shapiro(lm.resid)\n",
    "print('p-values %.4f' % p)"
   ]
  },
  {
   "cell_type": "markdown",
   "metadata": {},
   "source": [
    "As the p-value > 0.34 is significant, we reject null hypothesis and conclude that residuals are normally distributed."
   ]
  },
  {
   "cell_type": "markdown",
   "metadata": {},
   "source": [
    "## Calculate annova\n",
    "\n",
    "As the assumptions of anova meet, now we can calculate it."
   ]
  },
  {
   "cell_type": "code",
   "execution_count": 286,
   "metadata": {},
   "outputs": [
    {
     "data": {
      "text/html": [
       "<div>\n",
       "<style scoped>\n",
       "    .dataframe tbody tr th:only-of-type {\n",
       "        vertical-align: middle;\n",
       "    }\n",
       "\n",
       "    .dataframe tbody tr th {\n",
       "        vertical-align: top;\n",
       "    }\n",
       "\n",
       "    .dataframe thead th {\n",
       "        text-align: right;\n",
       "    }\n",
       "</style>\n",
       "<table border=\"1\" class=\"dataframe\">\n",
       "  <thead>\n",
       "    <tr style=\"text-align: right;\">\n",
       "      <th></th>\n",
       "      <th>df</th>\n",
       "      <th>sum_sq</th>\n",
       "      <th>mean_sq</th>\n",
       "      <th>F</th>\n",
       "      <th>PR(&gt;F)</th>\n",
       "    </tr>\n",
       "  </thead>\n",
       "  <tbody>\n",
       "    <tr>\n",
       "      <td>age_groups</td>\n",
       "      <td>3.0</td>\n",
       "      <td>13.448326</td>\n",
       "      <td>4.482775</td>\n",
       "      <td>1.057976</td>\n",
       "      <td>0.368764</td>\n",
       "    </tr>\n",
       "    <tr>\n",
       "      <td>Residual</td>\n",
       "      <td>156.0</td>\n",
       "      <td>660.991320</td>\n",
       "      <td>4.237124</td>\n",
       "      <td>NaN</td>\n",
       "      <td>NaN</td>\n",
       "    </tr>\n",
       "  </tbody>\n",
       "</table>\n",
       "</div>"
      ],
      "text/plain": [
       "               df      sum_sq   mean_sq         F    PR(>F)\n",
       "age_groups    3.0   13.448326  4.482775  1.057976  0.368764\n",
       "Residual    156.0  660.991320  4.237124       NaN       NaN"
      ]
     },
     "execution_count": 286,
     "metadata": {},
     "output_type": "execute_result"
    }
   ],
   "source": [
    "sm.stats.anova_lm(lm, type=1)"
   ]
  },
  {
   "cell_type": "markdown",
   "metadata": {},
   "source": [
    "We don't find a significant main effect of age groups (F = 1.51, p > .37) on shopping durations."
   ]
  },
  {
   "cell_type": "markdown",
   "metadata": {},
   "source": [
    "## 3. shop_dur ~ out_t_groups"
   ]
  },
  {
   "cell_type": "code",
   "execution_count": 287,
   "metadata": {},
   "outputs": [
    {
     "name": "stdout",
     "output_type": "stream",
     "text": [
      "+----------------+-----+------------+------------+\n",
      "| out_t_groups   |   N |   shop_dur |   shop_dur |\n",
      "|                |     |       mean |        std |\n",
      "+================+=====+============+============+\n",
      "| (11.999, 18.0] |  49 |       8.2  |       2.05 |\n",
      "+----------------+-----+------------+------------+\n",
      "| (18.0, 21.0]   |  35 |       6.85 |       1.97 |\n",
      "+----------------+-----+------------+------------+\n",
      "| (21.0, 23.0]   |  38 |       6.71 |       1.93 |\n",
      "+----------------+-----+------------+------------+\n",
      "| (23.0, 28.0]   |  38 |       7.34 |       1.86 |\n",
      "+----------------+-----+------------+------------+\n"
     ]
    }
   ],
   "source": [
    "create_1cat_table(data, 'out_t_groups', 'shop_dur')"
   ]
  },
  {
   "cell_type": "code",
   "execution_count": 288,
   "metadata": {},
   "outputs": [],
   "source": [
    "lm = smf.ols('shop_dur ~ out_t_groups', data=data).fit()"
   ]
  },
  {
   "cell_type": "markdown",
   "metadata": {},
   "source": [
    "### Independence of varaibles"
   ]
  },
  {
   "cell_type": "code",
   "execution_count": 289,
   "metadata": {},
   "outputs": [
    {
     "data": {
      "image/png": "[encoded data removed]",
      "text/plain": [
       "<Figure size 432x288 with 1 Axes>"
      ]
     },
     "metadata": {
      "needs_background": "light"
     },
     "output_type": "display_data"
    }
   ],
   "source": [
    "independence_test(lm)"
   ]
  },
  {
   "cell_type": "markdown",
   "metadata": {},
   "source": [
    "This plot shows the residuals (errors) on the y-axis and the fitted values (predicted values) on the x-axis. We can see that plot is randomly distributed, this is independent."
   ]
  },
  {
   "cell_type": "markdown",
   "metadata": {},
   "source": [
    "### Homogenity test"
   ]
  },
  {
   "cell_type": "code",
   "execution_count": 290,
   "metadata": {},
   "outputs": [
    {
     "name": "stdout",
     "output_type": "stream",
     "text": [
      "['(11.999, 18.0]' '(18.0, 21.0]' '(21.0, 23.0]' '(23.0, 28.0]']\n"
     ]
    }
   ],
   "source": [
    "groups = np.unique(data['out_t_groups'])\n",
    "print(groups)"
   ]
  },
  {
   "cell_type": "code",
   "execution_count": 291,
   "metadata": {},
   "outputs": [
    {
     "name": "stdout",
     "output_type": "stream",
     "text": [
      "p-values 0.9451\n"
     ]
    }
   ],
   "source": [
    "w, pvalue = stats.bartlett(data[data['out_t_groups']==groups[0]]['shop_dur'], \n",
    "                           data[data['out_t_groups']==groups[1]]['shop_dur'], \n",
    "                           data[data['out_t_groups']==groups[2]]['shop_dur'], \n",
    "                           data[data['out_t_groups']==groups[3]]['shop_dur'])\n",
    "print('p-values %.4f' % pvalue)"
   ]
  },
  {
   "cell_type": "markdown",
   "metadata": {},
   "source": [
    "As the p-value > 0.9451 is significant, we reject null hypothesis and conclude that treatments have equal variances."
   ]
  },
  {
   "cell_type": "markdown",
   "metadata": {},
   "source": [
    "### Shaprio-Wild//qq plot test to check the normal distribution of residuals"
   ]
  },
  {
   "cell_type": "code",
   "execution_count": 292,
   "metadata": {},
   "outputs": [
    {
     "data": {
      "image/png": "[encoded data removed]",
      "text/plain": [
       "<Figure size 432x288 with 1 Axes>"
      ]
     },
     "metadata": {
      "needs_background": "light"
     },
     "output_type": "display_data"
    }
   ],
   "source": [
    "fig = sm.qqplot(lm.resid, line='s')\n",
    "plt.show()"
   ]
  },
  {
   "cell_type": "code",
   "execution_count": 293,
   "metadata": {},
   "outputs": [
    {
     "name": "stdout",
     "output_type": "stream",
     "text": [
      "p-values 0.3649\n"
     ]
    }
   ],
   "source": [
    "_, p = stats.shapiro(lm.resid)\n",
    "print('p-values %.4f' % p)"
   ]
  },
  {
   "cell_type": "markdown",
   "metadata": {},
   "source": [
    "The p-value > 0.3463 is significant, we reject null hypothesis and conclude that residuals are normally distributed."
   ]
  },
  {
   "cell_type": "markdown",
   "metadata": {},
   "source": [
    "### Calculate anova\n",
    "\n",
    "As the assumptions of anova meet, now we can calculate it."
   ]
  },
  {
   "cell_type": "code",
   "execution_count": 294,
   "metadata": {},
   "outputs": [
    {
     "data": {
      "text/html": [
       "<div>\n",
       "<style scoped>\n",
       "    .dataframe tbody tr th:only-of-type {\n",
       "        vertical-align: middle;\n",
       "    }\n",
       "\n",
       "    .dataframe tbody tr th {\n",
       "        vertical-align: top;\n",
       "    }\n",
       "\n",
       "    .dataframe thead th {\n",
       "        text-align: right;\n",
       "    }\n",
       "</style>\n",
       "<table border=\"1\" class=\"dataframe\">\n",
       "  <thead>\n",
       "    <tr style=\"text-align: right;\">\n",
       "      <th></th>\n",
       "      <th>df</th>\n",
       "      <th>sum_sq</th>\n",
       "      <th>mean_sq</th>\n",
       "      <th>F</th>\n",
       "      <th>PR(&gt;F)</th>\n",
       "    </tr>\n",
       "  </thead>\n",
       "  <tbody>\n",
       "    <tr>\n",
       "      <td>out_t_groups</td>\n",
       "      <td>3.0</td>\n",
       "      <td>60.016781</td>\n",
       "      <td>20.005594</td>\n",
       "      <td>5.079356</td>\n",
       "      <td>0.002208</td>\n",
       "    </tr>\n",
       "    <tr>\n",
       "      <td>Residual</td>\n",
       "      <td>156.0</td>\n",
       "      <td>614.422865</td>\n",
       "      <td>3.938608</td>\n",
       "      <td>NaN</td>\n",
       "      <td>NaN</td>\n",
       "    </tr>\n",
       "  </tbody>\n",
       "</table>\n",
       "</div>"
      ],
      "text/plain": [
       "                 df      sum_sq    mean_sq         F    PR(>F)\n",
       "out_t_groups    3.0   60.016781  20.005594  5.079356  0.002208\n",
       "Residual      156.0  614.422865   3.938608       NaN       NaN"
      ]
     },
     "execution_count": 294,
     "metadata": {},
     "output_type": "execute_result"
    }
   ],
   "source": [
    "sm.stats.anova_lm(lm, type=1)"
   ]
  },
  {
   "cell_type": "markdown",
   "metadata": {},
   "source": [
    "As it's also clear from the table, the ANOVA test suggests us that response of temperature groups on shopping duration is important where  (F = 5.06, p < 0.0022)."
   ]
  },
  {
   "cell_type": "markdown",
   "metadata": {},
   "source": [
    "### Tukey HSD test\n",
    "\n",
    "As the ANOVA tels that effect of temperature groups on shopping groups differs significanly. Now using Tukey HSD we can find which groups are significantly different from each other"
   ]
  },
  {
   "cell_type": "code",
   "execution_count": 295,
   "metadata": {},
   "outputs": [
    {
     "name": "stdout",
     "output_type": "stream",
     "text": [
      "       Multiple Comparison of Means - Tukey HSD, FWER=0.05        \n",
      "==================================================================\n",
      "    group1        group2    meandiff p-adj   lower   upper  reject\n",
      "------------------------------------------------------------------\n",
      "(11.999, 18.0] (18.0, 21.0]  -1.3529 0.0129 -2.4936 -0.2122   True\n",
      "(11.999, 18.0] (21.0, 23.0]   -1.494 0.0036 -2.6081 -0.3799   True\n",
      "(11.999, 18.0] (23.0, 28.0]  -0.8642 0.1871 -1.9783    0.25  False\n",
      "  (18.0, 21.0] (21.0, 23.0]  -0.1412    0.9 -1.3487  1.0664  False\n",
      "  (18.0, 21.0] (23.0, 28.0]   0.4887 0.6961 -0.7188  1.6962  False\n",
      "  (21.0, 23.0] (23.0, 28.0]   0.6299 0.5102 -0.5526  1.8123  False\n",
      "------------------------------------------------------------------\n"
     ]
    }
   ],
   "source": [
    "print(pairwise_tukeyhsd(data['shop_dur'], data['out_t_groups'], alpha=0.05))"
   ]
  },
  {
   "cell_type": "markdown",
   "metadata": {},
   "source": [
    "We can see that (11.999, 18.0] and (18.0, 21.0] temperature groups suggest statistically significant differences. This helps us to come to the conclusion that people often go shopping during the cool days."
   ]
  },
  {
   "cell_type": "markdown",
   "metadata": {},
   "source": [
    "## 4. shop_dur ~  out_t_groups + gender + out_t_groups*gender"
   ]
  },
  {
   "cell_type": "code",
   "execution_count": 296,
   "metadata": {
    "scrolled": true
   },
   "outputs": [
    {
     "name": "stdout",
     "output_type": "stream",
     "text": [
      "+----------------+----------------+-----+------------+------------+------------+------------+\n",
      "| out_t_groups   | age_groups     | N   | shop_dur   | shop_dur   |   shop_dur |   shop_dur |\n",
      "|                |                |     | mean       | std        |   mean_all |    std_all |\n",
      "+================+================+=====+============+============+============+============+\n",
      "| (11.999, 18.0] | (17.999, 29.0] | 15  | 8.07       | 2.40       |    8.20498 |    2.04615 |\n",
      "|                | (29.0, 40.0]   | 13  | 7.80       | 2.41       |            |            |\n",
      "|                | (40.0, 52.0]   | 11  | 8.24       | 1.32       |            |            |\n",
      "|                | (52.0, 72.0]   | 10  | 8.90       | 1.30       |            |            |\n",
      "+----------------+----------------+-----+------------+------------+------------+------------+\n",
      "| (18.0, 21.0]   | (17.999, 29.0] | 8   | 9.15       | 1.68       |    6.85211 |    1.97267 |\n",
      "|                | (29.0, 40.0]   | 6   | 6.46       | 1.36       |            |            |\n",
      "|                | (40.0, 52.0]   | 10  | 5.89       | 1.51       |            |            |\n",
      "|                | (52.0, 72.0]   | 11  | 6.26       | 1.47       |            |            |\n",
      "+----------------+----------------+-----+------------+------------+------------+------------+\n",
      "| (21.0, 23.0]   | (17.999, 29.0] | 8   | 6.54       | 2.58       |    6.71095 |    1.93234 |\n",
      "|                | (29.0, 40.0]   | 15  | 6.90       | 1.74       |            |            |\n",
      "|                | (40.0, 52.0]   | 10  | 6.99       | 1.75       |            |            |\n",
      "|                | (52.0, 72.0]   | 5   | 5.85       | 1.22       |            |            |\n",
      "+----------------+----------------+-----+------------+------------+------------+------------+\n",
      "| (23.0, 28.0]   | (17.999, 29.0] | 10  | 7.36       | 1.80       |    7.34083 |    1.85802 |\n",
      "|                | (29.0, 40.0]   | 10  | 7.94       | 1.09       |            |            |\n",
      "|                | (40.0, 52.0]   | 6   | 7.50       | 2.14       |            |            |\n",
      "|                | (52.0, 72.0]   | 12  | 6.75       | 2.07       |            |            |\n",
      "+----------------+----------------+-----+------------+------------+------------+------------+\n"
     ]
    }
   ],
   "source": [
    "create_2cat_table(data, 'out_t_groups', 'age_groups', 'shop_dur')"
   ]
  },
  {
   "cell_type": "code",
   "execution_count": 297,
   "metadata": {},
   "outputs": [],
   "source": [
    "lm = smf.ols('shop_dur ~ out_t_groups + age_groups + out_t_groups*age_groups', data=data).fit()"
   ]
  },
  {
   "cell_type": "markdown",
   "metadata": {},
   "source": [
    "### Independence of varaibles and homogenity"
   ]
  },
  {
   "cell_type": "code",
   "execution_count": 298,
   "metadata": {},
   "outputs": [
    {
     "data": {
      "image/png": "[encoded data removed]",
      "text/plain": [
       "<Figure size 432x288 with 1 Axes>"
      ]
     },
     "metadata": {
      "needs_background": "light"
     },
     "output_type": "display_data"
    }
   ],
   "source": [
    "independence_test(lm)"
   ]
  },
  {
   "cell_type": "markdown",
   "metadata": {},
   "source": [
    "We can see that plot has no pattern or in other words each goup has same variance, thus the points should look like a more of random points. The plot spoints out that the variances are approximately homogenous since the residuals are distributed approximately equally above and below zero."
   ]
  },
  {
   "cell_type": "markdown",
   "metadata": {},
   "source": [
    "### Shaprio-Wild test//qq plot to check the normal distribution of residuals"
   ]
  },
  {
   "cell_type": "code",
   "execution_count": 299,
   "metadata": {},
   "outputs": [
    {
     "data": {
      "image/png": "[encoded data removed]",
      "text/plain": [
       "<Figure size 432x288 with 1 Axes>"
      ]
     },
     "metadata": {
      "needs_background": "light"
     },
     "output_type": "display_data"
    }
   ],
   "source": [
    "fig = sm.qqplot(lm.resid, line='s')\n",
    "plt.show()"
   ]
  },
  {
   "cell_type": "code",
   "execution_count": 300,
   "metadata": {},
   "outputs": [
    {
     "name": "stdout",
     "output_type": "stream",
     "text": [
      "p-values 0.2869\n"
     ]
    }
   ],
   "source": [
    "_, p = stats.shapiro(lm.resid)\n",
    "print('p-values %.4f' % p)"
   ]
  },
  {
   "cell_type": "markdown",
   "metadata": {},
   "source": [
    "As the p-value > 0.2742 is significant, we reject null hypothesis and conclude that residuals are normally distributed."
   ]
  },
  {
   "cell_type": "markdown",
   "metadata": {},
   "source": [
    "### Calculate anova\n",
    "\n",
    "As the assumptions of anova meet, now we can calculate it."
   ]
  },
  {
   "cell_type": "code",
   "execution_count": 301,
   "metadata": {},
   "outputs": [
    {
     "data": {
      "text/html": [
       "<div>\n",
       "<style scoped>\n",
       "    .dataframe tbody tr th:only-of-type {\n",
       "        vertical-align: middle;\n",
       "    }\n",
       "\n",
       "    .dataframe tbody tr th {\n",
       "        vertical-align: top;\n",
       "    }\n",
       "\n",
       "    .dataframe thead th {\n",
       "        text-align: right;\n",
       "    }\n",
       "</style>\n",
       "<table border=\"1\" class=\"dataframe\">\n",
       "  <thead>\n",
       "    <tr style=\"text-align: right;\">\n",
       "      <th></th>\n",
       "      <th>df</th>\n",
       "      <th>sum_sq</th>\n",
       "      <th>mean_sq</th>\n",
       "      <th>F</th>\n",
       "      <th>PR(&gt;F)</th>\n",
       "    </tr>\n",
       "  </thead>\n",
       "  <tbody>\n",
       "    <tr>\n",
       "      <td>out_t_groups</td>\n",
       "      <td>3.0</td>\n",
       "      <td>60.016781</td>\n",
       "      <td>20.005594</td>\n",
       "      <td>5.357461</td>\n",
       "      <td>0.001585</td>\n",
       "    </tr>\n",
       "    <tr>\n",
       "      <td>age_groups</td>\n",
       "      <td>3.0</td>\n",
       "      <td>9.736605</td>\n",
       "      <td>3.245535</td>\n",
       "      <td>0.869148</td>\n",
       "      <td>0.458709</td>\n",
       "    </tr>\n",
       "    <tr>\n",
       "      <td>out_t_groups:age_groups</td>\n",
       "      <td>9.0</td>\n",
       "      <td>66.967871</td>\n",
       "      <td>7.440875</td>\n",
       "      <td>1.992653</td>\n",
       "      <td>0.044131</td>\n",
       "    </tr>\n",
       "    <tr>\n",
       "      <td>Residual</td>\n",
       "      <td>144.0</td>\n",
       "      <td>537.718389</td>\n",
       "      <td>3.734155</td>\n",
       "      <td>NaN</td>\n",
       "      <td>NaN</td>\n",
       "    </tr>\n",
       "  </tbody>\n",
       "</table>\n",
       "</div>"
      ],
      "text/plain": [
       "                            df      sum_sq    mean_sq         F    PR(>F)\n",
       "out_t_groups               3.0   60.016781  20.005594  5.357461  0.001585\n",
       "age_groups                 3.0    9.736605   3.245535  0.869148  0.458709\n",
       "out_t_groups:age_groups    9.0   66.967871   7.440875  1.992653  0.044131\n",
       "Residual                 144.0  537.718389   3.734155       NaN       NaN"
      ]
     },
     "execution_count": 301,
     "metadata": {},
     "output_type": "execute_result"
    }
   ],
   "source": [
    "sm.stats.anova_lm(lm, type=2)"
   ]
  },
  {
   "cell_type": "markdown",
   "metadata": {},
   "source": [
    "#### Interaction plot"
   ]
  },
  {
   "cell_type": "code",
   "execution_count": 302,
   "metadata": {},
   "outputs": [
    {
     "data": {
      "image/png": "[encoded data removed]",
      "text/plain": [
       "<Figure size 432x288 with 1 Axes>"
      ]
     },
     "execution_count": 302,
     "metadata": {},
     "output_type": "execute_result"
    },
    {
     "data": {
      "image/png": "[encoded data removed]",
      "text/plain": [
       "<Figure size 432x288 with 1 Axes>"
      ]
     },
     "metadata": {
      "needs_background": "light"
     },
     "output_type": "display_data"
    }
   ],
   "source": [
    "interaction_plot(data['age_groups'], data['out_t_groups'], data['shop_dur'])"
   ]
  },
  {
   "cell_type": "markdown",
   "metadata": {},
   "source": [
    "Interaction between outdoor temperature groups and age groups is significant (p < 0.04). As it's clear from the above plot, it's that still can be important for capturing some pattern on customer behaviour. From the interaction plot, we can see temperature shows different effect on age groups.  "
   ]
  },
  {
   "cell_type": "markdown",
   "metadata": {},
   "source": [
    "## 5. shop_dur ~ attendants"
   ]
  },
  {
   "cell_type": "code",
   "execution_count": 303,
   "metadata": {},
   "outputs": [
    {
     "name": "stdout",
     "output_type": "stream",
     "text": [
      "+---------------+-----+------------+------------+\n",
      "| attendants    |   N |   shop_dur |   shop_dur |\n",
      "|               |     |       mean |        std |\n",
      "+===============+=====+============+============+\n",
      "| family        |  11 |       8.03 |       1.66 |\n",
      "+---------------+-----+------------+------------+\n",
      "| family member |  13 |       7.31 |       1.71 |\n",
      "+---------------+-----+------------+------------+\n",
      "| life partner  |  53 |       8.53 |       1.8  |\n",
      "+---------------+-----+------------+------------+\n",
      "| little child  |   6 |       8.1  |       1.5  |\n",
      "+---------------+-----+------------+------------+\n",
      "| no            |  77 |       6.39 |       1.87 |\n",
      "+---------------+-----+------------+------------+\n"
     ]
    }
   ],
   "source": [
    "create_1cat_table(data, 'attendants', 'shop_dur')"
   ]
  },
  {
   "cell_type": "code",
   "execution_count": 304,
   "metadata": {},
   "outputs": [],
   "source": [
    "lm = smf.ols('shop_dur ~ attendants', data=data).fit()"
   ]
  },
  {
   "cell_type": "markdown",
   "metadata": {},
   "source": [
    "### Independence of varaibles"
   ]
  },
  {
   "cell_type": "code",
   "execution_count": 305,
   "metadata": {},
   "outputs": [
    {
     "data": {
      "image/png": "[encoded data removed]",
      "text/plain": [
       "<Figure size 432x288 with 1 Axes>"
      ]
     },
     "metadata": {
      "needs_background": "light"
     },
     "output_type": "display_data"
    }
   ],
   "source": [
    "independence_test(lm)"
   ]
  },
  {
   "cell_type": "markdown",
   "metadata": {},
   "source": [
    "This plot shows the residuals (errors) on the y-axis and the fitted values (predicted values) on the x-axis. We can see that plot is randomly distributed, this is independent."
   ]
  },
  {
   "cell_type": "markdown",
   "metadata": {},
   "source": [
    "### Homogenity test"
   ]
  },
  {
   "cell_type": "code",
   "execution_count": 306,
   "metadata": {},
   "outputs": [
    {
     "name": "stdout",
     "output_type": "stream",
     "text": [
      "['family' 'family member' 'life partner' 'little child' 'no']\n"
     ]
    }
   ],
   "source": [
    "groups = np.unique(data['attendants'])\n",
    "print(groups)"
   ]
  },
  {
   "cell_type": "code",
   "execution_count": 308,
   "metadata": {},
   "outputs": [
    {
     "name": "stdout",
     "output_type": "stream",
     "text": [
      "p-values 0.9915\n"
     ]
    }
   ],
   "source": [
    "w, pvalue = stats.bartlett(data[data['attendants']==groups[0]]['shop_dur'], \n",
    "                           data[data['attendants']==groups[1]]['shop_dur'], \n",
    "                           data[data['attendants']==groups[2]]['shop_dur'], \n",
    "                           data[data['attendants']==groups[3]]['shop_dur'],\n",
    "                           data[data['attendants']==groups[4]]['shop_dur'])\n",
    "print('p-values %.4f' % pvalue)"
   ]
  },
  {
   "cell_type": "markdown",
   "metadata": {},
   "source": [
    "As the p-value > 0.9915 is significant, we reject null hypothesis and conclude that treatments have equal variances."
   ]
  },
  {
   "cell_type": "markdown",
   "metadata": {},
   "source": [
    "### Shaprio-Wild//qq plot test to check the normal distribution of residuals"
   ]
  },
  {
   "cell_type": "code",
   "execution_count": 123,
   "metadata": {},
   "outputs": [
    {
     "data": {
      "image/png": "[encoded data removed]",
      "text/plain": [
       "<Figure size 432x288 with 1 Axes>"
      ]
     },
     "metadata": {
      "needs_background": "light"
     },
     "output_type": "display_data"
    }
   ],
   "source": [
    "fig = sm.qqplot(lm.resid, line='s')\n",
    "plt.show()"
   ]
  },
  {
   "cell_type": "code",
   "execution_count": 124,
   "metadata": {},
   "outputs": [
    {
     "name": "stdout",
     "output_type": "stream",
     "text": [
      "p-values 0.9497\n"
     ]
    }
   ],
   "source": [
    "_, p = stats.shapiro(lm.resid)\n",
    "print('p-values %.4f' % p)"
   ]
  },
  {
   "cell_type": "markdown",
   "metadata": {},
   "source": [
    "As the p-value > 0.97 is significant, we reject null hypothesis and conclude that residuals are normally distributed."
   ]
  },
  {
   "cell_type": "markdown",
   "metadata": {},
   "source": [
    "### Calculate anova\n",
    "\n",
    "Met assumptions now let us carry out ANOVA test"
   ]
  },
  {
   "cell_type": "code",
   "execution_count": 125,
   "metadata": {},
   "outputs": [
    {
     "data": {
      "text/html": [
       "<div>\n",
       "<style scoped>\n",
       "    .dataframe tbody tr th:only-of-type {\n",
       "        vertical-align: middle;\n",
       "    }\n",
       "\n",
       "    .dataframe tbody tr th {\n",
       "        vertical-align: top;\n",
       "    }\n",
       "\n",
       "    .dataframe thead th {\n",
       "        text-align: right;\n",
       "    }\n",
       "</style>\n",
       "<table border=\"1\" class=\"dataframe\">\n",
       "  <thead>\n",
       "    <tr style=\"text-align: right;\">\n",
       "      <th></th>\n",
       "      <th>df</th>\n",
       "      <th>sum_sq</th>\n",
       "      <th>mean_sq</th>\n",
       "      <th>F</th>\n",
       "      <th>PR(&gt;F)</th>\n",
       "    </tr>\n",
       "  </thead>\n",
       "  <tbody>\n",
       "    <tr>\n",
       "      <td>attendants</td>\n",
       "      <td>4.0</td>\n",
       "      <td>138.597256</td>\n",
       "      <td>34.649314</td>\n",
       "      <td>11.377192</td>\n",
       "      <td>4.023907e-08</td>\n",
       "    </tr>\n",
       "    <tr>\n",
       "      <td>Residual</td>\n",
       "      <td>155.0</td>\n",
       "      <td>472.053548</td>\n",
       "      <td>3.045507</td>\n",
       "      <td>NaN</td>\n",
       "      <td>NaN</td>\n",
       "    </tr>\n",
       "  </tbody>\n",
       "</table>\n",
       "</div>"
      ],
      "text/plain": [
       "               df      sum_sq    mean_sq          F        PR(>F)\n",
       "attendants    4.0  138.597256  34.649314  11.377192  4.023907e-08\n",
       "Residual    155.0  472.053548   3.045507        NaN           NaN"
      ]
     },
     "execution_count": 125,
     "metadata": {},
     "output_type": "execute_result"
    }
   ],
   "source": [
    "sm.stats.anova_lm(lm, type=2)"
   ]
  },
  {
   "cell_type": "markdown",
   "metadata": {},
   "source": [
    "Having F < 0.000001, ANOVA test shows us that shopping duration upon attendants varies significantly from each other. We can also see from the table that, people spend more time on shopping when they're with family or life partner than they're alone. "
   ]
  },
  {
   "cell_type": "markdown",
   "metadata": {},
   "source": [
    "## 6. shop_dur ~ shopping_cart"
   ]
  },
  {
   "cell_type": "code",
   "execution_count": 126,
   "metadata": {},
   "outputs": [
    {
     "name": "stdout",
     "output_type": "stream",
     "text": [
      "+-----------------+-----+------------+------------+\n",
      "| shopping_cart   |   N |   shop_dur |   shop_dur |\n",
      "|                 |     |       mean |        std |\n",
      "+=================+=====+============+============+\n",
      "| no              |  65 |       4.98 |       1.8  |\n",
      "+-----------------+-----+------------+------------+\n",
      "| yes             |  95 |       6.93 |       1.63 |\n",
      "+-----------------+-----+------------+------------+\n"
     ]
    }
   ],
   "source": [
    "create_1cat_table(data, 'shopping_cart', 'shop_dur')"
   ]
  },
  {
   "cell_type": "code",
   "execution_count": 129,
   "metadata": {},
   "outputs": [],
   "source": [
    "lm = smf.ols('shop_dur ~ shopping_cart', data=data).fit()"
   ]
  },
  {
   "cell_type": "markdown",
   "metadata": {},
   "source": [
    "### Independence of varaibles"
   ]
  },
  {
   "cell_type": "code",
   "execution_count": 130,
   "metadata": {},
   "outputs": [
    {
     "data": {
      "image/png": "[encoded data removed]",
      "text/plain": [
       "<Figure size 432x288 with 1 Axes>"
      ]
     },
     "metadata": {
      "needs_background": "light"
     },
     "output_type": "display_data"
    }
   ],
   "source": [
    "independence_test(lm)"
   ]
  },
  {
   "cell_type": "markdown",
   "metadata": {},
   "source": [
    "This plot shows the residuals (errors) on the y-axis and the fitted values (predicted values) on the x-axis. Although there is a slope slightly leaning to the right, it's enough conclude that plot is randomly distributed, this is independent."
   ]
  },
  {
   "cell_type": "markdown",
   "metadata": {},
   "source": [
    "### Homogenity test"
   ]
  },
  {
   "cell_type": "code",
   "execution_count": 315,
   "metadata": {},
   "outputs": [
    {
     "name": "stdout",
     "output_type": "stream",
     "text": [
      "p-values 0.3933\n"
     ]
    }
   ],
   "source": [
    "w, pvalue = stats.bartlett(data[data['shopping_cart']=='yes']['shop_dur'], \n",
    "                           data[data['shopping_cart']=='no']['shop_dur'])\n",
    "print('p-values %.4f' % pvalue)"
   ]
  },
  {
   "cell_type": "markdown",
   "metadata": {},
   "source": [
    "As the p-value > 0.3933 is significant, we reject null hypothesis and conclude that treatments have equal variances."
   ]
  },
  {
   "cell_type": "markdown",
   "metadata": {},
   "source": [
    "### Shaprio-Wild//qq plot test to check the normal distribution of residuals"
   ]
  },
  {
   "cell_type": "code",
   "execution_count": 132,
   "metadata": {},
   "outputs": [
    {
     "data": {
      "image/png": "[encoded data removed]",
      "text/plain": [
       "<Figure size 432x288 with 1 Axes>"
      ]
     },
     "metadata": {
      "needs_background": "light"
     },
     "output_type": "display_data"
    }
   ],
   "source": [
    "fig = sm.qqplot(lm.resid, line='s')\n",
    "plt.show()"
   ]
  },
  {
   "cell_type": "code",
   "execution_count": 133,
   "metadata": {},
   "outputs": [
    {
     "name": "stdout",
     "output_type": "stream",
     "text": [
      "p-values 0.071602\n"
     ]
    }
   ],
   "source": [
    "_, p = stats.shapiro(lm.resid)\n",
    "print('p-values %.6f' % p)"
   ]
  },
  {
   "cell_type": "markdown",
   "metadata": {},
   "source": [
    "As the p-value is significant, we reject null hypothesis and conclude that residuals are normally distributed."
   ]
  },
  {
   "cell_type": "markdown",
   "metadata": {},
   "source": [
    "### Calculate anova\n",
    "\n",
    "All the assumptions meet, no we're good to go!"
   ]
  },
  {
   "cell_type": "code",
   "execution_count": 134,
   "metadata": {},
   "outputs": [
    {
     "data": {
      "text/html": [
       "<div>\n",
       "<style scoped>\n",
       "    .dataframe tbody tr th:only-of-type {\n",
       "        vertical-align: middle;\n",
       "    }\n",
       "\n",
       "    .dataframe tbody tr th {\n",
       "        vertical-align: top;\n",
       "    }\n",
       "\n",
       "    .dataframe thead th {\n",
       "        text-align: right;\n",
       "    }\n",
       "</style>\n",
       "<table border=\"1\" class=\"dataframe\">\n",
       "  <thead>\n",
       "    <tr style=\"text-align: right;\">\n",
       "      <th></th>\n",
       "      <th>df</th>\n",
       "      <th>sum_sq</th>\n",
       "      <th>mean_sq</th>\n",
       "      <th>F</th>\n",
       "      <th>PR(&gt;F)</th>\n",
       "    </tr>\n",
       "  </thead>\n",
       "  <tbody>\n",
       "    <tr>\n",
       "      <td>shopping_cart</td>\n",
       "      <td>1.0</td>\n",
       "      <td>146.841615</td>\n",
       "      <td>146.841615</td>\n",
       "      <td>50.022673</td>\n",
       "      <td>4.638436e-11</td>\n",
       "    </tr>\n",
       "    <tr>\n",
       "      <td>Residual</td>\n",
       "      <td>158.0</td>\n",
       "      <td>463.809189</td>\n",
       "      <td>2.935501</td>\n",
       "      <td>NaN</td>\n",
       "      <td>NaN</td>\n",
       "    </tr>\n",
       "  </tbody>\n",
       "</table>\n",
       "</div>"
      ],
      "text/plain": [
       "                  df      sum_sq     mean_sq          F        PR(>F)\n",
       "shopping_cart    1.0  146.841615  146.841615  50.022673  4.638436e-11\n",
       "Residual       158.0  463.809189    2.935501        NaN           NaN"
      ]
     },
     "execution_count": 134,
     "metadata": {},
     "output_type": "execute_result"
    }
   ],
   "source": [
    "sm.stats.anova_lm(lm, type=1)"
   ]
  },
  {
   "cell_type": "markdown",
   "metadata": {},
   "source": [
    "Here we can see that the null hypothesis is externally week. This suggests that taking a shopping cart on shopping definitely increase the duration of time a customer spends on shopping. This can be an important insight for markets on finding ways to increase the time customer spend on shopping, thus spend more money. "
   ]
  },
  {
   "cell_type": "markdown",
   "metadata": {},
   "source": [
    "## 7. shop_dur ~ weekday"
   ]
  },
  {
   "cell_type": "code",
   "execution_count": 325,
   "metadata": {},
   "outputs": [
    {
     "name": "stdout",
     "output_type": "stream",
     "text": [
      "+-----------+-----+------------+------------+\n",
      "| weekday   |   N |   shop_dur |   shop_dur |\n",
      "|           |     |       mean |        std |\n",
      "+===========+=====+============+============+\n",
      "| friday    |  33 |       7.19 |       1.86 |\n",
      "+-----------+-----+------------+------------+\n",
      "| monday    |  23 |       7.46 |       2.05 |\n",
      "+-----------+-----+------------+------------+\n",
      "| saturday  |  34 |       8.32 |       1.8  |\n",
      "+-----------+-----+------------+------------+\n",
      "| thursday  |  29 |       6.45 |       2.27 |\n",
      "+-----------+-----+------------+------------+\n",
      "| tuesday   |  19 |       7.05 |       2.02 |\n",
      "+-----------+-----+------------+------------+\n",
      "| wednesday |  22 |       7.41 |       1.78 |\n",
      "+-----------+-----+------------+------------+\n"
     ]
    }
   ],
   "source": [
    "create_1cat_table(data, 'weekday', 'shop_dur')"
   ]
  },
  {
   "cell_type": "markdown",
   "metadata": {},
   "source": [
    "### Independence of variables"
   ]
  },
  {
   "cell_type": "code",
   "execution_count": 326,
   "metadata": {},
   "outputs": [
    {
     "data": {
      "image/png": "[encoded data removed]",
      "text/plain": [
       "<Figure size 432x288 with 1 Axes>"
      ]
     },
     "metadata": {
      "needs_background": "light"
     },
     "output_type": "display_data"
    }
   ],
   "source": [
    "independence_test(lm)"
   ]
  },
  {
   "cell_type": "markdown",
   "metadata": {},
   "source": [
    "From the plot, we can see that independece of variables holds.\n",
    "\n",
    "### Homogenity test"
   ]
  },
  {
   "cell_type": "code",
   "execution_count": 327,
   "metadata": {},
   "outputs": [
    {
     "name": "stdout",
     "output_type": "stream",
     "text": [
      "p-values 0.786189\n"
     ]
    }
   ],
   "source": [
    "w, pvalue = stats.bartlett(data[data['weekday']=='friday']['shop_dur'], \n",
    "                           data[data['weekday']=='monday']['shop_dur'],\n",
    "                           data[data['weekday']=='saturday']['shop_dur'],\n",
    "                           data[data['weekday']=='thursday']['shop_dur'],\n",
    "                           data[data['weekday']=='tuesday']['shop_dur'],\n",
    "                           data[data['weekday']=='wednesday']['shop_dur']\n",
    "                          )\n",
    "print('p-values %.6f' % pvalue)"
   ]
  },
  {
   "cell_type": "markdown",
   "metadata": {},
   "source": [
    "Homogenity holds."
   ]
  },
  {
   "cell_type": "markdown",
   "metadata": {},
   "source": [
    "### Shaprio-Wild//qq plot test to check the normal distribution of residuals"
   ]
  },
  {
   "cell_type": "code",
   "execution_count": 328,
   "metadata": {},
   "outputs": [
    {
     "data": {
      "image/png": "[encoded data removed]",
      "text/plain": [
       "<Figure size 432x288 with 1 Axes>"
      ]
     },
     "metadata": {
      "needs_background": "light"
     },
     "output_type": "display_data"
    },
    {
     "name": "stdout",
     "output_type": "stream",
     "text": [
      "p-values 0.9520\n"
     ]
    }
   ],
   "source": [
    "fig = sm.qqplot(lm.resid, line='s')\n",
    "plt.show()\n",
    "\n",
    "_, p = stats.shapiro(lm.resid)\n",
    "print('p-values %.4f' % p)"
   ]
  },
  {
   "cell_type": "markdown",
   "metadata": {},
   "source": [
    "Normality of distribution holds as well.\n",
    "\n",
    "### Calculate anova"
   ]
  },
  {
   "cell_type": "code",
   "execution_count": 329,
   "metadata": {},
   "outputs": [
    {
     "data": {
      "text/html": [
       "<div>\n",
       "<style scoped>\n",
       "    .dataframe tbody tr th:only-of-type {\n",
       "        vertical-align: middle;\n",
       "    }\n",
       "\n",
       "    .dataframe tbody tr th {\n",
       "        vertical-align: top;\n",
       "    }\n",
       "\n",
       "    .dataframe thead th {\n",
       "        text-align: right;\n",
       "    }\n",
       "</style>\n",
       "<table border=\"1\" class=\"dataframe\">\n",
       "  <thead>\n",
       "    <tr style=\"text-align: right;\">\n",
       "      <th></th>\n",
       "      <th>df</th>\n",
       "      <th>sum_sq</th>\n",
       "      <th>mean_sq</th>\n",
       "      <th>F</th>\n",
       "      <th>PR(&gt;F)</th>\n",
       "    </tr>\n",
       "  </thead>\n",
       "  <tbody>\n",
       "    <tr>\n",
       "      <td>attendants</td>\n",
       "      <td>4.0</td>\n",
       "      <td>153.148161</td>\n",
       "      <td>38.287040</td>\n",
       "      <td>11.384209</td>\n",
       "      <td>3.982284e-08</td>\n",
       "    </tr>\n",
       "    <tr>\n",
       "      <td>Residual</td>\n",
       "      <td>155.0</td>\n",
       "      <td>521.291485</td>\n",
       "      <td>3.363171</td>\n",
       "      <td>NaN</td>\n",
       "      <td>NaN</td>\n",
       "    </tr>\n",
       "  </tbody>\n",
       "</table>\n",
       "</div>"
      ],
      "text/plain": [
       "               df      sum_sq    mean_sq          F        PR(>F)\n",
       "attendants    4.0  153.148161  38.287040  11.384209  3.982284e-08\n",
       "Residual    155.0  521.291485   3.363171        NaN           NaN"
      ]
     },
     "execution_count": 329,
     "metadata": {},
     "output_type": "execute_result"
    }
   ],
   "source": [
    "sm.stats.anova_lm(lm, type=1)"
   ]
  },
  {
   "cell_type": "markdown",
   "metadata": {},
   "source": [
    "We can see that there is difference between the weekdays.\n",
    "\n",
    "### Tukey HSD test\n",
    "\n",
    "As the ANOVA tels that effect of weekday groups on shopping amount differs significanly. Now using Tukey HSD we can find which groups are significantly different from each other"
   ]
  },
  {
   "cell_type": "code",
   "execution_count": 330,
   "metadata": {},
   "outputs": [
    {
     "name": "stdout",
     "output_type": "stream",
     "text": [
      "   Multiple Comparison of Means - Tukey HSD, FWER=0.05   \n",
      "=========================================================\n",
      " group1    group2  meandiff p-adj   lower   upper  reject\n",
      "---------------------------------------------------------\n",
      "  friday    monday   0.2699    0.9 -1.2981  1.8379  False\n",
      "  friday  saturday    1.133 0.1931 -0.2777  2.5436  False\n",
      "  friday  thursday  -0.7339 0.6769 -2.2032  0.7354  False\n",
      "  friday   tuesday  -0.1395    0.9 -1.8019  1.5229  False\n",
      "  friday wednesday   0.2264    0.9 -1.3625  1.8152  False\n",
      "  monday  saturday   0.8631 0.5873 -0.6954  2.4216  False\n",
      "  monday  thursday  -1.0038 0.4717 -2.6155   0.608  False\n",
      "  monday   tuesday  -0.4093    0.9 -2.1989  1.3803  False\n",
      "  monday wednesday  -0.0435    0.9  -1.765   1.678  False\n",
      "saturday  thursday  -1.8668 0.0041  -3.326 -0.4077   True\n",
      "saturday   tuesday  -1.2724 0.2343 -2.9259   0.381  False\n",
      "saturday wednesday  -0.9066  0.554 -2.4861  0.6729  False\n",
      "thursday   tuesday   0.5944    0.9 -1.1094  2.2982  False\n",
      "thursday wednesday   0.9603 0.5302 -0.6718  2.5924  False\n",
      " tuesday wednesday   0.3659    0.9 -1.4421  2.1738  False\n",
      "---------------------------------------------------------\n"
     ]
    }
   ],
   "source": [
    "print(pairwise_tukeyhsd(data['shop_dur'], data['weekday'], alpha=0.05))"
   ]
  },
  {
   "cell_type": "markdown",
   "metadata": {},
   "source": [
    "## 7. shop_dur ~ smoking"
   ]
  },
  {
   "cell_type": "code",
   "execution_count": 182,
   "metadata": {},
   "outputs": [
    {
     "name": "stdout",
     "output_type": "stream",
     "text": [
      "+-----------+-----+------------+------------+\n",
      "|   smoking |   N |   shop_dur |   shop_dur |\n",
      "|           |     |       mean |        std |\n",
      "+===========+=====+============+============+\n",
      "|         0 |  99 |       6.28 |       2.02 |\n",
      "+-----------+-----+------------+------------+\n",
      "|         1 |  61 |       5.89 |       1.82 |\n",
      "+-----------+-----+------------+------------+\n"
     ]
    }
   ],
   "source": [
    "create_1cat_table(data, 'smoking', 'shop_dur')"
   ]
  },
  {
   "cell_type": "code",
   "execution_count": 183,
   "metadata": {},
   "outputs": [],
   "source": [
    "lm = smf.ols('shop_dur ~ smoking', data=data).fit()"
   ]
  },
  {
   "cell_type": "markdown",
   "metadata": {},
   "source": [
    "### Independence of varaibles"
   ]
  },
  {
   "cell_type": "code",
   "execution_count": 184,
   "metadata": {},
   "outputs": [
    {
     "data": {
      "image/png": "[encoded data removed]",
      "text/plain": [
       "<Figure size 432x288 with 1 Axes>"
      ]
     },
     "metadata": {
      "needs_background": "light"
     },
     "output_type": "display_data"
    }
   ],
   "source": [
    "independence_test(lm)"
   ]
  },
  {
   "cell_type": "markdown",
   "metadata": {},
   "source": [
    "From the plot, we can see that independece of variables holds."
   ]
  },
  {
   "cell_type": "markdown",
   "metadata": {},
   "source": [
    "### Homogenity test"
   ]
  },
  {
   "cell_type": "code",
   "execution_count": 322,
   "metadata": {},
   "outputs": [
    {
     "name": "stdout",
     "output_type": "stream",
     "text": [
      "p-values 0.376838\n"
     ]
    }
   ],
   "source": [
    "w, pvalue = stats.bartlett(data[data['smoking']==0]['shop_dur'], \n",
    "                           data[data['smoking']==1]['shop_dur'])\n",
    "print('p-values %.6f' % pvalue)"
   ]
  },
  {
   "cell_type": "markdown",
   "metadata": {},
   "source": [
    "AS the p-value is significant, thus, homogenity holds."
   ]
  },
  {
   "cell_type": "markdown",
   "metadata": {},
   "source": [
    "### Shaprio-Wild//qq plot test to check the normal distribution of residuals"
   ]
  },
  {
   "cell_type": "code",
   "execution_count": 139,
   "metadata": {},
   "outputs": [
    {
     "data": {
      "image/png": "[encoded data removed]",
      "text/plain": [
       "<Figure size 432x288 with 1 Axes>"
      ]
     },
     "metadata": {
      "needs_background": "light"
     },
     "output_type": "display_data"
    }
   ],
   "source": [
    "fig = sm.qqplot(lm.resid, line='s')\n",
    "plt.show()"
   ]
  },
  {
   "cell_type": "code",
   "execution_count": 140,
   "metadata": {},
   "outputs": [
    {
     "name": "stdout",
     "output_type": "stream",
     "text": [
      "p-values 0.2638\n"
     ]
    }
   ],
   "source": [
    "_, p = stats.shapiro(lm.resid)\n",
    "print('p-values %.4f' % p)"
   ]
  },
  {
   "cell_type": "markdown",
   "metadata": {},
   "source": [
    "As the p-value < 0.26 is significant, we reject null hypothesis and conclude that residuals are normally distributed."
   ]
  },
  {
   "cell_type": "markdown",
   "metadata": {},
   "source": [
    "#### Calculate anova"
   ]
  },
  {
   "cell_type": "code",
   "execution_count": 141,
   "metadata": {},
   "outputs": [
    {
     "data": {
      "text/html": [
       "<div>\n",
       "<style scoped>\n",
       "    .dataframe tbody tr th:only-of-type {\n",
       "        vertical-align: middle;\n",
       "    }\n",
       "\n",
       "    .dataframe tbody tr th {\n",
       "        vertical-align: top;\n",
       "    }\n",
       "\n",
       "    .dataframe thead th {\n",
       "        text-align: right;\n",
       "    }\n",
       "</style>\n",
       "<table border=\"1\" class=\"dataframe\">\n",
       "  <thead>\n",
       "    <tr style=\"text-align: right;\">\n",
       "      <th></th>\n",
       "      <th>df</th>\n",
       "      <th>sum_sq</th>\n",
       "      <th>mean_sq</th>\n",
       "      <th>F</th>\n",
       "      <th>PR(&gt;F)</th>\n",
       "    </tr>\n",
       "  </thead>\n",
       "  <tbody>\n",
       "    <tr>\n",
       "      <td>smoking</td>\n",
       "      <td>1.0</td>\n",
       "      <td>5.831604</td>\n",
       "      <td>5.831604</td>\n",
       "      <td>1.52342</td>\n",
       "      <td>0.218935</td>\n",
       "    </tr>\n",
       "    <tr>\n",
       "      <td>Residual</td>\n",
       "      <td>158.0</td>\n",
       "      <td>604.819200</td>\n",
       "      <td>3.827970</td>\n",
       "      <td>NaN</td>\n",
       "      <td>NaN</td>\n",
       "    </tr>\n",
       "  </tbody>\n",
       "</table>\n",
       "</div>"
      ],
      "text/plain": [
       "             df      sum_sq   mean_sq        F    PR(>F)\n",
       "smoking     1.0    5.831604  5.831604  1.52342  0.218935\n",
       "Residual  158.0  604.819200  3.827970      NaN       NaN"
      ]
     },
     "execution_count": 141,
     "metadata": {},
     "output_type": "execute_result"
    }
   ],
   "source": [
    "sm.stats.anova_lm(lm, type=1)"
   ]
  },
  {
   "cell_type": "markdown",
   "metadata": {},
   "source": [
    "Anova test, doens't let us to infer that the customes those are smoker are intend to spend less time inside shopping."
   ]
  },
  {
   "cell_type": "markdown",
   "metadata": {},
   "source": [
    "## 8.  \n",
    "#### shop_dur ~ daytime + sleeping_time_groups + sport_activity_groups + daytime*sleeping_time_groups + daytime*sport_activity_groups +sleeping_time_groups*sport_activity_groups"
   ]
  },
  {
   "cell_type": "code",
   "execution_count": 142,
   "metadata": {},
   "outputs": [
    {
     "name": "stdout",
     "output_type": "stream",
     "text": [
      "+------------------------+-----+------------+------------+\n",
      "| sleeping_time_groups   |   N |   shop_dur |   shop_dur |\n",
      "|                        |     |       mean |        std |\n",
      "+========================+=====+============+============+\n",
      "| (2.999, 6.0]           |  41 |       5.69 |       1.78 |\n",
      "+------------------------+-----+------------+------------+\n",
      "| (6.0, 7.0]             |  47 |       5.95 |       1.9  |\n",
      "+------------------------+-----+------------+------------+\n",
      "| (7.0, 8.0]             |  50 |       6.23 |       1.95 |\n",
      "+------------------------+-----+------------+------------+\n",
      "| (8.0, 12.0]            |  22 |       7.15 |       2.01 |\n",
      "+------------------------+-----+------------+------------+\n"
     ]
    }
   ],
   "source": [
    "create_1cat_table(data, 'sleeping_time_groups', 'shop_dur')"
   ]
  },
  {
   "cell_type": "code",
   "execution_count": 143,
   "metadata": {},
   "outputs": [],
   "source": [
    "lm = smf.ols('shop_dur ~ daytime + sleeping_time_groups + sport_activity_groups\\\n",
    "            + daytime*sleeping_time_groups + daytime*sport_activity_groups\\\n",
    "            + sleeping_time_groups*sport_activity_groups', data=data).fit()"
   ]
  },
  {
   "cell_type": "markdown",
   "metadata": {},
   "source": [
    "### Independence of varaibles and homogenity"
   ]
  },
  {
   "cell_type": "code",
   "execution_count": 144,
   "metadata": {},
   "outputs": [
    {
     "data": {
      "image/png": "[encoded data removed]",
      "text/plain": [
       "<Figure size 432x288 with 1 Axes>"
      ]
     },
     "metadata": {
      "needs_background": "light"
     },
     "output_type": "display_data"
    }
   ],
   "source": [
    "independence_test(lm)"
   ]
  },
  {
   "cell_type": "markdown",
   "metadata": {},
   "source": [
    "This plot shows the residuals (errors) on the y-axis and the fitted values (predicted values) on the x-axis. We can see that plot has no pattern or in other words each goup has same variance, thus the points should look like a more of random points. The plot spoints out that the variances are approximately homogenous since the residuals are distributed approximately equally above and below zero."
   ]
  },
  {
   "cell_type": "markdown",
   "metadata": {},
   "source": [
    "### Shaprio-Wild test//qq plot to check the normal distribution of residuals"
   ]
  },
  {
   "cell_type": "code",
   "execution_count": 145,
   "metadata": {},
   "outputs": [
    {
     "data": {
      "image/png": "[encoded data removed]",
      "text/plain": [
       "<Figure size 432x288 with 1 Axes>"
      ]
     },
     "metadata": {
      "needs_background": "light"
     },
     "output_type": "display_data"
    }
   ],
   "source": [
    "fig = sm.qqplot(lm.resid, line='s')\n",
    "plt.show()"
   ]
  },
  {
   "cell_type": "code",
   "execution_count": 146,
   "metadata": {},
   "outputs": [
    {
     "name": "stdout",
     "output_type": "stream",
     "text": [
      "p-values 0.5178\n"
     ]
    }
   ],
   "source": [
    "_, p = stats.shapiro(lm.resid)\n",
    "print('p-values %.4f' % p)"
   ]
  },
  {
   "cell_type": "markdown",
   "metadata": {},
   "source": [
    "As the p-value > 0.5178 is significant, we reject null hypothesis and conclude that residuals are normally distributed."
   ]
  },
  {
   "cell_type": "markdown",
   "metadata": {},
   "source": [
    "## Calcualate anova\n",
    "\n",
    "As the assumptions of anova meet, now we can calculate it."
   ]
  },
  {
   "cell_type": "code",
   "execution_count": 147,
   "metadata": {},
   "outputs": [
    {
     "data": {
      "text/html": [
       "<div>\n",
       "<style scoped>\n",
       "    .dataframe tbody tr th:only-of-type {\n",
       "        vertical-align: middle;\n",
       "    }\n",
       "\n",
       "    .dataframe tbody tr th {\n",
       "        vertical-align: top;\n",
       "    }\n",
       "\n",
       "    .dataframe thead th {\n",
       "        text-align: right;\n",
       "    }\n",
       "</style>\n",
       "<table border=\"1\" class=\"dataframe\">\n",
       "  <thead>\n",
       "    <tr style=\"text-align: right;\">\n",
       "      <th></th>\n",
       "      <th>df</th>\n",
       "      <th>sum_sq</th>\n",
       "      <th>mean_sq</th>\n",
       "      <th>F</th>\n",
       "      <th>PR(&gt;F)</th>\n",
       "    </tr>\n",
       "  </thead>\n",
       "  <tbody>\n",
       "    <tr>\n",
       "      <td>daytime</td>\n",
       "      <td>2.0</td>\n",
       "      <td>5.399209</td>\n",
       "      <td>2.699604</td>\n",
       "      <td>0.734829</td>\n",
       "      <td>0.481569</td>\n",
       "    </tr>\n",
       "    <tr>\n",
       "      <td>sleeping_time_groups</td>\n",
       "      <td>3.0</td>\n",
       "      <td>31.341825</td>\n",
       "      <td>10.447275</td>\n",
       "      <td>2.843734</td>\n",
       "      <td>0.040302</td>\n",
       "    </tr>\n",
       "    <tr>\n",
       "      <td>sport_activity_groups</td>\n",
       "      <td>3.0</td>\n",
       "      <td>9.567910</td>\n",
       "      <td>3.189303</td>\n",
       "      <td>0.868124</td>\n",
       "      <td>0.459510</td>\n",
       "    </tr>\n",
       "    <tr>\n",
       "      <td>daytime:sleeping_time_groups</td>\n",
       "      <td>6.0</td>\n",
       "      <td>33.606052</td>\n",
       "      <td>5.601009</td>\n",
       "      <td>1.524587</td>\n",
       "      <td>0.175013</td>\n",
       "    </tr>\n",
       "    <tr>\n",
       "      <td>daytime:sport_activity_groups</td>\n",
       "      <td>6.0</td>\n",
       "      <td>7.482044</td>\n",
       "      <td>1.247007</td>\n",
       "      <td>0.339434</td>\n",
       "      <td>0.914882</td>\n",
       "    </tr>\n",
       "    <tr>\n",
       "      <td>sleeping_time_groups:sport_activity_groups</td>\n",
       "      <td>9.0</td>\n",
       "      <td>45.661398</td>\n",
       "      <td>5.073489</td>\n",
       "      <td>1.380997</td>\n",
       "      <td>0.203073</td>\n",
       "    </tr>\n",
       "    <tr>\n",
       "      <td>Residual</td>\n",
       "      <td>130.0</td>\n",
       "      <td>477.592367</td>\n",
       "      <td>3.673787</td>\n",
       "      <td>NaN</td>\n",
       "      <td>NaN</td>\n",
       "    </tr>\n",
       "  </tbody>\n",
       "</table>\n",
       "</div>"
      ],
      "text/plain": [
       "                                               df      sum_sq    mean_sq  \\\n",
       "daytime                                       2.0    5.399209   2.699604   \n",
       "sleeping_time_groups                          3.0   31.341825  10.447275   \n",
       "sport_activity_groups                         3.0    9.567910   3.189303   \n",
       "daytime:sleeping_time_groups                  6.0   33.606052   5.601009   \n",
       "daytime:sport_activity_groups                 6.0    7.482044   1.247007   \n",
       "sleeping_time_groups:sport_activity_groups    9.0   45.661398   5.073489   \n",
       "Residual                                    130.0  477.592367   3.673787   \n",
       "\n",
       "                                                   F    PR(>F)  \n",
       "daytime                                     0.734829  0.481569  \n",
       "sleeping_time_groups                        2.843734  0.040302  \n",
       "sport_activity_groups                       0.868124  0.459510  \n",
       "daytime:sleeping_time_groups                1.524587  0.175013  \n",
       "daytime:sport_activity_groups               0.339434  0.914882  \n",
       "sleeping_time_groups:sport_activity_groups  1.380997  0.203073  \n",
       "Residual                                         NaN       NaN  "
      ]
     },
     "execution_count": 147,
     "metadata": {},
     "output_type": "execute_result"
    }
   ],
   "source": [
    "sm.stats.anova_lm(lm, type=3)"
   ]
  },
  {
   "cell_type": "markdown",
   "metadata": {},
   "source": [
    "Here we have calculated ANOVA response of daytime, sleeping time, sports activities number and their interaction on shopping duration. We only observed a significant difference in sleeping time group. Using this insight, companies can look for ways to target their customer concerning their daily life."
   ]
  },
  {
   "cell_type": "markdown",
   "metadata": {},
   "source": [
    "#### Interaction plot"
   ]
  },
  {
   "cell_type": "code",
   "execution_count": 148,
   "metadata": {},
   "outputs": [
    {
     "data": {
      "image/png": "[encoded data removed]",
      "text/plain": [
       "<Figure size 432x288 with 1 Axes>"
      ]
     },
     "execution_count": 148,
     "metadata": {},
     "output_type": "execute_result"
    },
    {
     "data": {
      "image/png": "[encoded data removed]",
      "text/plain": [
       "<Figure size 432x288 with 1 Axes>"
      ]
     },
     "metadata": {
      "needs_background": "light"
     },
     "output_type": "display_data"
    }
   ],
   "source": [
    "interaction_plot(data['sleeping_time_groups'], data['sport_activity_groups'], data['shop_dur'])"
   ]
  },
  {
   "cell_type": "markdown",
   "metadata": {},
   "source": [
    "Interaction plot suggests that poeople sleeping more than 8 hours and actively participate in sports activities tended to spend more time in shopping."
   ]
  },
  {
   "cell_type": "markdown",
   "metadata": {},
   "source": [
    "## 9. shop_dur ~ ex_max_groups (ex_min_groups)"
   ]
  },
  {
   "cell_type": "code",
   "execution_count": 149,
   "metadata": {},
   "outputs": [
    {
     "name": "stdout",
     "output_type": "stream",
     "text": [
      "+-----------------+-----+------------+------------+\n",
      "| ex_max_groups   |   N |   shop_dur |   shop_dur |\n",
      "|                 |     |       mean |        std |\n",
      "+=================+=====+============+============+\n",
      "| (106.0, 116.0]  |  41 |       5.88 |       1.58 |\n",
      "+-----------------+-----+------------+------------+\n",
      "| (116.0, 124.25] |  38 |       6.32 |       1.71 |\n",
      "+-----------------+-----+------------+------------+\n",
      "| (124.25, 148.0] |  40 |       6.03 |       2.2  |\n",
      "+-----------------+-----+------------+------------+\n",
      "| (69.999, 106.0] |  41 |       6.32 |       2.2  |\n",
      "+-----------------+-----+------------+------------+\n"
     ]
    }
   ],
   "source": [
    "create_1cat_table(data, 'ex_max_groups', 'shop_dur')"
   ]
  },
  {
   "cell_type": "code",
   "execution_count": 150,
   "metadata": {},
   "outputs": [
    {
     "name": "stdout",
     "output_type": "stream",
     "text": [
      "+-----------------+-----+------------+------------+\n",
      "| ex_min_groups   |   N |   shop_dur |   shop_dur |\n",
      "|                 |     |       mean |        std |\n",
      "+=================+=====+============+============+\n",
      "| (43.999, 65.0]  |  44 |       6.41 |       2.08 |\n",
      "+-----------------+-----+------------+------------+\n",
      "| (65.0, 72.0]    |  38 |       5.83 |       1.97 |\n",
      "+-----------------+-----+------------+------------+\n",
      "| (72.0, 80.25]   |  38 |       6.23 |       1.72 |\n",
      "+-----------------+-----+------------+------------+\n",
      "| (80.25, 120.0]  |  40 |       6.03 |       1.96 |\n",
      "+-----------------+-----+------------+------------+\n"
     ]
    }
   ],
   "source": [
    "create_1cat_table(data, 'ex_min_groups', 'shop_dur')"
   ]
  },
  {
   "cell_type": "markdown",
   "metadata": {},
   "source": [
    "As the distribution of ex_min_groups is very similar to the that of ex_max_grops, we won't calculate ANOVA assumptions again for it as well."
   ]
  },
  {
   "cell_type": "code",
   "execution_count": 151,
   "metadata": {},
   "outputs": [],
   "source": [
    "lm = smf.ols('shop_dur ~ ex_max_groups', data=data).fit()"
   ]
  },
  {
   "cell_type": "markdown",
   "metadata": {},
   "source": [
    "### Independence of varaibles"
   ]
  },
  {
   "cell_type": "code",
   "execution_count": 152,
   "metadata": {},
   "outputs": [
    {
     "data": {
      "image/png": "[encoded data removed]",
      "text/plain": [
       "<Figure size 432x288 with 1 Axes>"
      ]
     },
     "metadata": {
      "needs_background": "light"
     },
     "output_type": "display_data"
    }
   ],
   "source": [
    "independence_test(lm)"
   ]
  },
  {
   "cell_type": "markdown",
   "metadata": {},
   "source": [
    "This plot shows the residuals (errors) on the y-axis and the fitted values (predicted values) on the x-axis. We can see that plot is randomly distributed, this is independent."
   ]
  },
  {
   "cell_type": "markdown",
   "metadata": {},
   "source": [
    "### Homogenity test"
   ]
  },
  {
   "cell_type": "code",
   "execution_count": 310,
   "metadata": {},
   "outputs": [
    {
     "name": "stdout",
     "output_type": "stream",
     "text": [
      "['(106.0, 116.0]' '(116.0, 124.25]' '(124.25, 148.0]' '(69.999, 106.0]']\n"
     ]
    }
   ],
   "source": [
    "groups = np.unique(data['ex_max_groups'])\n",
    "print(groups)"
   ]
  },
  {
   "cell_type": "code",
   "execution_count": 311,
   "metadata": {},
   "outputs": [
    {
     "name": "stdout",
     "output_type": "stream",
     "text": [
      "p-values 0.0861\n"
     ]
    }
   ],
   "source": [
    "w, pvalue = stats.bartlett(data[data['ex_max_groups']==groups[0]]['shop_dur'], \n",
    "                           data[data['ex_max_groups']==groups[1]]['shop_dur'], \n",
    "                           data[data['ex_max_groups']==groups[2]]['shop_dur'], \n",
    "                           data[data['ex_max_groups']==groups[3]]['shop_dur'])\n",
    "print('p-values %.4f' % pvalue)"
   ]
  },
  {
   "cell_type": "markdown",
   "metadata": {},
   "source": [
    "This concludes that homogenity among groups holds."
   ]
  },
  {
   "cell_type": "markdown",
   "metadata": {},
   "source": [
    "### Shaprio-Wild//qq plot test to check the normal distribution of residuals"
   ]
  },
  {
   "cell_type": "code",
   "execution_count": 155,
   "metadata": {},
   "outputs": [
    {
     "data": {
      "image/png": "[encoded data removed]",
      "text/plain": [
       "<Figure size 432x288 with 1 Axes>"
      ]
     },
     "metadata": {
      "needs_background": "light"
     },
     "output_type": "display_data"
    }
   ],
   "source": [
    "fig = sm.qqplot(lm.resid, line='s')\n",
    "plt.show()"
   ]
  },
  {
   "cell_type": "code",
   "execution_count": 156,
   "metadata": {},
   "outputs": [
    {
     "name": "stdout",
     "output_type": "stream",
     "text": [
      "p-values 0.2523\n"
     ]
    }
   ],
   "source": [
    "_, p = stats.shapiro(lm.resid)\n",
    "print('p-values %.4f' % p)"
   ]
  },
  {
   "cell_type": "markdown",
   "metadata": {},
   "source": [
    "As the p-value < 0.2523 is significant, we reject null hypothesis and conclude that residuals are normally distributed."
   ]
  },
  {
   "cell_type": "markdown",
   "metadata": {},
   "source": [
    "### Calculate anova for both ex_max_groups and ex_min_groups"
   ]
  },
  {
   "cell_type": "code",
   "execution_count": 157,
   "metadata": {},
   "outputs": [
    {
     "data": {
      "text/html": [
       "<div>\n",
       "<style scoped>\n",
       "    .dataframe tbody tr th:only-of-type {\n",
       "        vertical-align: middle;\n",
       "    }\n",
       "\n",
       "    .dataframe tbody tr th {\n",
       "        vertical-align: top;\n",
       "    }\n",
       "\n",
       "    .dataframe thead th {\n",
       "        text-align: right;\n",
       "    }\n",
       "</style>\n",
       "<table border=\"1\" class=\"dataframe\">\n",
       "  <thead>\n",
       "    <tr style=\"text-align: right;\">\n",
       "      <th></th>\n",
       "      <th>df</th>\n",
       "      <th>sum_sq</th>\n",
       "      <th>mean_sq</th>\n",
       "      <th>F</th>\n",
       "      <th>PR(&gt;F)</th>\n",
       "    </tr>\n",
       "  </thead>\n",
       "  <tbody>\n",
       "    <tr>\n",
       "      <td>ex_max_groups</td>\n",
       "      <td>3.0</td>\n",
       "      <td>5.968640</td>\n",
       "      <td>1.989547</td>\n",
       "      <td>0.513277</td>\n",
       "      <td>0.673717</td>\n",
       "    </tr>\n",
       "    <tr>\n",
       "      <td>Residual</td>\n",
       "      <td>156.0</td>\n",
       "      <td>604.682164</td>\n",
       "      <td>3.876168</td>\n",
       "      <td>NaN</td>\n",
       "      <td>NaN</td>\n",
       "    </tr>\n",
       "  </tbody>\n",
       "</table>\n",
       "</div>"
      ],
      "text/plain": [
       "                  df      sum_sq   mean_sq         F    PR(>F)\n",
       "ex_max_groups    3.0    5.968640  1.989547  0.513277  0.673717\n",
       "Residual       156.0  604.682164  3.876168       NaN       NaN"
      ]
     },
     "execution_count": 157,
     "metadata": {},
     "output_type": "execute_result"
    }
   ],
   "source": [
    "lm = smf.ols('shop_dur ~ ex_max_groups', data=data).fit()\n",
    "sm.stats.anova_lm(lm, type=1)"
   ]
  },
  {
   "cell_type": "code",
   "execution_count": 203,
   "metadata": {},
   "outputs": [
    {
     "data": {
      "text/html": [
       "<div>\n",
       "<style scoped>\n",
       "    .dataframe tbody tr th:only-of-type {\n",
       "        vertical-align: middle;\n",
       "    }\n",
       "\n",
       "    .dataframe tbody tr th {\n",
       "        vertical-align: top;\n",
       "    }\n",
       "\n",
       "    .dataframe thead th {\n",
       "        text-align: right;\n",
       "    }\n",
       "</style>\n",
       "<table border=\"1\" class=\"dataframe\">\n",
       "  <thead>\n",
       "    <tr style=\"text-align: right;\">\n",
       "      <th></th>\n",
       "      <th>df</th>\n",
       "      <th>sum_sq</th>\n",
       "      <th>mean_sq</th>\n",
       "      <th>F</th>\n",
       "      <th>PR(&gt;F)</th>\n",
       "    </tr>\n",
       "  </thead>\n",
       "  <tbody>\n",
       "    <tr>\n",
       "      <td>ex_min_groups</td>\n",
       "      <td>3.0</td>\n",
       "      <td>575.530353</td>\n",
       "      <td>191.843451</td>\n",
       "      <td>0.675388</td>\n",
       "      <td>0.568359</td>\n",
       "    </tr>\n",
       "    <tr>\n",
       "      <td>Residual</td>\n",
       "      <td>156.0</td>\n",
       "      <td>44311.663397</td>\n",
       "      <td>284.049124</td>\n",
       "      <td>NaN</td>\n",
       "      <td>NaN</td>\n",
       "    </tr>\n",
       "  </tbody>\n",
       "</table>\n",
       "</div>"
      ],
      "text/plain": [
       "                  df        sum_sq     mean_sq         F    PR(>F)\n",
       "ex_min_groups    3.0    575.530353  191.843451  0.675388  0.568359\n",
       "Residual       156.0  44311.663397  284.049124       NaN       NaN"
      ]
     },
     "execution_count": 203,
     "metadata": {},
     "output_type": "execute_result"
    }
   ],
   "source": [
    "lm = smf.ols('shop_dur ~ ex_min_groups', data=data).fit()\n",
    "sm.stats.anova_lm(lm, type=1)"
   ]
  },
  {
   "cell_type": "markdown",
   "metadata": {},
   "source": [
    "Annova test alone suggests that given ex_mag_groups and ex_min_groups don't show any different distribution on the response variable, thus not important for capturing necessary information."
   ]
  },
  {
   "cell_type": "markdown",
   "metadata": {},
   "source": [
    "## 10. shop_dur ~ max_time_groups (min_time_groups)"
   ]
  },
  {
   "cell_type": "code",
   "execution_count": 158,
   "metadata": {},
   "outputs": [
    {
     "name": "stdout",
     "output_type": "stream",
     "text": [
      "+-------------------+-----+------------+------------+\n",
      "| max_time_groups   |   N |   shop_dur |   shop_dur |\n",
      "|                   |     |       mean |        std |\n",
      "+===================+=====+============+============+\n",
      "| (0.999, 8.0]      |  43 |       4.66 |       2.02 |\n",
      "+-------------------+-----+------------+------------+\n",
      "| (16.5, 31.0]      |  41 |       6.38 |       1.17 |\n",
      "+-------------------+-----+------------+------------+\n",
      "| (31.0, 74.0]      |  39 |       8.12 |       1.1  |\n",
      "+-------------------+-----+------------+------------+\n",
      "| (8.0, 16.5]       |  37 |       5.49 |       1.36 |\n",
      "+-------------------+-----+------------+------------+\n"
     ]
    }
   ],
   "source": [
    "create_1cat_table(data, 'max_time_groups', 'shop_dur')"
   ]
  },
  {
   "cell_type": "code",
   "execution_count": 159,
   "metadata": {},
   "outputs": [
    {
     "name": "stdout",
     "output_type": "stream",
     "text": [
      "+-------------------+-----+------------+------------+\n",
      "| min_time_groups   |   N |   shop_dur |   shop_dur |\n",
      "|                   |     |       mean |        std |\n",
      "+===================+=====+============+============+\n",
      "| (0.999, 6.0]      |  43 |       5.1  |       1.95 |\n",
      "+-------------------+-----+------------+------------+\n",
      "| (13.0, 23.0]      |  42 |       6.41 |       1.3  |\n",
      "+-------------------+-----+------------+------------+\n",
      "| (23.0, 150.0]     |  37 |       7.9  |       1.42 |\n",
      "+-------------------+-----+------------+------------+\n",
      "| (6.0, 13.0]       |  38 |       5.29 |       1.7  |\n",
      "+-------------------+-----+------------+------------+\n"
     ]
    }
   ],
   "source": [
    "create_1cat_table(data, 'min_time_groups', 'shop_dur')"
   ]
  },
  {
   "cell_type": "markdown",
   "metadata": {},
   "source": [
    "As the distribution of min_time_groups is very similar to the that of max_time_groups, we won't calculate ANOVA assumptions again for it as well."
   ]
  },
  {
   "cell_type": "code",
   "execution_count": 160,
   "metadata": {},
   "outputs": [],
   "source": [
    "lm = smf.ols('shop_dur ~ max_time_groups', data=data).fit()"
   ]
  },
  {
   "cell_type": "markdown",
   "metadata": {},
   "source": [
    "### Independence of varaibles"
   ]
  },
  {
   "cell_type": "code",
   "execution_count": 161,
   "metadata": {},
   "outputs": [
    {
     "data": {
      "image/png": "[encoded data removed]",
      "text/plain": [
       "<Figure size 432x288 with 1 Axes>"
      ]
     },
     "metadata": {
      "needs_background": "light"
     },
     "output_type": "display_data"
    }
   ],
   "source": [
    "independence_test(lm)"
   ]
  },
  {
   "cell_type": "markdown",
   "metadata": {},
   "source": [
    "This plot shows the residuals (errors) on the y-axis and the fitted values (predicted values) on the x-axis. We can see that plot is randomly distributed, this is independent."
   ]
  },
  {
   "cell_type": "markdown",
   "metadata": {},
   "source": [
    "### Homogenity test"
   ]
  },
  {
   "cell_type": "code",
   "execution_count": 313,
   "metadata": {},
   "outputs": [
    {
     "name": "stdout",
     "output_type": "stream",
     "text": [
      "['(0.999, 8.0]' '(16.5, 31.0]' '(31.0, 74.0]' '(8.0, 16.5]']\n"
     ]
    }
   ],
   "source": [
    "groups = np.unique(data['max_time_groups'])\n",
    "print(groups)"
   ]
  },
  {
   "cell_type": "code",
   "execution_count": 314,
   "metadata": {},
   "outputs": [
    {
     "name": "stdout",
     "output_type": "stream",
     "text": [
      "p-values 0.0003\n"
     ]
    }
   ],
   "source": [
    "w, pvalue = stats.bartlett(data[data['max_time_groups']==groups[0]]['shop_dur'], \n",
    "                           data[data['max_time_groups']==groups[1]]['shop_dur'], \n",
    "                           data[data['max_time_groups']==groups[2]]['shop_dur'], \n",
    "                           data[data['max_time_groups']==groups[3]]['shop_dur'])\n",
    "print('p-values %.4f' % pvalue)"
   ]
  },
  {
   "cell_type": "markdown",
   "metadata": {},
   "source": [
    "This concludes that homogenity among groups doesn't hold."
   ]
  },
  {
   "cell_type": "markdown",
   "metadata": {},
   "source": [
    "### Shaprio-Wild//qq plot test to check the normal distribution of residuals"
   ]
  },
  {
   "cell_type": "code",
   "execution_count": 176,
   "metadata": {},
   "outputs": [
    {
     "data": {
      "image/png": "[encoded data removed]",
      "text/plain": [
       "<Figure size 432x288 with 1 Axes>"
      ]
     },
     "metadata": {
      "needs_background": "light"
     },
     "output_type": "display_data"
    }
   ],
   "source": [
    "fig = sm.qqplot(lm.resid, line='s')\n",
    "plt.show()"
   ]
  },
  {
   "cell_type": "code",
   "execution_count": 177,
   "metadata": {},
   "outputs": [
    {
     "name": "stdout",
     "output_type": "stream",
     "text": [
      "p-values 0.0006\n"
     ]
    }
   ],
   "source": [
    "_, p = stats.shapiro(lm.resid)\n",
    "print('p-values %.4f' % p)"
   ]
  },
  {
   "cell_type": "markdown",
   "metadata": {},
   "source": [
    "Normality of residuals aslo don't hold. As the assumptions are not meet, we wont calculate anova. "
   ]
  }
 ],
 "metadata": {
  "kernelspec": {
   "display_name": "Python 3",
   "language": "python",
   "name": "python3"
  },
  "language_info": {
   "codemirror_mode": {
    "name": "ipython",
    "version": 3
   },
   "file_extension": ".py",
   "mimetype": "text/x-python",
   "name": "python",
   "nbconvert_exporter": "python",
   "pygments_lexer": "ipython3",
   "version": "3.7.4"
  }
 },
 "nbformat": 4,
 "nbformat_minor": 2
}
