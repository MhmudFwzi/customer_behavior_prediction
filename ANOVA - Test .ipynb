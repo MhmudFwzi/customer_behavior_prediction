{
 "cells": [
  {
   "cell_type": "code",
   "execution_count": 119,
   "metadata": {},
   "outputs": [],
   "source": [
    "import pandas as pd\n",
    "import numpy as np\n",
    "from tabulate import tabulate\n",
    "from scipy import stats\n",
    "import matplotlib.pyplot as plt\n",
    "\n",
    "# import statmodels\n",
    "import statsmodels.formula.api as smf\n",
    "from statsmodels.stats.multicomp import pairwise_tukeyhsd\n",
    "from statsmodels.graphics.factorplots import interaction_plot\n",
    "import statsmodels.api as sm\n",
    "import seaborn as sns"
   ]
  },
  {
   "cell_type": "markdown",
   "metadata": {},
   "source": [
    "#### Some utulity functions"
   ]
  },
  {
   "cell_type": "code",
   "execution_count": 21,
   "metadata": {},
   "outputs": [],
   "source": [
    "def create_2cat_table(data, cat_var1, cat_var2, observation):\n",
    "    '''\n",
    "    cerate tables for anova observation\n",
    "    input: \n",
    "        data: dataset type of panda dataframe\n",
    "        cat_var1: label of first cat variable\n",
    "        cat_var2: label of second cat variable\n",
    "        observation: label of traget variable\n",
    "        \n",
    "    \n",
    "    '''\n",
    "    \n",
    "    # list for storing tabulate data\n",
    "    tabulate_list = []\n",
    "\n",
    "    # iterate over first var\n",
    "    for cat_1 in np.unique(data[cat_var1]):\n",
    "\n",
    "        sub_group=''\n",
    "        sub_len=''\n",
    "        sub_mean=''\n",
    "        sub_std=''\n",
    "\n",
    "        # iterate over second var\n",
    "        for cat_2 in np.unique(data[cat_var2]):\n",
    "\n",
    "            # get value for given cat_1 and cat_2\n",
    "            tmp_data = data[(data[cat_var1]==cat_1) & (data[cat_var2]==cat_2)][observation]\n",
    "\n",
    "            # labels\n",
    "            sub_group=sub_group+'\\n'+cat_2\n",
    "            \n",
    "            # values\n",
    "            sub_len=sub_len+'\\n'+str(len(tmp_data))\n",
    "            sub_mean=sub_mean+'\\n'+ '%.2f' % np.mean(tmp_data)\n",
    "            sub_std=sub_std+'\\n'+ '%.2f' % np.std(tmp_data)\n",
    "\n",
    "        # add to main tabulate list\n",
    "        tabulate_list.append([cat_1, sub_group, sub_len, sub_mean, sub_std,\n",
    "                             np.mean(data[data[cat_var1]==cat_1][observation]),\n",
    "                             np.std(data[data[cat_var1]==cat_1][observation])])\n",
    "\n",
    "    # print tabulate\n",
    "    print(tabulate(tabulate_list, headers=[cat_var1, cat_var2, 'N', \n",
    "                                        observation+'\\nmean', \n",
    "                                        observation+'\\nstd',\n",
    "                                        observation+'\\nmean_all', \n",
    "                                        observation+'\\nstd_all'], tablefmt='grid'))"
   ]
  },
  {
   "cell_type": "code",
   "execution_count": 22,
   "metadata": {},
   "outputs": [],
   "source": [
    "def create_1cat_table(data, cat_var1, observation):\n",
    "    '''\n",
    "    cerate tables for anova observation\n",
    "    input: \n",
    "        data: dataset type of panda dataframe\n",
    "        cat_var1: label of first cat variabl\n",
    "        observation: label of traget variable\n",
    "    '''\n",
    "    \n",
    "    # list for storing tabulate data\n",
    "    tabulate_list = []\n",
    "\n",
    "    # iterate over first var\n",
    "    for cat_1 in np.unique(data[cat_var1]):\n",
    "     \n",
    "        # get value for given cat_1 and cat_2\n",
    "        tmp_data = data[data[cat_var1]==cat_1][observation]\n",
    "\n",
    "        # add to main tabulate list\n",
    "        tabulate_list.append([cat_1, len(tmp_data), \n",
    "                              '%.2f' % np.mean(tmp_data),\n",
    "                              '%.2f' % np.std(tmp_data)])\n",
    "\n",
    "    # print tabulate\n",
    "    print(tabulate(tabulate_list, headers=[cat_var1, 'N', \n",
    "                                        observation+'\\nmean', \n",
    "                                        observation+'\\nstd'], tablefmt='grid'))"
   ]
  },
  {
   "cell_type": "code",
   "execution_count": 44,
   "metadata": {},
   "outputs": [],
   "source": [
    "def independence_test(lm):\n",
    "    '''\n",
    "    gets fitted lm model and plot residuals vs fitted valuesfor checking\n",
    "    independence\n",
    "    '''\n",
    "    \n",
    "    fig = plt.figure()\n",
    "\n",
    "    fig.axes[0] = sns.residplot(lm.fittedvalues, lm.resid,\n",
    "                          lowess=True,\n",
    "                          scatter_kws={'alpha': 0.5},\n",
    "                          line_kws={'color': 'red', 'lw': 1, 'alpha': 0.8})\n",
    "\n",
    "    fig.axes[0].set_title('Residuals vs Fitted')\n",
    "    fig.axes[0].set_xlabel('Fitted values')\n",
    "    fig.axes[0].set_ylabel('Residuals')"
   ]
  },
  {
   "cell_type": "markdown",
   "metadata": {},
   "source": [
    "## Load data"
   ]
  },
  {
   "cell_type": "code",
   "execution_count": 2,
   "metadata": {},
   "outputs": [
    {
     "data": {
      "text/plain": [
       "Index(['Id', 'age', 'gender', 'BMI', 'sleeping_time',\n",
       "       'sporting_activity_(h/week)', 'daytime', 'outdoor_temperature',\n",
       "       'shopping_cart', 'attendants', 'shopping_frequency', 'cash_point',\n",
       "       'shopping_amount', 'weekday', 'smoking', 'ex_max', 'ex_min', 'hr_max',\n",
       "       'max_time', 'hr_min', 'min_time', 'shopping duration (in minutes)',\n",
       "       'reaching HRmax'],\n",
       "      dtype='object')"
      ]
     },
     "execution_count": 2,
     "metadata": {},
     "output_type": "execute_result"
    }
   ],
   "source": [
    "# load data\n",
    "data = pd.read_csv ('Dataset_heart rate_retail stores.csv')\n",
    "\n",
    "data.columns"
   ]
  },
  {
   "cell_type": "code",
   "execution_count": 3,
   "metadata": {},
   "outputs": [],
   "source": [
    "# raname shopping duration (in minutes) for easy handling\n",
    "data=data.rename(columns = {'shopping duration (in minutes)':'shop_dur'})"
   ]
  },
  {
   "cell_type": "markdown",
   "metadata": {},
   "source": [
    "## Create categorical vars\n",
    "\n",
    "For doing ANOVA test, we need some group variable. Here we'll create new categorical variables from exsisting onee for this purpose.\n",
    "\n",
    "#### But fist remove the siginificant outliers in shoping durations"
   ]
  },
  {
   "cell_type": "code",
   "execution_count": 4,
   "metadata": {},
   "outputs": [
    {
     "data": {
      "image/png": "[encoded data removed]",
      "text/plain": [
       "<Figure size 432x288 with 1 Axes>"
      ]
     },
     "metadata": {
      "needs_background": "light"
     },
     "output_type": "display_data"
    }
   ],
   "source": [
    "plt.boxplot(x=data['shop_dur'])\n",
    "plt.show()"
   ]
  },
  {
   "cell_type": "code",
   "execution_count": 5,
   "metadata": {},
   "outputs": [],
   "source": [
    "Q1 = data['shop_dur'].quantile(0.25)\n",
    "Q3 = data['shop_dur'].quantile(0.75)\n",
    "IQR = Q3 - Q1\n",
    "lower_bound = Q1 - 1.5 * IQR\n",
    "upper_bound = Q3 + 1.5 * IQR"
   ]
  },
  {
   "cell_type": "code",
   "execution_count": 6,
   "metadata": {},
   "outputs": [
    {
     "data": {
      "text/plain": [
       "17     90\n",
       "25     89\n",
       "96     84\n",
       "120    98\n",
       "121    93\n",
       "Name: shop_dur, dtype: int64"
      ]
     },
     "execution_count": 6,
     "metadata": {},
     "output_type": "execute_result"
    }
   ],
   "source": [
    "data[(data['shop_dur']<lower_bound) | (data['shop_dur']>upper_bound)]['shop_dur']"
   ]
  },
  {
   "cell_type": "code",
   "execution_count": 7,
   "metadata": {},
   "outputs": [],
   "source": [
    "data.drop(data[(data['shop_dur'] > upper_bound) | (data['shop_dur'] < lower_bound) ].index , inplace=True)"
   ]
  },
  {
   "cell_type": "code",
   "execution_count": 8,
   "metadata": {},
   "outputs": [
    {
     "data": {
      "image/png": "[encoded data removed]",
      "text/plain": [
       "<Figure size 432x288 with 1 Axes>"
      ]
     },
     "metadata": {
      "needs_background": "light"
     },
     "output_type": "display_data"
    }
   ],
   "source": [
    "plt.boxplot(x=data['shop_dur'])\n",
    "plt.show()"
   ]
  },
  {
   "cell_type": "markdown",
   "metadata": {},
   "source": [
    "### Categorize varaibles\n",
    "\n",
    "For dviding varaibles in to the groups we'll use qcut from panda which is *Quantile-based discretization function*. This basically means that qcut tries to divide up the underlying data into equal sized bins. \n",
    "\n",
    "#### 1. for age grops"
   ]
  },
  {
   "cell_type": "code",
   "execution_count": 9,
   "metadata": {},
   "outputs": [
    {
     "data": {
      "text/plain": [
       "(29.0, 40.0]      44\n",
       "(17.999, 29.0]    41\n",
       "(52.0, 72.0]      38\n",
       "(40.0, 52.0]      37\n",
       "Name: age_groups, dtype: int64"
      ]
     },
     "execution_count": 9,
     "metadata": {},
     "output_type": "execute_result"
    }
   ],
   "source": [
    "# make new categorical data\n",
    "data['age_groups'] = pd.qcut(data['age'], q=4)\n",
    "\n",
    "# factor data\n",
    "data['age_groups'] = data['age_groups'].astype(str)\n",
    "\n",
    "data['age_groups'].value_counts()"
   ]
  },
  {
   "cell_type": "markdown",
   "metadata": {},
   "source": [
    "#### 2. for outdoor_temperature"
   ]
  },
  {
   "cell_type": "code",
   "execution_count": 10,
   "metadata": {},
   "outputs": [
    {
     "data": {
      "text/plain": [
       "(11.999, 18.0]    49\n",
       "(21.0, 23.0]      38\n",
       "(23.0, 28.0]      38\n",
       "(18.0, 21.0]      35\n",
       "Name: out_t_groups, dtype: int64"
      ]
     },
     "execution_count": 10,
     "metadata": {},
     "output_type": "execute_result"
    }
   ],
   "source": [
    "# make new categorical data\n",
    "data['out_t_groups'] = pd.qcut(data['outdoor_temperature'], q=4)\n",
    "\n",
    "# factorize data\n",
    "data['out_t_groups'] = data['out_t_groups'].astype(str)\n",
    "\n",
    "data['out_t_groups'].value_counts()"
   ]
  },
  {
   "cell_type": "markdown",
   "metadata": {},
   "source": [
    "#### 3. for sporting_activity_(h/week)"
   ]
  },
  {
   "cell_type": "code",
   "execution_count": 11,
   "metadata": {},
   "outputs": [
    {
     "data": {
      "text/plain": [
       "(-0.001, 1.0]    54\n",
       "(2.0, 4.0]       42\n",
       "(4.0, 14.0]      36\n",
       "(1.0, 2.0]       28\n",
       "Name: sport_activity_groups, dtype: int64"
      ]
     },
     "execution_count": 11,
     "metadata": {},
     "output_type": "execute_result"
    }
   ],
   "source": [
    "# make new categorical data\n",
    "data['sport_activity_groups'] = pd.qcut(data['sporting_activity_(h/week)'], q=4)\n",
    "\n",
    "# factorize data\n",
    "data['sport_activity_groups'] = data['sport_activity_groups'].astype(str)\n",
    "\n",
    "data['sport_activity_groups'].value_counts()"
   ]
  },
  {
   "cell_type": "markdown",
   "metadata": {},
   "source": [
    "#### 4. for sleeping_time"
   ]
  },
  {
   "cell_type": "code",
   "execution_count": 12,
   "metadata": {},
   "outputs": [
    {
     "data": {
      "text/plain": [
       "(7.0, 8.0]      50\n",
       "(6.0, 7.0]      47\n",
       "(2.999, 6.0]    41\n",
       "(8.0, 12.0]     22\n",
       "Name: sleeping_time_groups, dtype: int64"
      ]
     },
     "execution_count": 12,
     "metadata": {},
     "output_type": "execute_result"
    }
   ],
   "source": [
    "# make new categorical data\n",
    "data['sleeping_time_groups'] = pd.qcut(data['sleeping_time'], q=4)\n",
    "\n",
    "# factorize data\n",
    "data['sleeping_time_groups'] = data['sleeping_time_groups'].astype(str)\n",
    "\n",
    "data['sleeping_time_groups'].value_counts()"
   ]
  },
  {
   "cell_type": "markdown",
   "metadata": {},
   "source": [
    "#### 5. for ex_max"
   ]
  },
  {
   "cell_type": "code",
   "execution_count": 13,
   "metadata": {},
   "outputs": [
    {
     "data": {
      "text/plain": [
       "(106.0, 116.0]     41\n",
       "(69.999, 106.0]    41\n",
       "(124.25, 148.0]    40\n",
       "(116.0, 124.25]    38\n",
       "Name: ex_max_groups, dtype: int64"
      ]
     },
     "execution_count": 13,
     "metadata": {},
     "output_type": "execute_result"
    }
   ],
   "source": [
    "# make new categorical data\n",
    "data['ex_max_groups'] = pd.qcut(data['ex_max'], q=4)\n",
    "\n",
    "# factorize data\n",
    "data['ex_max_groups'] = data['ex_max_groups'].astype(str)\n",
    "\n",
    "data['ex_max_groups'].value_counts()"
   ]
  },
  {
   "cell_type": "markdown",
   "metadata": {},
   "source": [
    "#### 6. for ex_min"
   ]
  },
  {
   "cell_type": "code",
   "execution_count": 14,
   "metadata": {},
   "outputs": [
    {
     "data": {
      "text/plain": [
       "(43.999, 65.0]    44\n",
       "(80.25, 120.0]    40\n",
       "(72.0, 80.25]     38\n",
       "(65.0, 72.0]      38\n",
       "Name: ex_min_groups, dtype: int64"
      ]
     },
     "execution_count": 14,
     "metadata": {},
     "output_type": "execute_result"
    }
   ],
   "source": [
    "# make new categorical data\n",
    "data['ex_min_groups'] = pd.qcut(data['ex_min'], q=4)\n",
    "\n",
    "# factorize data\n",
    "data['ex_min_groups'] = data['ex_min_groups'].astype(str)\n",
    "\n",
    "data['ex_min_groups'].value_counts()"
   ]
  },
  {
   "cell_type": "markdown",
   "metadata": {},
   "source": [
    "#### 7. for max_time"
   ]
  },
  {
   "cell_type": "code",
   "execution_count": 15,
   "metadata": {},
   "outputs": [
    {
     "data": {
      "text/plain": [
       "(0.999, 8.0]    43\n",
       "(16.5, 31.0]    41\n",
       "(31.0, 74.0]    39\n",
       "(8.0, 16.5]     37\n",
       "Name: max_time_groups, dtype: int64"
      ]
     },
     "execution_count": 15,
     "metadata": {},
     "output_type": "execute_result"
    }
   ],
   "source": [
    "# make new categorical data\n",
    "data['max_time_groups'] = pd.qcut(data['max_time'], q=4)\n",
    "\n",
    "# factorize data\n",
    "data['max_time_groups'] = data['max_time_groups'].astype(str)\n",
    "\n",
    "data['max_time_groups'].value_counts()"
   ]
  },
  {
   "cell_type": "markdown",
   "metadata": {},
   "source": [
    "#### 8. for max_time"
   ]
  },
  {
   "cell_type": "code",
   "execution_count": 16,
   "metadata": {},
   "outputs": [
    {
     "data": {
      "text/plain": [
       "(0.999, 6.0]     43\n",
       "(13.0, 23.0]     42\n",
       "(6.0, 13.0]      38\n",
       "(23.0, 150.0]    37\n",
       "Name: min_time_groups, dtype: int64"
      ]
     },
     "execution_count": 16,
     "metadata": {},
     "output_type": "execute_result"
    }
   ],
   "source": [
    "# make new categorical data\n",
    "data['min_time_groups'] = pd.qcut(data['min_time'], q=4)\n",
    "\n",
    "# factorize data\n",
    "data['min_time_groups'] = data['min_time_groups'].astype(str)\n",
    "\n",
    "data['min_time_groups'].value_counts()"
   ]
  },
  {
   "cell_type": "markdown",
   "metadata": {},
   "source": [
    "#### Check the distribution of traget data"
   ]
  },
  {
   "cell_type": "code",
   "execution_count": 18,
   "metadata": {},
   "outputs": [
    {
     "data": {
      "image/png": "[encoded data removed]",
      "text/plain": [
       "<Figure size 432x288 with 1 Axes>"
      ]
     },
     "metadata": {
      "needs_background": "light"
     },
     "output_type": "display_data"
    },
    {
     "data": {
      "text/plain": [
       "<matplotlib.axes._subplots.AxesSubplot at 0x1b13d415708>"
      ]
     },
     "execution_count": 18,
     "metadata": {},
     "output_type": "execute_result"
    },
    {
     "data": {
      "image/png": "[encoded data removed]",
      "text/plain": [
       "<Figure size 432x288 with 1 Axes>"
      ]
     },
     "metadata": {
      "needs_background": "light"
     },
     "output_type": "display_data"
    }
   ],
   "source": [
    "plt.hist(data['shop_dur'])\n",
    "plt.show()\n",
    "\n",
    "sns.kdeplot(data['shop_dur'], cumulative=False, bw=2)"
   ]
  },
  {
   "cell_type": "code",
   "execution_count": 17,
   "metadata": {},
   "outputs": [
    {
     "data": {
      "text/html": [
       "<div>\n",
       "<style scoped>\n",
       "    .dataframe tbody tr th:only-of-type {\n",
       "        vertical-align: middle;\n",
       "    }\n",
       "\n",
       "    .dataframe tbody tr th {\n",
       "        vertical-align: top;\n",
       "    }\n",
       "\n",
       "    .dataframe thead th {\n",
       "        text-align: right;\n",
       "    }\n",
       "</style>\n",
       "<table border=\"1\" class=\"dataframe\">\n",
       "  <thead>\n",
       "    <tr style=\"text-align: right;\">\n",
       "      <th></th>\n",
       "      <th>Id</th>\n",
       "      <th>age</th>\n",
       "      <th>gender</th>\n",
       "      <th>BMI</th>\n",
       "      <th>sleeping_time</th>\n",
       "      <th>sporting_activity_(h/week)</th>\n",
       "      <th>daytime</th>\n",
       "      <th>outdoor_temperature</th>\n",
       "      <th>shopping_cart</th>\n",
       "      <th>attendants</th>\n",
       "      <th>...</th>\n",
       "      <th>shop_dur</th>\n",
       "      <th>reaching HRmax</th>\n",
       "      <th>age_groups</th>\n",
       "      <th>out_t_groups</th>\n",
       "      <th>sport_activity_groups</th>\n",
       "      <th>sleeping_time_groups</th>\n",
       "      <th>ex_max_groups</th>\n",
       "      <th>ex_min_groups</th>\n",
       "      <th>max_time_groups</th>\n",
       "      <th>min_time_groups</th>\n",
       "    </tr>\n",
       "  </thead>\n",
       "  <tbody>\n",
       "    <tr>\n",
       "      <td>0</td>\n",
       "      <td>1</td>\n",
       "      <td>55</td>\n",
       "      <td>female</td>\n",
       "      <td>30.0</td>\n",
       "      <td>7.0</td>\n",
       "      <td>2.0</td>\n",
       "      <td>noon</td>\n",
       "      <td>23</td>\n",
       "      <td>no</td>\n",
       "      <td>no</td>\n",
       "      <td>...</td>\n",
       "      <td>12</td>\n",
       "      <td>0</td>\n",
       "      <td>(52.0, 72.0]</td>\n",
       "      <td>(21.0, 23.0]</td>\n",
       "      <td>(1.0, 2.0]</td>\n",
       "      <td>(6.0, 7.0]</td>\n",
       "      <td>(106.0, 116.0]</td>\n",
       "      <td>(65.0, 72.0]</td>\n",
       "      <td>(0.999, 8.0]</td>\n",
       "      <td>(0.999, 6.0]</td>\n",
       "    </tr>\n",
       "    <tr>\n",
       "      <td>1</td>\n",
       "      <td>2</td>\n",
       "      <td>25</td>\n",
       "      <td>female</td>\n",
       "      <td>18.4</td>\n",
       "      <td>9.0</td>\n",
       "      <td>1.0</td>\n",
       "      <td>noon</td>\n",
       "      <td>23</td>\n",
       "      <td>yes</td>\n",
       "      <td>no</td>\n",
       "      <td>...</td>\n",
       "      <td>26</td>\n",
       "      <td>0</td>\n",
       "      <td>(17.999, 29.0]</td>\n",
       "      <td>(21.0, 23.0]</td>\n",
       "      <td>(-0.001, 1.0]</td>\n",
       "      <td>(8.0, 12.0]</td>\n",
       "      <td>(106.0, 116.0]</td>\n",
       "      <td>(80.25, 120.0]</td>\n",
       "      <td>(16.5, 31.0]</td>\n",
       "      <td>(13.0, 23.0]</td>\n",
       "    </tr>\n",
       "    <tr>\n",
       "      <td>2</td>\n",
       "      <td>3</td>\n",
       "      <td>38</td>\n",
       "      <td>male</td>\n",
       "      <td>25.1</td>\n",
       "      <td>5.0</td>\n",
       "      <td>3.0</td>\n",
       "      <td>noon</td>\n",
       "      <td>23</td>\n",
       "      <td>no</td>\n",
       "      <td>no</td>\n",
       "      <td>...</td>\n",
       "      <td>24</td>\n",
       "      <td>0</td>\n",
       "      <td>(29.0, 40.0]</td>\n",
       "      <td>(21.0, 23.0]</td>\n",
       "      <td>(2.0, 4.0]</td>\n",
       "      <td>(2.999, 6.0]</td>\n",
       "      <td>(106.0, 116.0]</td>\n",
       "      <td>(72.0, 80.25]</td>\n",
       "      <td>(16.5, 31.0]</td>\n",
       "      <td>(13.0, 23.0]</td>\n",
       "    </tr>\n",
       "    <tr>\n",
       "      <td>3</td>\n",
       "      <td>4</td>\n",
       "      <td>21</td>\n",
       "      <td>female</td>\n",
       "      <td>22.6</td>\n",
       "      <td>8.0</td>\n",
       "      <td>0.0</td>\n",
       "      <td>evening</td>\n",
       "      <td>23</td>\n",
       "      <td>yes</td>\n",
       "      <td>family</td>\n",
       "      <td>...</td>\n",
       "      <td>46</td>\n",
       "      <td>0</td>\n",
       "      <td>(17.999, 29.0]</td>\n",
       "      <td>(21.0, 23.0]</td>\n",
       "      <td>(-0.001, 1.0]</td>\n",
       "      <td>(7.0, 8.0]</td>\n",
       "      <td>(124.25, 148.0]</td>\n",
       "      <td>(43.999, 65.0]</td>\n",
       "      <td>(16.5, 31.0]</td>\n",
       "      <td>(23.0, 150.0]</td>\n",
       "    </tr>\n",
       "    <tr>\n",
       "      <td>4</td>\n",
       "      <td>5</td>\n",
       "      <td>30</td>\n",
       "      <td>female</td>\n",
       "      <td>21.7</td>\n",
       "      <td>12.0</td>\n",
       "      <td>10.0</td>\n",
       "      <td>evening</td>\n",
       "      <td>23</td>\n",
       "      <td>yes</td>\n",
       "      <td>life partner</td>\n",
       "      <td>...</td>\n",
       "      <td>41</td>\n",
       "      <td>1</td>\n",
       "      <td>(29.0, 40.0]</td>\n",
       "      <td>(21.0, 23.0]</td>\n",
       "      <td>(4.0, 14.0]</td>\n",
       "      <td>(8.0, 12.0]</td>\n",
       "      <td>(106.0, 116.0]</td>\n",
       "      <td>(43.999, 65.0]</td>\n",
       "      <td>(31.0, 74.0]</td>\n",
       "      <td>(13.0, 23.0]</td>\n",
       "    </tr>\n",
       "  </tbody>\n",
       "</table>\n",
       "<p>5 rows × 31 columns</p>\n",
       "</div>"
      ],
      "text/plain": [
       "   Id  age  gender   BMI  sleeping_time  sporting_activity_(h/week)  daytime  \\\n",
       "0   1   55  female  30.0            7.0                         2.0     noon   \n",
       "1   2   25  female  18.4            9.0                         1.0     noon   \n",
       "2   3   38    male  25.1            5.0                         3.0     noon   \n",
       "3   4   21  female  22.6            8.0                         0.0  evening   \n",
       "4   5   30  female  21.7           12.0                        10.0  evening   \n",
       "\n",
       "   outdoor_temperature shopping_cart    attendants  ... shop_dur  \\\n",
       "0                   23            no            no  ...       12   \n",
       "1                   23           yes            no  ...       26   \n",
       "2                   23            no            no  ...       24   \n",
       "3                   23           yes        family  ...       46   \n",
       "4                   23           yes  life partner  ...       41   \n",
       "\n",
       "  reaching HRmax      age_groups  out_t_groups  sport_activity_groups  \\\n",
       "0              0    (52.0, 72.0]  (21.0, 23.0]             (1.0, 2.0]   \n",
       "1              0  (17.999, 29.0]  (21.0, 23.0]          (-0.001, 1.0]   \n",
       "2              0    (29.0, 40.0]  (21.0, 23.0]             (2.0, 4.0]   \n",
       "3              0  (17.999, 29.0]  (21.0, 23.0]          (-0.001, 1.0]   \n",
       "4              1    (29.0, 40.0]  (21.0, 23.0]            (4.0, 14.0]   \n",
       "\n",
       "   sleeping_time_groups    ex_max_groups   ex_min_groups  max_time_groups  \\\n",
       "0            (6.0, 7.0]   (106.0, 116.0]    (65.0, 72.0]     (0.999, 8.0]   \n",
       "1           (8.0, 12.0]   (106.0, 116.0]  (80.25, 120.0]     (16.5, 31.0]   \n",
       "2          (2.999, 6.0]   (106.0, 116.0]   (72.0, 80.25]     (16.5, 31.0]   \n",
       "3            (7.0, 8.0]  (124.25, 148.0]  (43.999, 65.0]     (16.5, 31.0]   \n",
       "4           (8.0, 12.0]   (106.0, 116.0]  (43.999, 65.0]     (31.0, 74.0]   \n",
       "\n",
       "   min_time_groups  \n",
       "0     (0.999, 6.0]  \n",
       "1     (13.0, 23.0]  \n",
       "2     (13.0, 23.0]  \n",
       "3    (23.0, 150.0]  \n",
       "4     (13.0, 23.0]  \n",
       "\n",
       "[5 rows x 31 columns]"
      ]
     },
     "execution_count": 17,
     "metadata": {},
     "output_type": "execute_result"
    }
   ],
   "source": [
    "data.head()"
   ]
  },
  {
   "cell_type": "markdown",
   "metadata": {},
   "source": [
    "## ANOVA assumption"
   ]
  },
  {
   "cell_type": "code",
   "execution_count": null,
   "metadata": {},
   "outputs": [],
   "source": []
  },
  {
   "cell_type": "markdown",
   "metadata": {},
   "source": [
    "Here we'll carry out various ANOVA tests on different group values. Moreover, we'll also try to make some inferences based on ANOVA test."
   ]
  },
  {
   "cell_type": "markdown",
   "metadata": {},
   "source": [
    "# 1. shop_dur ~ age_groups + gender + age_groups*gender "
   ]
  },
  {
   "cell_type": "code",
   "execution_count": 66,
   "metadata": {},
   "outputs": [
    {
     "name": "stdout",
     "output_type": "stream",
     "text": [
      "+----------------+----------+-----+------------+------------+------------+------------+\n",
      "| age_groups     | gender   | N   | shop_dur   | shop_dur   |   shop_dur |   shop_dur |\n",
      "|                |          |     | mean       | std        |   mean_all |    std_all |\n",
      "+================+==========+=====+============+============+============+============+\n",
      "| (17.999, 29.0] | female   | 22  | 39.91      | 20.65      |    38.3171 |    19.7255 |\n",
      "|                | male     | 19  | 36.47      | 18.42      |            |            |\n",
      "+----------------+----------+-----+------------+------------+------------+------------+\n",
      "| (29.0, 40.0]   | female   | 22  | 33.27      | 16.29      |    33.2727 |    15.7197 |\n",
      "|                | male     | 22  | 33.27      | 15.13      |            |            |\n",
      "+----------------+----------+-----+------------+------------+------------+------------+\n",
      "| (40.0, 52.0]   | female   | 22  | 34.45      | 15.41      |    31.6757 |    14.5566 |\n",
      "|                | male     | 15  | 27.60      | 12.11      |            |            |\n",
      "+----------------+----------+-----+------------+------------+------------+------------+\n",
      "| (52.0, 72.0]   | female   | 19  | 30.53      | 14.87      |    31.2105 |    15.3489 |\n",
      "|                | male     | 19  | 31.89      | 15.78      |            |            |\n",
      "+----------------+----------+-----+------------+------------+------------+------------+\n"
     ]
    }
   ],
   "source": [
    "create_2cat_table(data, 'age_groups', 'gender', 'shop_dur')"
   ]
  },
  {
   "cell_type": "code",
   "execution_count": 67,
   "metadata": {},
   "outputs": [],
   "source": [
    "lm = smf.ols('shop_dur ~ age_groups + gender + age_groups*gender', data=data).fit()"
   ]
  },
  {
   "cell_type": "markdown",
   "metadata": {},
   "source": [
    "### Independence of varaibles and homogenity"
   ]
  },
  {
   "cell_type": "code",
   "execution_count": 68,
   "metadata": {},
   "outputs": [
    {
     "data": {
      "image/png": "[encoded data removed]",
      "text/plain": [
       "<Figure size 432x288 with 1 Axes>"
      ]
     },
     "metadata": {
      "needs_background": "light"
     },
     "output_type": "display_data"
    }
   ],
   "source": [
    "independence_test(lm)"
   ]
  },
  {
   "cell_type": "markdown",
   "metadata": {},
   "source": [
    "This plot shows the residuals (errors) on the y-axis and the fitted values (predicted values) on the x-axis. We can see that plot has no pattern or in other words each goup has same variance, thus the points should look like a more of random points. The plot spoints out that the variances are approximately homogenous since the residuals are distributed approximately equally above and below zero."
   ]
  },
  {
   "cell_type": "markdown",
   "metadata": {},
   "source": [
    "### Shaprio-Wild test//qq plot to check the normal distribution of residuals"
   ]
  },
  {
   "cell_type": "code",
   "execution_count": 70,
   "metadata": {},
   "outputs": [
    {
     "data": {
      "image/png": "[encoded data removed]",
      "text/plain": [
       "<Figure size 432x288 with 1 Axes>"
      ]
     },
     "metadata": {
      "needs_background": "light"
     },
     "output_type": "display_data"
    }
   ],
   "source": [
    "fig = sm.qqplot(lm.resid, line='s')\n",
    "plt.show()"
   ]
  },
  {
   "cell_type": "code",
   "execution_count": 69,
   "metadata": {},
   "outputs": [
    {
     "name": "stdout",
     "output_type": "stream",
     "text": [
      "p-values 0.0033\n"
     ]
    }
   ],
   "source": [
    "_, p = stats.shapiro(lm.resid)\n",
    "print('p-values %.4f' % p)"
   ]
  },
  {
   "cell_type": "markdown",
   "metadata": {},
   "source": [
    "As the p-value < 0.0033 is non-significant, we fail to reject null hypothesis and conclude that residuals are normally distributed."
   ]
  },
  {
   "cell_type": "markdown",
   "metadata": {},
   "source": [
    "### Calculate anova\n",
    "\n",
    "As the assumptions of anova meet, now we can calculate it."
   ]
  },
  {
   "cell_type": "code",
   "execution_count": 73,
   "metadata": {},
   "outputs": [
    {
     "data": {
      "text/html": [
       "<div>\n",
       "<style scoped>\n",
       "    .dataframe tbody tr th:only-of-type {\n",
       "        vertical-align: middle;\n",
       "    }\n",
       "\n",
       "    .dataframe tbody tr th {\n",
       "        vertical-align: top;\n",
       "    }\n",
       "\n",
       "    .dataframe thead th {\n",
       "        text-align: right;\n",
       "    }\n",
       "</style>\n",
       "<table border=\"1\" class=\"dataframe\">\n",
       "  <thead>\n",
       "    <tr style=\"text-align: right;\">\n",
       "      <th></th>\n",
       "      <th>df</th>\n",
       "      <th>sum_sq</th>\n",
       "      <th>mean_sq</th>\n",
       "      <th>F</th>\n",
       "      <th>PR(&gt;F)</th>\n",
       "    </tr>\n",
       "  </thead>\n",
       "  <tbody>\n",
       "    <tr>\n",
       "      <td>age_groups</td>\n",
       "      <td>3.0</td>\n",
       "      <td>1269.164531</td>\n",
       "      <td>423.054844</td>\n",
       "      <td>1.493336</td>\n",
       "      <td>0.218647</td>\n",
       "    </tr>\n",
       "    <tr>\n",
       "      <td>gender</td>\n",
       "      <td>1.0</td>\n",
       "      <td>174.572109</td>\n",
       "      <td>174.572109</td>\n",
       "      <td>0.616220</td>\n",
       "      <td>0.433677</td>\n",
       "    </tr>\n",
       "    <tr>\n",
       "      <td>age_groups:gender</td>\n",
       "      <td>3.0</td>\n",
       "      <td>382.593952</td>\n",
       "      <td>127.531317</td>\n",
       "      <td>0.450171</td>\n",
       "      <td>0.717542</td>\n",
       "    </tr>\n",
       "    <tr>\n",
       "      <td>Residual</td>\n",
       "      <td>152.0</td>\n",
       "      <td>43060.863158</td>\n",
       "      <td>283.295152</td>\n",
       "      <td>NaN</td>\n",
       "      <td>NaN</td>\n",
       "    </tr>\n",
       "  </tbody>\n",
       "</table>\n",
       "</div>"
      ],
      "text/plain": [
       "                      df        sum_sq     mean_sq         F    PR(>F)\n",
       "age_groups           3.0   1269.164531  423.054844  1.493336  0.218647\n",
       "gender               1.0    174.572109  174.572109  0.616220  0.433677\n",
       "age_groups:gender    3.0    382.593952  127.531317  0.450171  0.717542\n",
       "Residual           152.0  43060.863158  283.295152       NaN       NaN"
      ]
     },
     "execution_count": 73,
     "metadata": {},
     "output_type": "execute_result"
    }
   ],
   "source": [
    "sm.stats.anova_lm(lm, type=2)"
   ]
  },
  {
   "cell_type": "markdown",
   "metadata": {},
   "source": [
    "As we can see from the PR(>F) values, n-Anova test doesn't suggest a significant difference between the effects of age_groups and gender on shopping duration. Also, we can see from the interaction term that the interaction of given factors don't have a significant effect on the response var. "
   ]
  },
  {
   "cell_type": "markdown",
   "metadata": {},
   "source": [
    "#### Interaction plot"
   ]
  },
  {
   "cell_type": "code",
   "execution_count": 65,
   "metadata": {},
   "outputs": [
    {
     "data": {
      "image/png": "[encoded data removed]",
      "text/plain": [
       "<Figure size 432x288 with 1 Axes>"
      ]
     },
     "execution_count": 65,
     "metadata": {},
     "output_type": "execute_result"
    },
    {
     "data": {
      "image/png": "[encoded data removed]",
      "text/plain": [
       "<Figure size 432x288 with 1 Axes>"
      ]
     },
     "metadata": {
      "needs_background": "light"
     },
     "output_type": "display_data"
    }
   ],
   "source": [
    "interaction_plot(data['age_groups'], data['gender'], data['shop_dur'])"
   ]
  },
  {
   "cell_type": "markdown",
   "metadata": {},
   "source": [
    "Although general interaction is not significant, we can still see the relatively some difference between genders on [54, 52] age groups. This explains that female customers of this age grup spend more time in shopping and they have an impact on the males shopping duration."
   ]
  },
  {
   "cell_type": "markdown",
   "metadata": {},
   "source": [
    "## 2. shop_dur ~ age_groups"
   ]
  },
  {
   "cell_type": "code",
   "execution_count": 94,
   "metadata": {},
   "outputs": [
    {
     "name": "stdout",
     "output_type": "stream",
     "text": [
      "+----------------+-----+------------+------------+\n",
      "| age_groups     |   N |   shop_dur |   shop_dur |\n",
      "|                |     |       mean |        std |\n",
      "+================+=====+============+============+\n",
      "| (17.999, 29.0] |  41 |      38.32 |      19.73 |\n",
      "+----------------+-----+------------+------------+\n",
      "| (29.0, 40.0]   |  44 |      33.27 |      15.72 |\n",
      "+----------------+-----+------------+------------+\n",
      "| (40.0, 52.0]   |  37 |      31.68 |      14.56 |\n",
      "+----------------+-----+------------+------------+\n",
      "| (52.0, 72.0]   |  38 |      31.21 |      15.35 |\n",
      "+----------------+-----+------------+------------+\n"
     ]
    }
   ],
   "source": [
    "create_1cat_table(data, 'age_groups', 'shop_dur')"
   ]
  },
  {
   "cell_type": "code",
   "execution_count": 95,
   "metadata": {},
   "outputs": [],
   "source": [
    "lm = smf.ols('shop_dur ~ age_groups', data=data).fit()"
   ]
  },
  {
   "cell_type": "markdown",
   "metadata": {},
   "source": [
    "### Independence of varaibles"
   ]
  },
  {
   "cell_type": "code",
   "execution_count": 96,
   "metadata": {},
   "outputs": [
    {
     "data": {
      "image/png": "[encoded data removed]",
      "text/plain": [
       "<Figure size 432x288 with 1 Axes>"
      ]
     },
     "metadata": {
      "needs_background": "light"
     },
     "output_type": "display_data"
    }
   ],
   "source": [
    "independence_test(lm)"
   ]
  },
  {
   "cell_type": "markdown",
   "metadata": {},
   "source": [
    "This plot shows the residuals (errors) on the y-axis and the fitted values (predicted values) on the x-axis. We can see that plot is randomly distributed, this is independent."
   ]
  },
  {
   "cell_type": "markdown",
   "metadata": {},
   "source": [
    "### Homogenity test"
   ]
  },
  {
   "cell_type": "code",
   "execution_count": 97,
   "metadata": {},
   "outputs": [
    {
     "name": "stdout",
     "output_type": "stream",
     "text": [
      "['(17.999, 29.0]' '(29.0, 40.0]' '(40.0, 52.0]' '(52.0, 72.0]']\n"
     ]
    }
   ],
   "source": [
    "groups = np.unique(data['age_groups'])\n",
    "print(groups)"
   ]
  },
  {
   "cell_type": "code",
   "execution_count": 99,
   "metadata": {},
   "outputs": [
    {
     "name": "stdout",
     "output_type": "stream",
     "text": [
      "p-values 0.0026\n"
     ]
    }
   ],
   "source": [
    "w, pvalue = stats.bartlett(data[data['age_groups']==groups[0]]['shop_dur'], \n",
    "                           data[data['age_groups']==groups[1]]['shop_dur'], \n",
    "                           data[data['age_groups']==groups[2]]['shop_dur'], \n",
    "                           data[data['age_groups']==groups[3]]['shop_dur'])\n",
    "print('p-values %.4f' % p)"
   ]
  },
  {
   "cell_type": "markdown",
   "metadata": {},
   "source": [
    "As the p-value < 0.0026 is non significant, we fail to reject null hypothesis and conclude that treatments have equal variances."
   ]
  },
  {
   "cell_type": "markdown",
   "metadata": {},
   "source": [
    "### Shaprio-Wild//qq plot test to check the normal distribution of residuals"
   ]
  },
  {
   "cell_type": "code",
   "execution_count": 91,
   "metadata": {},
   "outputs": [
    {
     "data": {
      "image/png": "[encoded data removed]",
      "text/plain": [
       "<Figure size 432x288 with 1 Axes>"
      ]
     },
     "metadata": {
      "needs_background": "light"
     },
     "output_type": "display_data"
    }
   ],
   "source": [
    "fig = sm.qqplot(lm.resid, line='s')\n",
    "plt.show()"
   ]
  },
  {
   "cell_type": "code",
   "execution_count": 92,
   "metadata": {},
   "outputs": [
    {
     "name": "stdout",
     "output_type": "stream",
     "text": [
      "p-values 0.0026\n"
     ]
    }
   ],
   "source": [
    "_, p = stats.shapiro(lm.resid)\n",
    "print('p-values %.4f' % p)"
   ]
  },
  {
   "cell_type": "markdown",
   "metadata": {},
   "source": [
    "As the p-value < 0.0026 is non significant, we fail to reject null hypothesis and conclude that residuals are normally distributed."
   ]
  },
  {
   "cell_type": "markdown",
   "metadata": {},
   "source": [
    "## Calculate annova\n",
    "\n",
    "As the assumptions of anova meet, now we can calculate it."
   ]
  },
  {
   "cell_type": "code",
   "execution_count": 232,
   "metadata": {},
   "outputs": [
    {
     "data": {
      "text/html": [
       "<div>\n",
       "<style scoped>\n",
       "    .dataframe tbody tr th:only-of-type {\n",
       "        vertical-align: middle;\n",
       "    }\n",
       "\n",
       "    .dataframe tbody tr th {\n",
       "        vertical-align: top;\n",
       "    }\n",
       "\n",
       "    .dataframe thead th {\n",
       "        text-align: right;\n",
       "    }\n",
       "</style>\n",
       "<table border=\"1\" class=\"dataframe\">\n",
       "  <thead>\n",
       "    <tr style=\"text-align: right;\">\n",
       "      <th></th>\n",
       "      <th>df</th>\n",
       "      <th>sum_sq</th>\n",
       "      <th>mean_sq</th>\n",
       "      <th>F</th>\n",
       "      <th>PR(&gt;F)</th>\n",
       "    </tr>\n",
       "  </thead>\n",
       "  <tbody>\n",
       "    <tr>\n",
       "      <td>age_groups</td>\n",
       "      <td>3.0</td>\n",
       "      <td>1269.164531</td>\n",
       "      <td>423.054844</td>\n",
       "      <td>1.513057</td>\n",
       "      <td>0.213305</td>\n",
       "    </tr>\n",
       "    <tr>\n",
       "      <td>Residual</td>\n",
       "      <td>156.0</td>\n",
       "      <td>43618.029219</td>\n",
       "      <td>279.602751</td>\n",
       "      <td>NaN</td>\n",
       "      <td>NaN</td>\n",
       "    </tr>\n",
       "  </tbody>\n",
       "</table>\n",
       "</div>"
      ],
      "text/plain": [
       "               df        sum_sq     mean_sq         F    PR(>F)\n",
       "age_groups    3.0   1269.164531  423.054844  1.513057  0.213305\n",
       "Residual    156.0  43618.029219  279.602751       NaN       NaN"
      ]
     },
     "execution_count": 232,
     "metadata": {},
     "output_type": "execute_result"
    }
   ],
   "source": [
    "sm.stats.anova_lm(lm, type=1)"
   ]
  },
  {
   "cell_type": "markdown",
   "metadata": {},
   "source": [
    "We don't find a significant main effect of age groups (F = 1.51, p > .21) on shopping durations."
   ]
  },
  {
   "cell_type": "markdown",
   "metadata": {},
   "source": [
    "## 3. shop_dur ~ out_t_groups"
   ]
  },
  {
   "cell_type": "code",
   "execution_count": 108,
   "metadata": {},
   "outputs": [
    {
     "name": "stdout",
     "output_type": "stream",
     "text": [
      "+----------------+-----+------------+------------+\n",
      "| out_t_groups   |   N |   shop_dur |   shop_dur |\n",
      "|                |     |       mean |        std |\n",
      "+================+=====+============+============+\n",
      "| (11.999, 18.0] |  49 |      41.04 |      18.35 |\n",
      "+----------------+-----+------------+------------+\n",
      "| (18.0, 21.0]   |  35 |      29.69 |      16.01 |\n",
      "+----------------+-----+------------+------------+\n",
      "| (21.0, 23.0]   |  38 |      28.5  |      13.78 |\n",
      "+----------------+-----+------------+------------+\n",
      "| (23.0, 28.0]   |  38 |      33.16 |      14.46 |\n",
      "+----------------+-----+------------+------------+\n"
     ]
    }
   ],
   "source": [
    "create_1cat_table(data, 'out_t_groups', 'shop_dur')"
   ]
  },
  {
   "cell_type": "code",
   "execution_count": 109,
   "metadata": {},
   "outputs": [],
   "source": [
    "lm = smf.ols('shop_dur ~ out_t_groups', data=data).fit()"
   ]
  },
  {
   "cell_type": "markdown",
   "metadata": {},
   "source": [
    "### Independence of varaibles"
   ]
  },
  {
   "cell_type": "code",
   "execution_count": 110,
   "metadata": {},
   "outputs": [
    {
     "data": {
      "image/png": "[encoded data removed]",
      "text/plain": [
       "<Figure size 432x288 with 1 Axes>"
      ]
     },
     "metadata": {
      "needs_background": "light"
     },
     "output_type": "display_data"
    }
   ],
   "source": [
    "independence_test(lm)"
   ]
  },
  {
   "cell_type": "markdown",
   "metadata": {},
   "source": [
    "This plot shows the residuals (errors) on the y-axis and the fitted values (predicted values) on the x-axis. We can see that plot is randomly distributed, this is independent."
   ]
  },
  {
   "cell_type": "markdown",
   "metadata": {},
   "source": [
    "### Homogenity test"
   ]
  },
  {
   "cell_type": "code",
   "execution_count": 111,
   "metadata": {},
   "outputs": [
    {
     "name": "stdout",
     "output_type": "stream",
     "text": [
      "['(11.999, 18.0]' '(18.0, 21.0]' '(21.0, 23.0]' '(23.0, 28.0]']\n"
     ]
    }
   ],
   "source": [
    "groups = np.unique(data['out_t_groups'])\n",
    "print(groups)"
   ]
  },
  {
   "cell_type": "code",
   "execution_count": 112,
   "metadata": {},
   "outputs": [
    {
     "name": "stdout",
     "output_type": "stream",
     "text": [
      "p-values 0.0026\n"
     ]
    }
   ],
   "source": [
    "w, pvalue = stats.bartlett(data[data['out_t_groups']==groups[0]]['shop_dur'], \n",
    "                           data[data['out_t_groups']==groups[1]]['shop_dur'], \n",
    "                           data[data['out_t_groups']==groups[2]]['shop_dur'], \n",
    "                           data[data['out_t_groups']==groups[3]]['shop_dur'])\n",
    "print('p-values %.4f' % p)"
   ]
  },
  {
   "cell_type": "markdown",
   "metadata": {},
   "source": [
    "As the p-value < 0.0026 is non significant, we fail to reject null hypothesis and conclude that treatments have equal variances."
   ]
  },
  {
   "cell_type": "markdown",
   "metadata": {},
   "source": [
    "### Shaprio-Wild//qq plot test to check the normal distribution of residuals"
   ]
  },
  {
   "cell_type": "code",
   "execution_count": 113,
   "metadata": {},
   "outputs": [
    {
     "data": {
      "image/png": "[encoded data removed]",
      "text/plain": [
       "<Figure size 432x288 with 1 Axes>"
      ]
     },
     "metadata": {
      "needs_background": "light"
     },
     "output_type": "display_data"
    }
   ],
   "source": [
    "fig = sm.qqplot(lm.resid, line='s')\n",
    "plt.show()"
   ]
  },
  {
   "cell_type": "code",
   "execution_count": 114,
   "metadata": {},
   "outputs": [
    {
     "name": "stdout",
     "output_type": "stream",
     "text": [
      "p-values 0.0016\n"
     ]
    }
   ],
   "source": [
    "_, p = stats.shapiro(lm.resid)\n",
    "print('p-values %.4f' % p)"
   ]
  },
  {
   "cell_type": "markdown",
   "metadata": {},
   "source": [
    "The p-value < 0.0016 is non significant, we fail to reject null hypothesis and conclude that residuals are normally distributed."
   ]
  },
  {
   "cell_type": "markdown",
   "metadata": {},
   "source": [
    "### Calculate anova\n",
    "\n",
    "As the assumptions of anova meet, now we can calculate it."
   ]
  },
  {
   "cell_type": "code",
   "execution_count": 115,
   "metadata": {},
   "outputs": [
    {
     "data": {
      "text/html": [
       "<div>\n",
       "<style scoped>\n",
       "    .dataframe tbody tr th:only-of-type {\n",
       "        vertical-align: middle;\n",
       "    }\n",
       "\n",
       "    .dataframe tbody tr th {\n",
       "        vertical-align: top;\n",
       "    }\n",
       "\n",
       "    .dataframe thead th {\n",
       "        text-align: right;\n",
       "    }\n",
       "</style>\n",
       "<table border=\"1\" class=\"dataframe\">\n",
       "  <thead>\n",
       "    <tr style=\"text-align: right;\">\n",
       "      <th></th>\n",
       "      <th>df</th>\n",
       "      <th>sum_sq</th>\n",
       "      <th>mean_sq</th>\n",
       "      <th>F</th>\n",
       "      <th>PR(&gt;F)</th>\n",
       "    </tr>\n",
       "  </thead>\n",
       "  <tbody>\n",
       "    <tr>\n",
       "      <td>out_t_groups</td>\n",
       "      <td>3.0</td>\n",
       "      <td>4243.179894</td>\n",
       "      <td>1414.393298</td>\n",
       "      <td>5.428729</td>\n",
       "      <td>0.001409</td>\n",
       "    </tr>\n",
       "    <tr>\n",
       "      <td>Residual</td>\n",
       "      <td>156.0</td>\n",
       "      <td>40644.013856</td>\n",
       "      <td>260.538550</td>\n",
       "      <td>NaN</td>\n",
       "      <td>NaN</td>\n",
       "    </tr>\n",
       "  </tbody>\n",
       "</table>\n",
       "</div>"
      ],
      "text/plain": [
       "                 df        sum_sq      mean_sq         F    PR(>F)\n",
       "out_t_groups    3.0   4243.179894  1414.393298  5.428729  0.001409\n",
       "Residual      156.0  40644.013856   260.538550       NaN       NaN"
      ]
     },
     "execution_count": 115,
     "metadata": {},
     "output_type": "execute_result"
    }
   ],
   "source": [
    "sm.stats.anova_lm(lm, type=1)"
   ]
  },
  {
   "cell_type": "markdown",
   "metadata": {},
   "source": [
    "As it's also clear from the table, the ANOVA test suggests us that response of temperature groups on shopping duration is important where  (F = 4.42, p < 0.0014)."
   ]
  },
  {
   "cell_type": "markdown",
   "metadata": {},
   "source": [
    "### Tukey HSD test\n",
    "\n",
    "As the ANOVA tels that effect of temperature groups on shopping groups differs significanly. Now using Tukey HSD we can find which groups are significantly different from each other"
   ]
  },
  {
   "cell_type": "code",
   "execution_count": 122,
   "metadata": {},
   "outputs": [
    {
     "name": "stdout",
     "output_type": "stream",
     "text": [
      "        Multiple Comparison of Means - Tukey HSD, FWER=0.05        \n",
      "===================================================================\n",
      "    group1        group2    meandiff p-adj   lower    upper  reject\n",
      "-------------------------------------------------------------------\n",
      "(11.999, 18.0] (18.0, 21.0] -11.3551 0.0096 -20.6326 -2.0776   True\n",
      "(11.999, 18.0] (21.0, 23.0] -12.5408 0.0024 -21.6022 -3.4794   True\n",
      "(11.999, 18.0] (23.0, 28.0]  -7.8829 0.1123 -16.9443  1.1785  False\n",
      "  (18.0, 21.0] (21.0, 23.0]  -1.1857    0.9 -11.0068  8.6354  False\n",
      "  (18.0, 21.0] (23.0, 28.0]   3.4722 0.7704  -6.3489 13.2933  False\n",
      "  (21.0, 23.0] (23.0, 28.0]   4.6579 0.5804  -4.9593 14.2751  False\n",
      "-------------------------------------------------------------------\n"
     ]
    }
   ],
   "source": [
    "print(pairwise_tukeyhsd(data['shop_dur'], data['out_t_groups'], alpha=0.05))"
   ]
  },
  {
   "cell_type": "markdown",
   "metadata": {},
   "source": [
    "We can see that (11.999, 18.0] and (18.0, 21.0] temperature groups suggest statistically significant differences. This helps us to come to the conclusion that people often go shopping during the cool days."
   ]
  },
  {
   "cell_type": "markdown",
   "metadata": {},
   "source": [
    "## 4. shop_dur ~  out_t_groups + gender + out_t_groups*gender"
   ]
  },
  {
   "cell_type": "code",
   "execution_count": 149,
   "metadata": {},
   "outputs": [
    {
     "name": "stdout",
     "output_type": "stream",
     "text": [
      "+----------------+----------------+-----+------------+------------+------------+------------+\n",
      "| out_t_groups   | age_groups     | N   | shop_dur   | shop_dur   |   shop_dur |   shop_dur |\n",
      "|                |                |     | mean       | std        |   mean_all |    std_all |\n",
      "+================+================+=====+============+============+============+============+\n",
      "| (11.999, 18.0] | (17.999, 29.0] | 15  | 40.80      | 21.39      |    41.0408 |    18.3514 |\n",
      "|                | (29.0, 40.0]   | 13  | 38.46      | 21.58      |            |            |\n",
      "|                | (40.0, 52.0]   | 11  | 39.82      | 11.90      |            |            |\n",
      "|                | (52.0, 72.0]   | 10  | 46.10      | 12.92      |            |            |\n",
      "+----------------+----------------+-----+------------+------------+------------+------------+\n",
      "| (18.0, 21.0]   | (17.999, 29.0] | 8   | 49.38      | 17.40      |    29.6857 |    16.0121 |\n",
      "|                | (29.0, 40.0]   | 6   | 25.67      | 9.69       |            |            |\n",
      "|                | (40.0, 52.0]   | 10  | 22.10      | 9.24       |            |            |\n",
      "|                | (52.0, 72.0]   | 11  | 24.45      | 9.82       |            |            |\n",
      "+----------------+----------------+-----+------------+------------+------------+------------+\n",
      "| (21.0, 23.0]   | (17.999, 29.0] | 8   | 29.00      | 18.40      |    28.5    |    13.7836 |\n",
      "|                | (29.0, 40.0]   | 15  | 29.47      | 12.41      |            |            |\n",
      "|                | (40.0, 52.0]   | 10  | 30.20      | 12.66      |            |            |\n",
      "|                | (52.0, 72.0]   | 5   | 21.40      | 7.76       |            |            |\n",
      "+----------------+----------------+-----+------------+------------+------------+------------+\n",
      "| (23.0, 28.0]   | (17.999, 29.0] | 10  | 33.20      | 13.91      |    33.1579 |    14.4632 |\n",
      "|                | (29.0, 40.0]   | 10  | 36.80      | 9.52       |            |            |\n",
      "|                | (40.0, 52.0]   | 6   | 35.17      | 18.65      |            |            |\n",
      "|                | (52.0, 72.0]   | 12  | 29.08      | 14.91      |            |            |\n",
      "+----------------+----------------+-----+------------+------------+------------+------------+\n"
     ]
    }
   ],
   "source": [
    "create_2cat_table(data, 'out_t_groups', 'age_groups', 'shop_dur')"
   ]
  },
  {
   "cell_type": "code",
   "execution_count": 129,
   "metadata": {},
   "outputs": [],
   "source": [
    "lm = smf.ols('shop_dur ~ out_t_groups + age_groups + out_t_groups*age_groups ', data=data).fit()"
   ]
  },
  {
   "cell_type": "markdown",
   "metadata": {},
   "source": [
    "### Independence of varaibles and homogenity"
   ]
  },
  {
   "cell_type": "code",
   "execution_count": 130,
   "metadata": {},
   "outputs": [
    {
     "data": {
      "image/png": "[encoded data removed]",
      "text/plain": [
       "<Figure size 432x288 with 1 Axes>"
      ]
     },
     "metadata": {
      "needs_background": "light"
     },
     "output_type": "display_data"
    }
   ],
   "source": [
    "independence_test(lm)"
   ]
  },
  {
   "cell_type": "markdown",
   "metadata": {},
   "source": [
    "We can see that plot has no pattern or in other words each goup has same variance, thus the points should look like a more of random points. The plot spoints out that the variances are approximately homogenous since the residuals are distributed approximately equally above and below zero."
   ]
  },
  {
   "cell_type": "markdown",
   "metadata": {},
   "source": [
    "### Shaprio-Wild test//qq plot to check the normal distribution of residuals"
   ]
  },
  {
   "cell_type": "code",
   "execution_count": 131,
   "metadata": {},
   "outputs": [
    {
     "data": {
      "image/png": "[encoded data removed]",
      "text/plain": [
       "<Figure size 432x288 with 1 Axes>"
      ]
     },
     "metadata": {
      "needs_background": "light"
     },
     "output_type": "display_data"
    }
   ],
   "source": [
    "fig = sm.qqplot(lm.resid, line='s')\n",
    "plt.show()"
   ]
  },
  {
   "cell_type": "code",
   "execution_count": 132,
   "metadata": {},
   "outputs": [
    {
     "name": "stdout",
     "output_type": "stream",
     "text": [
      "p-values 0.0140\n"
     ]
    }
   ],
   "source": [
    "_, p = stats.shapiro(lm.resid)\n",
    "print('p-values %.4f' % p)"
   ]
  },
  {
   "cell_type": "markdown",
   "metadata": {},
   "source": [
    "As the p-value < 0.014 is non-significant, we fail to reject null hypothesis and conclude that residuals are normally distributed."
   ]
  },
  {
   "cell_type": "markdown",
   "metadata": {},
   "source": [
    "### Calculate anova\n",
    "\n",
    "As the assumptions of anova meet, now we can calculate it."
   ]
  },
  {
   "cell_type": "code",
   "execution_count": 133,
   "metadata": {},
   "outputs": [
    {
     "data": {
      "text/html": [
       "<div>\n",
       "<style scoped>\n",
       "    .dataframe tbody tr th:only-of-type {\n",
       "        vertical-align: middle;\n",
       "    }\n",
       "\n",
       "    .dataframe tbody tr th {\n",
       "        vertical-align: top;\n",
       "    }\n",
       "\n",
       "    .dataframe thead th {\n",
       "        text-align: right;\n",
       "    }\n",
       "</style>\n",
       "<table border=\"1\" class=\"dataframe\">\n",
       "  <thead>\n",
       "    <tr style=\"text-align: right;\">\n",
       "      <th></th>\n",
       "      <th>df</th>\n",
       "      <th>sum_sq</th>\n",
       "      <th>mean_sq</th>\n",
       "      <th>F</th>\n",
       "      <th>PR(&gt;F)</th>\n",
       "    </tr>\n",
       "  </thead>\n",
       "  <tbody>\n",
       "    <tr>\n",
       "      <td>out_t_groups</td>\n",
       "      <td>3.0</td>\n",
       "      <td>4243.179894</td>\n",
       "      <td>1414.393298</td>\n",
       "      <td>5.728143</td>\n",
       "      <td>0.000989</td>\n",
       "    </tr>\n",
       "    <tr>\n",
       "      <td>age_groups</td>\n",
       "      <td>3.0</td>\n",
       "      <td>938.944615</td>\n",
       "      <td>312.981538</td>\n",
       "      <td>1.267542</td>\n",
       "      <td>0.287836</td>\n",
       "    </tr>\n",
       "    <tr>\n",
       "      <td>out_t_groups:age_groups</td>\n",
       "      <td>9.0</td>\n",
       "      <td>4148.583169</td>\n",
       "      <td>460.953685</td>\n",
       "      <td>1.866814</td>\n",
       "      <td>0.061422</td>\n",
       "    </tr>\n",
       "    <tr>\n",
       "      <td>Residual</td>\n",
       "      <td>144.0</td>\n",
       "      <td>35556.486072</td>\n",
       "      <td>246.920042</td>\n",
       "      <td>NaN</td>\n",
       "      <td>NaN</td>\n",
       "    </tr>\n",
       "  </tbody>\n",
       "</table>\n",
       "</div>"
      ],
      "text/plain": [
       "                            df        sum_sq      mean_sq         F    PR(>F)\n",
       "out_t_groups               3.0   4243.179894  1414.393298  5.728143  0.000989\n",
       "age_groups                 3.0    938.944615   312.981538  1.267542  0.287836\n",
       "out_t_groups:age_groups    9.0   4148.583169   460.953685  1.866814  0.061422\n",
       "Residual                 144.0  35556.486072   246.920042       NaN       NaN"
      ]
     },
     "execution_count": 133,
     "metadata": {},
     "output_type": "execute_result"
    }
   ],
   "source": [
    "sm.stats.anova_lm(lm, type=2)"
   ]
  },
  {
   "cell_type": "markdown",
   "metadata": {},
   "source": [
    "#### Interaction plot"
   ]
  },
  {
   "cell_type": "code",
   "execution_count": 134,
   "metadata": {},
   "outputs": [
    {
     "data": {
      "image/png": "[encoded data removed]",
      "text/plain": [
       "<Figure size 432x288 with 1 Axes>"
      ]
     },
     "execution_count": 134,
     "metadata": {},
     "output_type": "execute_result"
    },
    {
     "data": {
      "image/png": "[encoded data removed]",
      "text/plain": [
       "<Figure size 432x288 with 1 Axes>"
      ]
     },
     "metadata": {
      "needs_background": "light"
     },
     "output_type": "display_data"
    }
   ],
   "source": [
    "interaction_plot(data['age_groups'], data['out_t_groups'], data['shop_dur'])"
   ]
  },
  {
   "cell_type": "markdown",
   "metadata": {},
   "source": [
    "Interaction between outdoor temperature groups and age groups is not significant, but close to rejection interval (F > 0.06). As it's clear from the above plot, it's that still can be important for capturing some pattern on customer behaviour. From the interaction plot, we can see temperature has a relatively same affec effect on middle age customer's behaviours. Where here it's shows different effect on among old (17, 29] and (52, 72] age groups.  "
   ]
  },
  {
   "cell_type": "markdown",
   "metadata": {},
   "source": [
    "## 5. shop_dur ~ attendants"
   ]
  },
  {
   "cell_type": "code",
   "execution_count": 137,
   "metadata": {},
   "outputs": [
    {
     "name": "stdout",
     "output_type": "stream",
     "text": [
      "+---------------+-----+------------+------------+\n",
      "| attendants    |   N |   shop_dur |   shop_dur |\n",
      "|               |     |       mean |        std |\n",
      "+===============+=====+============+============+\n",
      "| family        |  11 |      38.64 |      15.33 |\n",
      "+---------------+-----+------------+------------+\n",
      "| family member |  13 |      32.62 |      13.81 |\n",
      "+---------------+-----+------------+------------+\n",
      "| life partner  |  53 |      43.43 |      16.62 |\n",
      "+---------------+-----+------------+------------+\n",
      "| little child  |   6 |      38.83 |      12.88 |\n",
      "+---------------+-----+------------+------------+\n",
      "| no            |  77 |      26.09 |      13.61 |\n",
      "+---------------+-----+------------+------------+\n"
     ]
    }
   ],
   "source": [
    "create_1cat_table(data, 'attendants', 'shop_dur')"
   ]
  },
  {
   "cell_type": "code",
   "execution_count": 138,
   "metadata": {},
   "outputs": [],
   "source": [
    "lm = smf.ols('shop_dur ~ attendants', data=data).fit()"
   ]
  },
  {
   "cell_type": "markdown",
   "metadata": {},
   "source": [
    "### Independence of varaibles"
   ]
  },
  {
   "cell_type": "code",
   "execution_count": 140,
   "metadata": {},
   "outputs": [
    {
     "data": {
      "image/png": "[encoded data removed]",
      "text/plain": [
       "<Figure size 432x288 with 1 Axes>"
      ]
     },
     "metadata": {
      "needs_background": "light"
     },
     "output_type": "display_data"
    }
   ],
   "source": [
    "independence_test(lm)"
   ]
  },
  {
   "cell_type": "markdown",
   "metadata": {},
   "source": [
    "This plot shows the residuals (errors) on the y-axis and the fitted values (predicted values) on the x-axis. We can see that plot is randomly distributed, this is independent."
   ]
  },
  {
   "cell_type": "markdown",
   "metadata": {},
   "source": [
    "### Homogenity test"
   ]
  },
  {
   "cell_type": "code",
   "execution_count": 142,
   "metadata": {},
   "outputs": [
    {
     "name": "stdout",
     "output_type": "stream",
     "text": [
      "['family' 'family member' 'life partner' 'little child' 'no']\n"
     ]
    }
   ],
   "source": [
    "groups = np.unique(data['attendants'])\n",
    "print(groups)"
   ]
  },
  {
   "cell_type": "code",
   "execution_count": 150,
   "metadata": {},
   "outputs": [
    {
     "name": "stdout",
     "output_type": "stream",
     "text": [
      "p-values 0.0011\n"
     ]
    }
   ],
   "source": [
    "w, pvalue = stats.bartlett(data[data['attendants']==groups[0]]['shop_dur'], \n",
    "                           data[data['attendants']==groups[1]]['shop_dur'], \n",
    "                           data[data['attendants']==groups[2]]['shop_dur'], \n",
    "                           data[data['attendants']==groups[3]]['shop_dur'],\n",
    "                           data[data['attendants']==groups[4]]['shop_dur'])\n",
    "print('p-values %.4f' % p)"
   ]
  },
  {
   "cell_type": "markdown",
   "metadata": {},
   "source": [
    "As the p-value < 0.011 is non significant, we fail to reject null hypothesis and conclude that treatments have equal variances."
   ]
  },
  {
   "cell_type": "markdown",
   "metadata": {},
   "source": [
    "### Shaprio-Wild//qq plot test to check the normal distribution of residuals"
   ]
  },
  {
   "cell_type": "code",
   "execution_count": 144,
   "metadata": {},
   "outputs": [
    {
     "data": {
      "image/png": "[encoded data removed]",
      "text/plain": [
       "<Figure size 432x288 with 1 Axes>"
      ]
     },
     "metadata": {
      "needs_background": "light"
     },
     "output_type": "display_data"
    }
   ],
   "source": [
    "fig = sm.qqplot(lm.resid, line='s')\n",
    "plt.show()"
   ]
  },
  {
   "cell_type": "code",
   "execution_count": 145,
   "metadata": {},
   "outputs": [
    {
     "name": "stdout",
     "output_type": "stream",
     "text": [
      "p-values 0.0011\n"
     ]
    }
   ],
   "source": [
    "_, p = stats.shapiro(lm.resid)\n",
    "print('p-values %.4f' % p)"
   ]
  },
  {
   "cell_type": "markdown",
   "metadata": {},
   "source": [
    "As the p-value < 0.0011 is non significant, we fail to reject null hypothesis and conclude that residuals are normally distributed."
   ]
  },
  {
   "cell_type": "markdown",
   "metadata": {},
   "source": [
    "### Calculate anova\n",
    "\n",
    "Met assumptions now let us carry out ANOVA test"
   ]
  },
  {
   "cell_type": "code",
   "execution_count": 146,
   "metadata": {},
   "outputs": [
    {
     "data": {
      "text/html": [
       "<div>\n",
       "<style scoped>\n",
       "    .dataframe tbody tr th:only-of-type {\n",
       "        vertical-align: middle;\n",
       "    }\n",
       "\n",
       "    .dataframe tbody tr th {\n",
       "        vertical-align: top;\n",
       "    }\n",
       "\n",
       "    .dataframe thead th {\n",
       "        text-align: right;\n",
       "    }\n",
       "</style>\n",
       "<table border=\"1\" class=\"dataframe\">\n",
       "  <thead>\n",
       "    <tr style=\"text-align: right;\">\n",
       "      <th></th>\n",
       "      <th>df</th>\n",
       "      <th>sum_sq</th>\n",
       "      <th>mean_sq</th>\n",
       "      <th>F</th>\n",
       "      <th>PR(&gt;F)</th>\n",
       "    </tr>\n",
       "  </thead>\n",
       "  <tbody>\n",
       "    <tr>\n",
       "      <td>attendants</td>\n",
       "      <td>4.0</td>\n",
       "      <td>9921.355535</td>\n",
       "      <td>2480.338884</td>\n",
       "      <td>10.99509</td>\n",
       "      <td>7.100787e-08</td>\n",
       "    </tr>\n",
       "    <tr>\n",
       "      <td>Residual</td>\n",
       "      <td>155.0</td>\n",
       "      <td>34965.838215</td>\n",
       "      <td>225.586053</td>\n",
       "      <td>NaN</td>\n",
       "      <td>NaN</td>\n",
       "    </tr>\n",
       "  </tbody>\n",
       "</table>\n",
       "</div>"
      ],
      "text/plain": [
       "               df        sum_sq      mean_sq         F        PR(>F)\n",
       "attendants    4.0   9921.355535  2480.338884  10.99509  7.100787e-08\n",
       "Residual    155.0  34965.838215   225.586053       NaN           NaN"
      ]
     },
     "execution_count": 146,
     "metadata": {},
     "output_type": "execute_result"
    }
   ],
   "source": [
    "sm.stats.anova_lm(lm, type=2)"
   ]
  },
  {
   "cell_type": "markdown",
   "metadata": {},
   "source": [
    "Having F < 0.000001, ANOVA test shows us that shopping duration upon attendants varies significantly from each other. We can also see from the table that, people spend more time on shopping when they're with family or life partner than they're alone. "
   ]
  },
  {
   "cell_type": "markdown",
   "metadata": {},
   "source": [
    "## 6. shop_dur ~ shopping_cart"
   ]
  },
  {
   "cell_type": "code",
   "execution_count": 147,
   "metadata": {},
   "outputs": [
    {
     "name": "stdout",
     "output_type": "stream",
     "text": [
      "+-----------------+-----+------------+------------+\n",
      "| shopping_cart   |   N |   shop_dur |   shop_dur |\n",
      "|                 |     |       mean |        std |\n",
      "+=================+=====+============+============+\n",
      "| no              |  65 |      24.42 |      13.12 |\n",
      "+-----------------+-----+------------+------------+\n",
      "| yes             |  95 |      40.06 |      15.98 |\n",
      "+-----------------+-----+------------+------------+\n"
     ]
    }
   ],
   "source": [
    "create_1cat_table(data, 'shopping_cart', 'shop_dur')"
   ]
  },
  {
   "cell_type": "code",
   "execution_count": 148,
   "metadata": {},
   "outputs": [],
   "source": [
    "lm = smf.ols('shop_dur ~ shopping_cart', data=data).fit()"
   ]
  },
  {
   "cell_type": "markdown",
   "metadata": {},
   "source": [
    "### Independence of varaibles"
   ]
  },
  {
   "cell_type": "code",
   "execution_count": 149,
   "metadata": {},
   "outputs": [
    {
     "data": {
      "image/png": "[encoded data removed]",
      "text/plain": [
       "<Figure size 432x288 with 1 Axes>"
      ]
     },
     "metadata": {
      "needs_background": "light"
     },
     "output_type": "display_data"
    }
   ],
   "source": [
    "independence_test(lm)"
   ]
  },
  {
   "cell_type": "markdown",
   "metadata": {},
   "source": [
    "This plot shows the residuals (errors) on the y-axis and the fitted values (predicted values) on the x-axis. Although there is a slope slightly leaning to the right, it's enough conclude that plot is randomly distributed, this is independent."
   ]
  },
  {
   "cell_type": "markdown",
   "metadata": {},
   "source": [
    "### Homogenity test"
   ]
  },
  {
   "cell_type": "code",
   "execution_count": 152,
   "metadata": {},
   "outputs": [
    {
     "name": "stdout",
     "output_type": "stream",
     "text": [
      "p-values 0.0011\n"
     ]
    }
   ],
   "source": [
    "w, pvalue = stats.bartlett(data[data['shopping_cart']=='yes']['shop_dur'], \n",
    "                           data[data['shopping_cart']=='no']['shop_dur'])\n",
    "print('p-values %.4f' % p)"
   ]
  },
  {
   "cell_type": "markdown",
   "metadata": {},
   "source": [
    "As the p-value < 0.0011 is non significant, we fail to reject null hypothesis and conclude that treatments have equal variances."
   ]
  },
  {
   "cell_type": "markdown",
   "metadata": {},
   "source": [
    "### Shaprio-Wild//qq plot test to check the normal distribution of residuals"
   ]
  },
  {
   "cell_type": "code",
   "execution_count": 155,
   "metadata": {},
   "outputs": [
    {
     "data": {
      "image/png": "[encoded data removed]",
      "text/plain": [
       "<Figure size 432x288 with 1 Axes>"
      ]
     },
     "metadata": {
      "needs_background": "light"
     },
     "output_type": "display_data"
    }
   ],
   "source": [
    "fig = sm.qqplot(lm.resid, line='s')\n",
    "plt.show()"
   ]
  },
  {
   "cell_type": "code",
   "execution_count": 157,
   "metadata": {},
   "outputs": [
    {
     "name": "stdout",
     "output_type": "stream",
     "text": [
      "p-values 0.000016\n"
     ]
    }
   ],
   "source": [
    "_, p = stats.shapiro(lm.resid)\n",
    "print('p-values %.6f' % p)"
   ]
  },
  {
   "cell_type": "markdown",
   "metadata": {},
   "source": [
    "As the p-value is non significant, we fail to reject null hypothesis and conclude that residuals are normally distributed."
   ]
  },
  {
   "cell_type": "markdown",
   "metadata": {},
   "source": [
    "### Calculate anova\n",
    "\n",
    "All the assumptions meet, no we're good to go!"
   ]
  },
  {
   "cell_type": "code",
   "execution_count": 158,
   "metadata": {},
   "outputs": [
    {
     "data": {
      "text/html": [
       "<div>\n",
       "<style scoped>\n",
       "    .dataframe tbody tr th:only-of-type {\n",
       "        vertical-align: middle;\n",
       "    }\n",
       "\n",
       "    .dataframe tbody tr th {\n",
       "        vertical-align: top;\n",
       "    }\n",
       "\n",
       "    .dataframe thead th {\n",
       "        text-align: right;\n",
       "    }\n",
       "</style>\n",
       "<table border=\"1\" class=\"dataframe\">\n",
       "  <thead>\n",
       "    <tr style=\"text-align: right;\">\n",
       "      <th></th>\n",
       "      <th>df</th>\n",
       "      <th>sum_sq</th>\n",
       "      <th>mean_sq</th>\n",
       "      <th>F</th>\n",
       "      <th>PR(&gt;F)</th>\n",
       "    </tr>\n",
       "  </thead>\n",
       "  <tbody>\n",
       "    <tr>\n",
       "      <td>shopping_cart</td>\n",
       "      <td>1.0</td>\n",
       "      <td>9449.788082</td>\n",
       "      <td>9449.788082</td>\n",
       "      <td>42.132501</td>\n",
       "      <td>1.048199e-09</td>\n",
       "    </tr>\n",
       "    <tr>\n",
       "      <td>Residual</td>\n",
       "      <td>158.0</td>\n",
       "      <td>35437.405668</td>\n",
       "      <td>224.287378</td>\n",
       "      <td>NaN</td>\n",
       "      <td>NaN</td>\n",
       "    </tr>\n",
       "  </tbody>\n",
       "</table>\n",
       "</div>"
      ],
      "text/plain": [
       "                  df        sum_sq      mean_sq          F        PR(>F)\n",
       "shopping_cart    1.0   9449.788082  9449.788082  42.132501  1.048199e-09\n",
       "Residual       158.0  35437.405668   224.287378        NaN           NaN"
      ]
     },
     "execution_count": 158,
     "metadata": {},
     "output_type": "execute_result"
    }
   ],
   "source": [
    "sm.stats.anova_lm(lm, type=1)"
   ]
  },
  {
   "cell_type": "markdown",
   "metadata": {},
   "source": [
    "Here we can see that the null hypothesis is externally week. This suggests that taking a shopping cart on shopping definitely increase the duration of time a customer spends on shopping. This can be an important insight for markets on finding ways to increase the time customer spend on shopping, thus spend more money. "
   ]
  },
  {
   "cell_type": "markdown",
   "metadata": {},
   "source": [
    "## 7. shop_dur ~ smoking"
   ]
  },
  {
   "cell_type": "code",
   "execution_count": 171,
   "metadata": {},
   "outputs": [
    {
     "name": "stdout",
     "output_type": "stream",
     "text": [
      "+-----------+-----+------------+------------+\n",
      "|   smoking |   N |   shop_dur |   shop_dur |\n",
      "|           |     |       mean |        std |\n",
      "+===========+=====+============+============+\n",
      "|         0 |  99 |      35.16 |      17.26 |\n",
      "+-----------+-----+------------+------------+\n",
      "|         1 |  61 |      31.34 |      15.61 |\n",
      "+-----------+-----+------------+------------+\n"
     ]
    }
   ],
   "source": [
    "create_1cat_table(data, 'smoking', 'shop_dur')"
   ]
  },
  {
   "cell_type": "code",
   "execution_count": 172,
   "metadata": {},
   "outputs": [],
   "source": [
    "lm = smf.ols('shop_dur ~ smoking', data=data).fit()"
   ]
  },
  {
   "cell_type": "markdown",
   "metadata": {},
   "source": [
    "### Independence of varaibles"
   ]
  },
  {
   "cell_type": "code",
   "execution_count": 173,
   "metadata": {},
   "outputs": [
    {
     "data": {
      "image/png": "[encoded data removed]",
      "text/plain": [
       "<Figure size 432x288 with 1 Axes>"
      ]
     },
     "metadata": {
      "needs_background": "light"
     },
     "output_type": "display_data"
    }
   ],
   "source": [
    "independence_test(lm)"
   ]
  },
  {
   "cell_type": "markdown",
   "metadata": {},
   "source": [
    "From the plot, we can see that independece of variables holds."
   ]
  },
  {
   "cell_type": "markdown",
   "metadata": {},
   "source": [
    "### Homogenity test"
   ]
  },
  {
   "cell_type": "code",
   "execution_count": 174,
   "metadata": {},
   "outputs": [
    {
     "name": "stdout",
     "output_type": "stream",
     "text": [
      "p-values 0.000290\n"
     ]
    }
   ],
   "source": [
    "w, pvalue = stats.bartlett(data[data['smoking']==0]['shop_dur'], \n",
    "                           data[data['smoking']==1]['shop_dur'])\n",
    "print('p-values %.6f' % p)"
   ]
  },
  {
   "cell_type": "markdown",
   "metadata": {},
   "source": [
    "AS the p-value is non-significant, thus, homogenity holds."
   ]
  },
  {
   "cell_type": "markdown",
   "metadata": {},
   "source": [
    "### Shaprio-Wild//qq plot test to check the normal distribution of residuals"
   ]
  },
  {
   "cell_type": "code",
   "execution_count": 175,
   "metadata": {},
   "outputs": [
    {
     "data": {
      "image/png": "[encoded data removed]",
      "text/plain": [
       "<Figure size 432x288 with 1 Axes>"
      ]
     },
     "metadata": {
      "needs_background": "light"
     },
     "output_type": "display_data"
    }
   ],
   "source": [
    "fig = sm.qqplot(lm.resid, line='s')\n",
    "plt.show()"
   ]
  },
  {
   "cell_type": "code",
   "execution_count": 176,
   "metadata": {},
   "outputs": [
    {
     "name": "stdout",
     "output_type": "stream",
     "text": [
      "p-values 0.0003\n"
     ]
    }
   ],
   "source": [
    "_, p = stats.shapiro(lm.resid)\n",
    "print('p-values %.4f' % p)"
   ]
  },
  {
   "cell_type": "markdown",
   "metadata": {},
   "source": [
    "As the p-value < 0.003 is non significant, we fail to reject null hypothesis and conclude that residuals are normally distributed."
   ]
  },
  {
   "cell_type": "markdown",
   "metadata": {},
   "source": [
    "#### Calculate anova"
   ]
  },
  {
   "cell_type": "code",
   "execution_count": 177,
   "metadata": {},
   "outputs": [
    {
     "data": {
      "text/html": [
       "<div>\n",
       "<style scoped>\n",
       "    .dataframe tbody tr th:only-of-type {\n",
       "        vertical-align: middle;\n",
       "    }\n",
       "\n",
       "    .dataframe tbody tr th {\n",
       "        vertical-align: top;\n",
       "    }\n",
       "\n",
       "    .dataframe thead th {\n",
       "        text-align: right;\n",
       "    }\n",
       "</style>\n",
       "<table border=\"1\" class=\"dataframe\">\n",
       "  <thead>\n",
       "    <tr style=\"text-align: right;\">\n",
       "      <th></th>\n",
       "      <th>df</th>\n",
       "      <th>sum_sq</th>\n",
       "      <th>mean_sq</th>\n",
       "      <th>F</th>\n",
       "      <th>PR(&gt;F)</th>\n",
       "    </tr>\n",
       "  </thead>\n",
       "  <tbody>\n",
       "    <tr>\n",
       "      <td>smoking</td>\n",
       "      <td>1.0</td>\n",
       "      <td>550.009117</td>\n",
       "      <td>550.009117</td>\n",
       "      <td>1.960013</td>\n",
       "      <td>0.163472</td>\n",
       "    </tr>\n",
       "    <tr>\n",
       "      <td>Residual</td>\n",
       "      <td>158.0</td>\n",
       "      <td>44337.184633</td>\n",
       "      <td>280.615093</td>\n",
       "      <td>NaN</td>\n",
       "      <td>NaN</td>\n",
       "    </tr>\n",
       "  </tbody>\n",
       "</table>\n",
       "</div>"
      ],
      "text/plain": [
       "             df        sum_sq     mean_sq         F    PR(>F)\n",
       "smoking     1.0    550.009117  550.009117  1.960013  0.163472\n",
       "Residual  158.0  44337.184633  280.615093       NaN       NaN"
      ]
     },
     "execution_count": 177,
     "metadata": {},
     "output_type": "execute_result"
    }
   ],
   "source": [
    "sm.stats.anova_lm(lm, type=1)"
   ]
  },
  {
   "cell_type": "markdown",
   "metadata": {},
   "source": [
    "Anova test, doens't let us to infer that the customes those are smoker are intend to spend less time inside shopping."
   ]
  },
  {
   "cell_type": "markdown",
   "metadata": {},
   "source": [
    "## 8.  \n",
    "#### shop_dur ~ daytime + sleeping_time_groups + sport_activity_groups + daytime*sleeping_time_groups + daytime*sport_activity_groups +sleeping_time_groups*sport_activity_groups"
   ]
  },
  {
   "cell_type": "code",
   "execution_count": 159,
   "metadata": {},
   "outputs": [
    {
     "name": "stdout",
     "output_type": "stream",
     "text": [
      "+------------------------+-----+------------+------------+\n",
      "| sleeping_time_groups   |   N |   shop_dur |   shop_dur |\n",
      "|                        |     |       mean |        std |\n",
      "+========================+=====+============+============+\n",
      "| (2.999, 6.0]           |  41 |      29.59 |      13.75 |\n",
      "+------------------------+-----+------------+------------+\n",
      "| (6.0, 7.0]             |  47 |      31.96 |      15.24 |\n",
      "+------------------------+-----+------------+------------+\n",
      "| (7.0, 8.0]             |  50 |      34.54 |      16.96 |\n",
      "+------------------------+-----+------------+------------+\n",
      "| (8.0, 12.0]            |  22 |      43.23 |      20.19 |\n",
      "+------------------------+-----+------------+------------+\n"
     ]
    }
   ],
   "source": [
    "create_1cat_table(data, 'sleeping_time_groups', 'shop_dur')"
   ]
  },
  {
   "cell_type": "code",
   "execution_count": 180,
   "metadata": {},
   "outputs": [],
   "source": [
    "lm = smf.ols('shop_dur ~ daytime + sleeping_time_groups + sport_activity_groups\\\n",
    "            + daytime*sleeping_time_groups + daytime*sport_activity_groups\\\n",
    "            + sleeping_time_groups*sport_activity_groups', data=data).fit()"
   ]
  },
  {
   "cell_type": "markdown",
   "metadata": {},
   "source": [
    "### Independence of varaibles and homogenity"
   ]
  },
  {
   "cell_type": "code",
   "execution_count": 181,
   "metadata": {},
   "outputs": [
    {
     "data": {
      "image/png": "[encoded data removed]",
      "text/plain": [
       "<Figure size 432x288 with 1 Axes>"
      ]
     },
     "metadata": {
      "needs_background": "light"
     },
     "output_type": "display_data"
    }
   ],
   "source": [
    "independence_test(lm)"
   ]
  },
  {
   "cell_type": "markdown",
   "metadata": {},
   "source": [
    "This plot shows the residuals (errors) on the y-axis and the fitted values (predicted values) on the x-axis. We can see that plot has no pattern or in other words each goup has same variance, thus the points should look like a more of random points. The plot spoints out that the variances are approximately homogenous since the residuals are distributed approximately equally above and below zero."
   ]
  },
  {
   "cell_type": "markdown",
   "metadata": {},
   "source": [
    "### Shaprio-Wild test//qq plot to check the normal distribution of residuals"
   ]
  },
  {
   "cell_type": "code",
   "execution_count": 182,
   "metadata": {},
   "outputs": [
    {
     "data": {
      "image/png": "[encoded data removed]",
      "text/plain": [
       "<Figure size 432x288 with 1 Axes>"
      ]
     },
     "metadata": {
      "needs_background": "light"
     },
     "output_type": "display_data"
    }
   ],
   "source": [
    "fig = sm.qqplot(lm.resid, line='s')\n",
    "plt.show()"
   ]
  },
  {
   "cell_type": "code",
   "execution_count": 183,
   "metadata": {},
   "outputs": [
    {
     "name": "stdout",
     "output_type": "stream",
     "text": [
      "p-values 0.0084\n"
     ]
    }
   ],
   "source": [
    "_, p = stats.shapiro(lm.resid)\n",
    "print('p-values %.4f' % p)"
   ]
  },
  {
   "cell_type": "markdown",
   "metadata": {},
   "source": [
    "As the p-value < 0.0084 is non-significant, we fail to reject null hypothesis and conclude that residuals are normally distributed."
   ]
  },
  {
   "cell_type": "markdown",
   "metadata": {},
   "source": [
    "## Calcualate anova\n",
    "\n",
    "As the assumptions of anova meet, now we can calculate it."
   ]
  },
  {
   "cell_type": "code",
   "execution_count": 179,
   "metadata": {},
   "outputs": [
    {
     "data": {
      "text/html": [
       "<div>\n",
       "<style scoped>\n",
       "    .dataframe tbody tr th:only-of-type {\n",
       "        vertical-align: middle;\n",
       "    }\n",
       "\n",
       "    .dataframe tbody tr th {\n",
       "        vertical-align: top;\n",
       "    }\n",
       "\n",
       "    .dataframe thead th {\n",
       "        text-align: right;\n",
       "    }\n",
       "</style>\n",
       "<table border=\"1\" class=\"dataframe\">\n",
       "  <thead>\n",
       "    <tr style=\"text-align: right;\">\n",
       "      <th></th>\n",
       "      <th>df</th>\n",
       "      <th>sum_sq</th>\n",
       "      <th>mean_sq</th>\n",
       "      <th>F</th>\n",
       "      <th>PR(&gt;F)</th>\n",
       "    </tr>\n",
       "  </thead>\n",
       "  <tbody>\n",
       "    <tr>\n",
       "      <td>daytime</td>\n",
       "      <td>2.0</td>\n",
       "      <td>308.635740</td>\n",
       "      <td>154.317870</td>\n",
       "      <td>0.583483</td>\n",
       "      <td>0.559406</td>\n",
       "    </tr>\n",
       "    <tr>\n",
       "      <td>sleeping_time_groups</td>\n",
       "      <td>3.0</td>\n",
       "      <td>2751.439694</td>\n",
       "      <td>917.146565</td>\n",
       "      <td>3.467771</td>\n",
       "      <td>0.018178</td>\n",
       "    </tr>\n",
       "    <tr>\n",
       "      <td>sport_activity_groups</td>\n",
       "      <td>3.0</td>\n",
       "      <td>709.262381</td>\n",
       "      <td>236.420794</td>\n",
       "      <td>0.893917</td>\n",
       "      <td>0.446272</td>\n",
       "    </tr>\n",
       "    <tr>\n",
       "      <td>daytime:sleeping_time_groups</td>\n",
       "      <td>6.0</td>\n",
       "      <td>2576.735130</td>\n",
       "      <td>429.455855</td>\n",
       "      <td>1.623791</td>\n",
       "      <td>0.145511</td>\n",
       "    </tr>\n",
       "    <tr>\n",
       "      <td>daytime:sport_activity_groups</td>\n",
       "      <td>6.0</td>\n",
       "      <td>484.210222</td>\n",
       "      <td>80.701704</td>\n",
       "      <td>0.305137</td>\n",
       "      <td>0.933316</td>\n",
       "    </tr>\n",
       "    <tr>\n",
       "      <td>sleeping_time_groups:sport_activity_groups</td>\n",
       "      <td>9.0</td>\n",
       "      <td>3674.868645</td>\n",
       "      <td>408.318738</td>\n",
       "      <td>1.543871</td>\n",
       "      <td>0.139207</td>\n",
       "    </tr>\n",
       "    <tr>\n",
       "      <td>Residual</td>\n",
       "      <td>130.0</td>\n",
       "      <td>34382.041937</td>\n",
       "      <td>264.477246</td>\n",
       "      <td>NaN</td>\n",
       "      <td>NaN</td>\n",
       "    </tr>\n",
       "  </tbody>\n",
       "</table>\n",
       "</div>"
      ],
      "text/plain": [
       "                                               df        sum_sq     mean_sq  \\\n",
       "daytime                                       2.0    308.635740  154.317870   \n",
       "sleeping_time_groups                          3.0   2751.439694  917.146565   \n",
       "sport_activity_groups                         3.0    709.262381  236.420794   \n",
       "daytime:sleeping_time_groups                  6.0   2576.735130  429.455855   \n",
       "daytime:sport_activity_groups                 6.0    484.210222   80.701704   \n",
       "sleeping_time_groups:sport_activity_groups    9.0   3674.868645  408.318738   \n",
       "Residual                                    130.0  34382.041937  264.477246   \n",
       "\n",
       "                                                   F    PR(>F)  \n",
       "daytime                                     0.583483  0.559406  \n",
       "sleeping_time_groups                        3.467771  0.018178  \n",
       "sport_activity_groups                       0.893917  0.446272  \n",
       "daytime:sleeping_time_groups                1.623791  0.145511  \n",
       "daytime:sport_activity_groups               0.305137  0.933316  \n",
       "sleeping_time_groups:sport_activity_groups  1.543871  0.139207  \n",
       "Residual                                         NaN       NaN  "
      ]
     },
     "execution_count": 179,
     "metadata": {},
     "output_type": "execute_result"
    }
   ],
   "source": [
    "sm.stats.anova_lm(lm, type=3)"
   ]
  },
  {
   "cell_type": "markdown",
   "metadata": {},
   "source": [
    "Here we have calculated ANOVA response of daytime, sleeping time, sports activities number and their interaction on shopping duration. We only observed a significant difference in sleeping time group. Using this insight, companies can look for ways to target their customer concerning their daily life."
   ]
  },
  {
   "cell_type": "markdown",
   "metadata": {},
   "source": [
    "#### Interaction plot"
   ]
  },
  {
   "cell_type": "code",
   "execution_count": 185,
   "metadata": {},
   "outputs": [
    {
     "data": {
      "image/png": "[encoded data removed]",
      "text/plain": [
       "<Figure size 432x288 with 1 Axes>"
      ]
     },
     "execution_count": 185,
     "metadata": {},
     "output_type": "execute_result"
    },
    {
     "data": {
      "image/png": "[encoded data removed]",
      "text/plain": [
       "<Figure size 432x288 with 1 Axes>"
      ]
     },
     "metadata": {
      "needs_background": "light"
     },
     "output_type": "display_data"
    }
   ],
   "source": [
    "interaction_plot(data['sleeping_time_groups'], data['sport_activity_groups'], data['shop_dur'])"
   ]
  },
  {
   "cell_type": "markdown",
   "metadata": {},
   "source": [
    "Interaction plot suggests that poeople sleeping more than 8 hours and actively participate in sports activities tended to spend more time in shopping."
   ]
  },
  {
   "cell_type": "markdown",
   "metadata": {},
   "source": [
    "## 9. shop_dur ~ ex_max_groups (ex_min_groups)"
   ]
  },
  {
   "cell_type": "code",
   "execution_count": 192,
   "metadata": {},
   "outputs": [
    {
     "name": "stdout",
     "output_type": "stream",
     "text": [
      "+-----------------+-----+------------+------------+\n",
      "| ex_max_groups   |   N |   shop_dur |   shop_dur |\n",
      "|                 |     |       mean |        std |\n",
      "+=================+=====+============+============+\n",
      "| (106.0, 116.0]  |  41 |      30.66 |      12.63 |\n",
      "+-----------------+-----+------------+------------+\n",
      "| (116.0, 124.25] |  38 |      34.68 |      14.63 |\n",
      "+-----------------+-----+------------+------------+\n",
      "| (124.25, 148.0] |  40 |      33.52 |      18.97 |\n",
      "+-----------------+-----+------------+------------+\n",
      "| (69.999, 106.0] |  41 |      36.02 |      19.24 |\n",
      "+-----------------+-----+------------+------------+\n"
     ]
    }
   ],
   "source": [
    "create_1cat_table(data, 'ex_max_groups', 'shop_dur')"
   ]
  },
  {
   "cell_type": "code",
   "execution_count": 204,
   "metadata": {},
   "outputs": [
    {
     "name": "stdout",
     "output_type": "stream",
     "text": [
      "+-----------------+-----+------------+------------+\n",
      "| ex_min_groups   |   N |   shop_dur |   shop_dur |\n",
      "|                 |     |       mean |        std |\n",
      "+=================+=====+============+============+\n",
      "| (43.999, 65.0]  |  44 |      36.39 |      17.73 |\n",
      "+-----------------+-----+------------+------------+\n",
      "| (65.0, 72.0]    |  38 |      31.24 |      15.72 |\n",
      "+-----------------+-----+------------+------------+\n",
      "| (72.0, 80.25]   |  38 |      33.92 |      15.04 |\n",
      "+-----------------+-----+------------+------------+\n",
      "| (80.25, 120.0]  |  40 |      32.9  |      17.68 |\n",
      "+-----------------+-----+------------+------------+\n"
     ]
    }
   ],
   "source": [
    "create_1cat_table(data, 'ex_min_groups', 'shop_dur')"
   ]
  },
  {
   "cell_type": "markdown",
   "metadata": {},
   "source": [
    "As the distribution of ex_min_groups is very similar to the that of ex_max_grops, we won't calculate ANOVA assumptions again for it as well."
   ]
  },
  {
   "cell_type": "code",
   "execution_count": 193,
   "metadata": {},
   "outputs": [],
   "source": [
    "lm = smf.ols('shop_dur ~ ex_max_groups', data=data).fit()"
   ]
  },
  {
   "cell_type": "markdown",
   "metadata": {},
   "source": [
    "### Independence of varaibles"
   ]
  },
  {
   "cell_type": "code",
   "execution_count": 195,
   "metadata": {},
   "outputs": [
    {
     "data": {
      "image/png": "[encoded data removed]",
      "text/plain": [
       "<Figure size 432x288 with 1 Axes>"
      ]
     },
     "metadata": {
      "needs_background": "light"
     },
     "output_type": "display_data"
    }
   ],
   "source": [
    "independence_test(lm)"
   ]
  },
  {
   "cell_type": "markdown",
   "metadata": {},
   "source": [
    "This plot shows the residuals (errors) on the y-axis and the fitted values (predicted values) on the x-axis. We can see that plot is randomly distributed, this is independent."
   ]
  },
  {
   "cell_type": "markdown",
   "metadata": {},
   "source": [
    "### Homogenity test"
   ]
  },
  {
   "cell_type": "code",
   "execution_count": 196,
   "metadata": {},
   "outputs": [
    {
     "name": "stdout",
     "output_type": "stream",
     "text": [
      "['(106.0, 116.0]' '(116.0, 124.25]' '(124.25, 148.0]' '(69.999, 106.0]']\n"
     ]
    }
   ],
   "source": [
    "groups = np.unique(data['ex_max_groups'])\n",
    "print(groups)"
   ]
  },
  {
   "cell_type": "code",
   "execution_count": 197,
   "metadata": {},
   "outputs": [
    {
     "name": "stdout",
     "output_type": "stream",
     "text": [
      "p-values 0.0084\n"
     ]
    }
   ],
   "source": [
    "w, pvalue = stats.bartlett(data[data['ex_max_groups']==groups[0]]['shop_dur'], \n",
    "                           data[data['ex_max_groups']==groups[1]]['shop_dur'], \n",
    "                           data[data['ex_max_groups']==groups[2]]['shop_dur'], \n",
    "                           data[data['ex_max_groups']==groups[3]]['shop_dur'])\n",
    "print('p-values %.4f' % p)"
   ]
  },
  {
   "cell_type": "markdown",
   "metadata": {},
   "source": [
    "This concludes that homogenity among groups holds."
   ]
  },
  {
   "cell_type": "markdown",
   "metadata": {},
   "source": [
    "### Shaprio-Wild//qq plot test to check the normal distribution of residuals"
   ]
  },
  {
   "cell_type": "code",
   "execution_count": 200,
   "metadata": {},
   "outputs": [
    {
     "data": {
      "image/png": "[encoded data removed]",
      "text/plain": [
       "<Figure size 432x288 with 1 Axes>"
      ]
     },
     "metadata": {
      "needs_background": "light"
     },
     "output_type": "display_data"
    }
   ],
   "source": [
    "fig = sm.qqplot(lm.resid, line='s')\n",
    "plt.show()"
   ]
  },
  {
   "cell_type": "code",
   "execution_count": 201,
   "metadata": {},
   "outputs": [
    {
     "name": "stdout",
     "output_type": "stream",
     "text": [
      "p-values 0.0005\n"
     ]
    }
   ],
   "source": [
    "_, p = stats.shapiro(lm.resid)\n",
    "print('p-values %.4f' % p)"
   ]
  },
  {
   "cell_type": "markdown",
   "metadata": {},
   "source": [
    "As the p-value < 0.0005 is non significant, we fail to reject null hypothesis and conclude that residuals are normally distributed."
   ]
  },
  {
   "cell_type": "markdown",
   "metadata": {},
   "source": [
    "### Calculate anova for both ex_max_groups and ex_min_groups"
   ]
  },
  {
   "cell_type": "code",
   "execution_count": 202,
   "metadata": {},
   "outputs": [
    {
     "data": {
      "text/html": [
       "<div>\n",
       "<style scoped>\n",
       "    .dataframe tbody tr th:only-of-type {\n",
       "        vertical-align: middle;\n",
       "    }\n",
       "\n",
       "    .dataframe tbody tr th {\n",
       "        vertical-align: top;\n",
       "    }\n",
       "\n",
       "    .dataframe thead th {\n",
       "        text-align: right;\n",
       "    }\n",
       "</style>\n",
       "<table border=\"1\" class=\"dataframe\">\n",
       "  <thead>\n",
       "    <tr style=\"text-align: right;\">\n",
       "      <th></th>\n",
       "      <th>df</th>\n",
       "      <th>sum_sq</th>\n",
       "      <th>mean_sq</th>\n",
       "      <th>F</th>\n",
       "      <th>PR(&gt;F)</th>\n",
       "    </tr>\n",
       "  </thead>\n",
       "  <tbody>\n",
       "    <tr>\n",
       "      <td>ex_max_groups</td>\n",
       "      <td>3.0</td>\n",
       "      <td>638.813102</td>\n",
       "      <td>212.937701</td>\n",
       "      <td>0.750723</td>\n",
       "      <td>0.523488</td>\n",
       "    </tr>\n",
       "    <tr>\n",
       "      <td>Residual</td>\n",
       "      <td>156.0</td>\n",
       "      <td>44248.380648</td>\n",
       "      <td>283.643466</td>\n",
       "      <td>NaN</td>\n",
       "      <td>NaN</td>\n",
       "    </tr>\n",
       "  </tbody>\n",
       "</table>\n",
       "</div>"
      ],
      "text/plain": [
       "                  df        sum_sq     mean_sq         F    PR(>F)\n",
       "ex_max_groups    3.0    638.813102  212.937701  0.750723  0.523488\n",
       "Residual       156.0  44248.380648  283.643466       NaN       NaN"
      ]
     },
     "execution_count": 202,
     "metadata": {},
     "output_type": "execute_result"
    }
   ],
   "source": [
    "lm = smf.ols('shop_dur ~ ex_max_groups', data=data).fit()\n",
    "sm.stats.anova_lm(lm, type=1)"
   ]
  },
  {
   "cell_type": "code",
   "execution_count": 203,
   "metadata": {},
   "outputs": [
    {
     "data": {
      "text/html": [
       "<div>\n",
       "<style scoped>\n",
       "    .dataframe tbody tr th:only-of-type {\n",
       "        vertical-align: middle;\n",
       "    }\n",
       "\n",
       "    .dataframe tbody tr th {\n",
       "        vertical-align: top;\n",
       "    }\n",
       "\n",
       "    .dataframe thead th {\n",
       "        text-align: right;\n",
       "    }\n",
       "</style>\n",
       "<table border=\"1\" class=\"dataframe\">\n",
       "  <thead>\n",
       "    <tr style=\"text-align: right;\">\n",
       "      <th></th>\n",
       "      <th>df</th>\n",
       "      <th>sum_sq</th>\n",
       "      <th>mean_sq</th>\n",
       "      <th>F</th>\n",
       "      <th>PR(&gt;F)</th>\n",
       "    </tr>\n",
       "  </thead>\n",
       "  <tbody>\n",
       "    <tr>\n",
       "      <td>ex_min_groups</td>\n",
       "      <td>3.0</td>\n",
       "      <td>575.530353</td>\n",
       "      <td>191.843451</td>\n",
       "      <td>0.675388</td>\n",
       "      <td>0.568359</td>\n",
       "    </tr>\n",
       "    <tr>\n",
       "      <td>Residual</td>\n",
       "      <td>156.0</td>\n",
       "      <td>44311.663397</td>\n",
       "      <td>284.049124</td>\n",
       "      <td>NaN</td>\n",
       "      <td>NaN</td>\n",
       "    </tr>\n",
       "  </tbody>\n",
       "</table>\n",
       "</div>"
      ],
      "text/plain": [
       "                  df        sum_sq     mean_sq         F    PR(>F)\n",
       "ex_min_groups    3.0    575.530353  191.843451  0.675388  0.568359\n",
       "Residual       156.0  44311.663397  284.049124       NaN       NaN"
      ]
     },
     "execution_count": 203,
     "metadata": {},
     "output_type": "execute_result"
    }
   ],
   "source": [
    "lm = smf.ols('shop_dur ~ ex_min_groups', data=data).fit()\n",
    "sm.stats.anova_lm(lm, type=1)"
   ]
  },
  {
   "cell_type": "markdown",
   "metadata": {},
   "source": [
    "Annova test alone suggests that given ex_mag_groups and ex_min_groups don't show any different distribution on the response variable, thus not important for capturing necessary information."
   ]
  },
  {
   "cell_type": "markdown",
   "metadata": {},
   "source": [
    "## 10. shop_dur ~ max_time_groups (min_time_groups)"
   ]
  },
  {
   "cell_type": "code",
   "execution_count": 164,
   "metadata": {},
   "outputs": [
    {
     "name": "stdout",
     "output_type": "stream",
     "text": [
      "+-------------------+-----+------------+------------+\n",
      "| max_time_groups   |   N |   shop_dur |   shop_dur |\n",
      "|                   |     |       mean |        std |\n",
      "+===================+=====+============+============+\n",
      "| (0.999, 8.0]      |  43 |      22.86 |      15.62 |\n",
      "+-------------------+-----+------------+------------+\n",
      "| (16.5, 31.0]      |  41 |      34.12 |      11.02 |\n",
      "+-------------------+-----+------------+------------+\n",
      "| (31.0, 74.0]      |  39 |      51.38 |      12.81 |\n",
      "+-------------------+-----+------------+------------+\n",
      "| (8.0, 16.5]       |  37 |      27.22 |      10.66 |\n",
      "+-------------------+-----+------------+------------+\n"
     ]
    }
   ],
   "source": [
    "create_1cat_table(data, 'max_time_groups', 'shop_dur')"
   ]
  },
  {
   "cell_type": "code",
   "execution_count": 165,
   "metadata": {},
   "outputs": [
    {
     "name": "stdout",
     "output_type": "stream",
     "text": [
      "+-------------------+-----+------------+------------+\n",
      "| min_time_groups   |   N |   shop_dur |   shop_dur |\n",
      "|                   |     |       mean |        std |\n",
      "+===================+=====+============+============+\n",
      "| (0.999, 6.0]      |  43 |      25.6  |      14.13 |\n",
      "+-------------------+-----+------------+------------+\n",
      "| (13.0, 23.0]      |  42 |      34.6  |      11.86 |\n",
      "+-------------------+-----+------------+------------+\n",
      "| (23.0, 150.0]     |  37 |      49.59 |      15.75 |\n",
      "+-------------------+-----+------------+------------+\n",
      "| (6.0, 13.0]       |  38 |      26.42 |      13.58 |\n",
      "+-------------------+-----+------------+------------+\n"
     ]
    }
   ],
   "source": [
    "create_1cat_table(data, 'min_time_groups', 'shop_dur')"
   ]
  },
  {
   "cell_type": "markdown",
   "metadata": {},
   "source": [
    "As the distribution of min_time_groups is very similar to the that of max_time_groups, we won't calculate ANOVA assumptions again for it as well."
   ]
  },
  {
   "cell_type": "code",
   "execution_count": 206,
   "metadata": {},
   "outputs": [],
   "source": [
    "lm = smf.ols('shop_dur ~ max_time_groups', data=data).fit()"
   ]
  },
  {
   "cell_type": "markdown",
   "metadata": {},
   "source": [
    "### Independence of varaibles"
   ]
  },
  {
   "cell_type": "code",
   "execution_count": 207,
   "metadata": {},
   "outputs": [
    {
     "data": {
      "image/png": "[encoded data removed]",
      "text/plain": [
       "<Figure size 432x288 with 1 Axes>"
      ]
     },
     "metadata": {
      "needs_background": "light"
     },
     "output_type": "display_data"
    }
   ],
   "source": [
    "independence_test(lm)"
   ]
  },
  {
   "cell_type": "markdown",
   "metadata": {},
   "source": [
    "This plot shows the residuals (errors) on the y-axis and the fitted values (predicted values) on the x-axis. We can see that plot is randomly distributed, this is independent."
   ]
  },
  {
   "cell_type": "markdown",
   "metadata": {},
   "source": [
    "### Homogenity test"
   ]
  },
  {
   "cell_type": "code",
   "execution_count": 209,
   "metadata": {},
   "outputs": [
    {
     "name": "stdout",
     "output_type": "stream",
     "text": [
      "['(0.999, 8.0]' '(16.5, 31.0]' '(31.0, 74.0]' '(8.0, 16.5]']\n"
     ]
    }
   ],
   "source": [
    "groups = np.unique(data['max_time_groups'])\n",
    "print(groups)"
   ]
  },
  {
   "cell_type": "code",
   "execution_count": 210,
   "metadata": {},
   "outputs": [
    {
     "name": "stdout",
     "output_type": "stream",
     "text": [
      "p-values 0.0005\n"
     ]
    }
   ],
   "source": [
    "w, pvalue = stats.bartlett(data[data['max_time_groups']==groups[0]]['shop_dur'], \n",
    "                           data[data['max_time_groups']==groups[1]]['shop_dur'], \n",
    "                           data[data['max_time_groups']==groups[2]]['shop_dur'], \n",
    "                           data[data['max_time_groups']==groups[3]]['shop_dur'])\n",
    "print('p-values %.4f' % p)"
   ]
  },
  {
   "cell_type": "markdown",
   "metadata": {},
   "source": [
    "This concludes that homogenity among groups holds."
   ]
  },
  {
   "cell_type": "markdown",
   "metadata": {},
   "source": [
    "### Shaprio-Wild//qq plot test to check the normal distribution of residuals"
   ]
  },
  {
   "cell_type": "code",
   "execution_count": 212,
   "metadata": {},
   "outputs": [
    {
     "data": {
      "image/png": "[encoded data removed]",
      "text/plain": [
       "<Figure size 432x288 with 1 Axes>"
      ]
     },
     "metadata": {
      "needs_background": "light"
     },
     "output_type": "display_data"
    }
   ],
   "source": [
    "fig = sm.qqplot(lm.resid, line='s')\n",
    "plt.show()"
   ]
  },
  {
   "cell_type": "code",
   "execution_count": 217,
   "metadata": {},
   "outputs": [
    {
     "name": "stdout",
     "output_type": "stream",
     "text": [
      "p-values 0.000000015\n"
     ]
    }
   ],
   "source": [
    "_, p = stats.shapiro(lm.resid)\n",
    "print('p-values %.9f' % p)"
   ]
  },
  {
   "cell_type": "markdown",
   "metadata": {},
   "source": [
    "As the p-value is non significant, we fail to reject null hypothesis and conclude that residuals are normally distributed."
   ]
  },
  {
   "cell_type": "markdown",
   "metadata": {},
   "source": [
    "### Calculate anova both for max_time_groups (min_time_groups)"
   ]
  },
  {
   "cell_type": "code",
   "execution_count": 219,
   "metadata": {},
   "outputs": [
    {
     "data": {
      "text/html": [
       "<div>\n",
       "<style scoped>\n",
       "    .dataframe tbody tr th:only-of-type {\n",
       "        vertical-align: middle;\n",
       "    }\n",
       "\n",
       "    .dataframe tbody tr th {\n",
       "        vertical-align: top;\n",
       "    }\n",
       "\n",
       "    .dataframe thead th {\n",
       "        text-align: right;\n",
       "    }\n",
       "</style>\n",
       "<table border=\"1\" class=\"dataframe\">\n",
       "  <thead>\n",
       "    <tr style=\"text-align: right;\">\n",
       "      <th></th>\n",
       "      <th>df</th>\n",
       "      <th>sum_sq</th>\n",
       "      <th>mean_sq</th>\n",
       "      <th>F</th>\n",
       "      <th>PR(&gt;F)</th>\n",
       "    </tr>\n",
       "  </thead>\n",
       "  <tbody>\n",
       "    <tr>\n",
       "      <td>max_time_groups</td>\n",
       "      <td>3.0</td>\n",
       "      <td>18812.139676</td>\n",
       "      <td>6270.713225</td>\n",
       "      <td>37.515982</td>\n",
       "      <td>2.603252e-18</td>\n",
       "    </tr>\n",
       "    <tr>\n",
       "      <td>Residual</td>\n",
       "      <td>156.0</td>\n",
       "      <td>26075.054074</td>\n",
       "      <td>167.147783</td>\n",
       "      <td>NaN</td>\n",
       "      <td>NaN</td>\n",
       "    </tr>\n",
       "  </tbody>\n",
       "</table>\n",
       "</div>"
      ],
      "text/plain": [
       "                    df        sum_sq      mean_sq          F        PR(>F)\n",
       "max_time_groups    3.0  18812.139676  6270.713225  37.515982  2.603252e-18\n",
       "Residual         156.0  26075.054074   167.147783        NaN           NaN"
      ]
     },
     "execution_count": 219,
     "metadata": {},
     "output_type": "execute_result"
    }
   ],
   "source": [
    "lm = smf.ols('shop_dur ~ max_time_groups', data=data).fit()\n",
    "sm.stats.anova_lm(lm, type=1)"
   ]
  },
  {
   "cell_type": "code",
   "execution_count": 220,
   "metadata": {},
   "outputs": [
    {
     "data": {
      "text/html": [
       "<div>\n",
       "<style scoped>\n",
       "    .dataframe tbody tr th:only-of-type {\n",
       "        vertical-align: middle;\n",
       "    }\n",
       "\n",
       "    .dataframe tbody tr th {\n",
       "        vertical-align: top;\n",
       "    }\n",
       "\n",
       "    .dataframe thead th {\n",
       "        text-align: right;\n",
       "    }\n",
       "</style>\n",
       "<table border=\"1\" class=\"dataframe\">\n",
       "  <thead>\n",
       "    <tr style=\"text-align: right;\">\n",
       "      <th></th>\n",
       "      <th>df</th>\n",
       "      <th>sum_sq</th>\n",
       "      <th>mean_sq</th>\n",
       "      <th>F</th>\n",
       "      <th>PR(&gt;F)</th>\n",
       "    </tr>\n",
       "  </thead>\n",
       "  <tbody>\n",
       "    <tr>\n",
       "      <td>min_time_groups</td>\n",
       "      <td>3.0</td>\n",
       "      <td>14212.613556</td>\n",
       "      <td>4737.537852</td>\n",
       "      <td>24.093432</td>\n",
       "      <td>7.241940e-13</td>\n",
       "    </tr>\n",
       "    <tr>\n",
       "      <td>Residual</td>\n",
       "      <td>156.0</td>\n",
       "      <td>30674.580194</td>\n",
       "      <td>196.631924</td>\n",
       "      <td>NaN</td>\n",
       "      <td>NaN</td>\n",
       "    </tr>\n",
       "  </tbody>\n",
       "</table>\n",
       "</div>"
      ],
      "text/plain": [
       "                    df        sum_sq      mean_sq          F        PR(>F)\n",
       "min_time_groups    3.0  14212.613556  4737.537852  24.093432  7.241940e-13\n",
       "Residual         156.0  30674.580194   196.631924        NaN           NaN"
      ]
     },
     "execution_count": 220,
     "metadata": {},
     "output_type": "execute_result"
    }
   ],
   "source": [
    "lm = smf.ols('shop_dur ~ min_time_groups', data=data).fit()\n",
    "sm.stats.anova_lm(lm, type=1)"
   ]
  },
  {
   "cell_type": "markdown",
   "metadata": {},
   "source": [
    "Having very low F, both the ANOVA test shows us that max/min_time groups vary significantly from each other. Thus, it concludes that it's very important in understanding shopping duration trend. min/max_tim are variables stores the value for the time when participant reached minimum hear rate. This can be explained by the fact that customers mood (heart rate) is essential on understanding their shopping behaviour."
   ]
  }
 ],
 "metadata": {
  "kernelspec": {
   "display_name": "Python 3",
   "language": "python",
   "name": "python3"
  },
  "language_info": {
   "codemirror_mode": {
    "name": "ipython",
    "version": 3
   },
   "file_extension": ".py",
   "mimetype": "text/x-python",
   "name": "python",
   "nbconvert_exporter": "python",
   "pygments_lexer": "ipython3",
   "version": "3.7.4"
  }
 },
 "nbformat": 4,
 "nbformat_minor": 2
}
