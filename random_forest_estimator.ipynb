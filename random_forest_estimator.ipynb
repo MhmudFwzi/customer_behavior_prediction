{
 "cells": [
  {
   "cell_type": "code",
   "execution_count": 54,
   "metadata": {},
   "outputs": [],
   "source": [
    "import pandas as pd\n",
    "import math\n",
    "import numpy as np\n",
    "import matplotlib.pyplot as mplt\n",
    "\n",
    "from sklearn.preprocessing import OneHotEncoder\n",
    "from sklearn.compose import ColumnTransformer\n",
    "from sklearn.pipeline import Pipeline\n",
    "from sklearn.preprocessing import StandardScaler\n",
    "from sklearn.ensemble import RandomForestRegressor\n",
    "from sklearn.metrics import mean_absolute_error\n",
    "from sklearn.model_selection import cross_val_score"
   ]
  },
  {
   "cell_type": "code",
   "execution_count": 52,
   "metadata": {},
   "outputs": [],
   "source": [
    "def display_scores(scores):\n",
    "    print(\"Scores for %2.0f folds:\" % len(scores), pd.DataFrame(scores))\n",
    "    print(\"Mean:\", scores.mean())\n",
    "    print(\"Standard deviation:\", scores.std())"
   ]
  },
  {
   "cell_type": "markdown",
   "metadata": {},
   "source": [
    "## Data preperation"
   ]
  },
  {
   "cell_type": "code",
   "execution_count": 46,
   "metadata": {},
   "outputs": [
    {
     "name": "stdout",
     "output_type": "stream",
     "text": [
      "<class 'pandas.core.frame.DataFrame'>\n",
      "RangeIndex: 165 entries, 0 to 164\n",
      "Data columns (total 23 columns):\n",
      "Id                                165 non-null int64\n",
      "age                               165 non-null int64\n",
      "gender                            165 non-null object\n",
      "BMI                               165 non-null float64\n",
      "sleeping_time                     165 non-null float64\n",
      "sporting_activity_(h/week)        165 non-null float64\n",
      "daytime                           165 non-null object\n",
      "outdoor_temperature               165 non-null int64\n",
      "shopping_cart                     165 non-null object\n",
      "attendants                        165 non-null object\n",
      "shopping_frequency                165 non-null object\n",
      "cash_point                        165 non-null object\n",
      "shopping_amount                   165 non-null object\n",
      "weekday                           165 non-null object\n",
      "smoking                           165 non-null int64\n",
      "ex_max                            165 non-null int64\n",
      "ex_min                            165 non-null int64\n",
      "hr_max                            165 non-null int64\n",
      "max_time                          165 non-null int64\n",
      "hr_min                            165 non-null int64\n",
      "min_time                          165 non-null int64\n",
      "shopping duration (in minutes)    165 non-null int64\n",
      "reaching HRmax                    165 non-null int64\n",
      "dtypes: float64(3), int64(12), object(8)\n",
      "memory usage: 29.8+ KB\n"
     ]
    }
   ],
   "source": [
    "data = pd.read_csv ('Dataset_heart rate_retail stores.csv')\n",
    "data.info()"
   ]
  },
  {
   "cell_type": "code",
   "execution_count": 47,
   "metadata": {},
   "outputs": [],
   "source": [
    "# get target_varaible and remove it from data\n",
    "target_data = np.array(data[['shopping duration (in minutes)']]).flatten()\n",
    "data = data.drop(['shopping duration (in minutes)'], axis=1) \n",
    "\n",
    "# aslo drop id\n",
    "data = data.drop(['Id'], axis=1)"
   ]
  },
  {
   "cell_type": "code",
   "execution_count": 48,
   "metadata": {},
   "outputs": [],
   "source": [
    "# drop categorical and non_numeric vlaues\n",
    "data_numeriacal = data.select_dtypes(include=['int16', 'int32', 'int64', 'float16', 'float32', 'float64'])"
   ]
  },
  {
   "cell_type": "code",
   "execution_count": 49,
   "metadata": {},
   "outputs": [],
   "source": [
    "# get the list of categorical values, aslo include \n",
    "categorical_values = list(data.select_dtypes(include=['object']))"
   ]
  },
  {
   "cell_type": "code",
   "execution_count": 50,
   "metadata": {},
   "outputs": [],
   "source": [
    "# read numeerical pre-precessing piple line\n",
    "num_pipeline = Pipeline([\n",
    "        #Normalization\n",
    "        ('normalize', StandardScaler()) #new\n",
    "    ])\n",
    "\n",
    "num_attribs=list(data_numeriacal)\n",
    "cat_attribs=categorical_values\n",
    "\n",
    "full_pipeline = ColumnTransformer([\n",
    "        (\"num\", num_pipeline, num_attribs),\n",
    "        (\"cat\", OneHotEncoder(), cat_attribs),\n",
    "    ])\n",
    "\n",
    "data_prepared = full_pipeline.fit_transform(data)"
   ]
  },
  {
   "cell_type": "markdown",
   "metadata": {},
   "source": [
    "### RANDOM FOREST"
   ]
  },
  {
   "cell_type": "code",
   "execution_count": 55,
   "metadata": {},
   "outputs": [
    {
     "data": {
      "text/plain": [
       "RandomForestRegressor(bootstrap=True, criterion='mse', max_depth=None,\n",
       "                      max_features='auto', max_leaf_nodes=None,\n",
       "                      min_impurity_decrease=0.0, min_impurity_split=None,\n",
       "                      min_samples_leaf=1, min_samples_split=2,\n",
       "                      min_weight_fraction_leaf=0.0, n_estimators=10,\n",
       "                      n_jobs=None, oob_score=False, random_state=42, verbose=0,\n",
       "                      warm_start=False)"
      ]
     },
     "execution_count": 55,
     "metadata": {},
     "output_type": "execute_result"
    }
   ],
   "source": [
    "forest_reg = RandomForestRegressor(n_estimators=10, random_state=42)\n",
    "forest_reg.fit(data_prepared, target_data)"
   ]
  },
  {
   "cell_type": "code",
   "execution_count": 57,
   "metadata": {},
   "outputs": [
    {
     "name": "stdout",
     "output_type": "stream",
     "text": [
      "Mean absolute error: 3.00 minutes\n"
     ]
    }
   ],
   "source": [
    "predictions = forest_reg.predict(data_prepared)\n",
    "mae = mean_absolute_error(target_data, predictions)\n",
    "print(\"Mean absolute error: %2.2f minutes\" % mae)"
   ]
  },
  {
   "cell_type": "markdown",
   "metadata": {},
   "source": [
    "#### Cross validation"
   ]
  },
  {
   "cell_type": "code",
   "execution_count": 58,
   "metadata": {},
   "outputs": [
    {
     "name": "stdout",
     "output_type": "stream",
     "text": [
      "Scores for 10 folds:            0\n",
      "0   7.852941\n",
      "1   9.888235\n",
      "2   5.311765\n",
      "3   7.882353\n",
      "4   5.664706\n",
      "5   8.881250\n",
      "6   9.456250\n",
      "7  12.068750\n",
      "8   7.000000\n",
      "9   9.343750\n",
      "Mean: 8.334999999999999\n",
      "Standard deviation: 1.9343348602668566\n"
     ]
    }
   ],
   "source": [
    "forest_scores = cross_val_score(forest_reg, data_prepared, target_data,\n",
    "                                scoring=\"neg_mean_absolute_error\", cv=10)\n",
    "display_scores(-forest_scores)"
   ]
  },
  {
   "cell_type": "markdown",
   "metadata": {},
   "source": [
    "### Do hyperparameter search on random forest"
   ]
  },
  {
   "cell_type": "markdown",
   "metadata": {},
   "source": [
    "#### Grid Serach"
   ]
  },
  {
   "cell_type": "code",
   "execution_count": 65,
   "metadata": {},
   "outputs": [
    {
     "data": {
      "text/plain": [
       "[{'n_estimators': [3, 10, 30], 'max_features': [2, 4, 6, 8]},\n",
       " {'bootstrap': [False], 'n_estimators': [3, 10], 'max_features': [2, 3, 4]}]"
      ]
     },
     "execution_count": 65,
     "metadata": {},
     "output_type": "execute_result"
    }
   ],
   "source": [
    "from sklearn.model_selection import GridSearchCV\n",
    "\n",
    "param_grid = [\n",
    "    # try 12 (3×4) combinations of hyperparameters\n",
    "    {'n_estimators': [3, 10, 30], 'max_features': [2, 4, 6, 8]},\n",
    "    # then try 6 (2×3) combinations with bootstrap set as False\n",
    "    {'bootstrap': [False], 'n_estimators': [3, 10], 'max_features': [2, 3, 4]},\n",
    "  ]\n",
    "param_grid"
   ]
  },
  {
   "cell_type": "code",
   "execution_count": 67,
   "metadata": {},
   "outputs": [
    {
     "data": {
      "text/plain": [
       "GridSearchCV(cv=5, error_score='raise-deprecating',\n",
       "             estimator=RandomForestRegressor(bootstrap=True, criterion='mse',\n",
       "                                             max_depth=None,\n",
       "                                             max_features='auto',\n",
       "                                             max_leaf_nodes=None,\n",
       "                                             min_impurity_decrease=0.0,\n",
       "                                             min_impurity_split=None,\n",
       "                                             min_samples_leaf=1,\n",
       "                                             min_samples_split=2,\n",
       "                                             min_weight_fraction_leaf=0.0,\n",
       "                                             n_estimators='warn', n_jobs=None,\n",
       "                                             oob_score=False, random_state=42,\n",
       "                                             verbose=0, warm_start=False),\n",
       "             iid='warn', n_jobs=None,\n",
       "             param_grid=[{'max_features': [2, 4, 6, 8],\n",
       "                          'n_estimators': [3, 10, 30]},\n",
       "                         {'bootstrap': [False], 'max_features': [2, 3, 4],\n",
       "                          'n_estimators': [3, 10]}],\n",
       "             pre_dispatch='2*n_jobs', refit=True, return_train_score=True,\n",
       "             scoring='neg_mean_absolute_error', verbose=0)"
      ]
     },
     "execution_count": 67,
     "metadata": {},
     "output_type": "execute_result"
    }
   ],
   "source": [
    "forest_reg = RandomForestRegressor(random_state=42)\n",
    "\n",
    "grid_search = GridSearchCV(forest_reg, param_grid, cv=5,\n",
    "                           scoring='neg_mean_absolute_error', return_train_score=True)\n",
    "grid_search.fit(data_prepared, target_data)"
   ]
  },
  {
   "cell_type": "code",
   "execution_count": 68,
   "metadata": {},
   "outputs": [
    {
     "data": {
      "text/plain": [
       "{'max_features': 8, 'n_estimators': 30}"
      ]
     },
     "execution_count": 68,
     "metadata": {},
     "output_type": "execute_result"
    }
   ],
   "source": [
    "# best parameter conbination\n",
    "grid_search.best_params_"
   ]
  },
  {
   "cell_type": "code",
   "execution_count": 69,
   "metadata": {},
   "outputs": [
    {
     "name": "stdout",
     "output_type": "stream",
     "text": [
      "13.147474747474746 {'max_features': 2, 'n_estimators': 3}\n",
      "11.153333333333334 {'max_features': 2, 'n_estimators': 10}\n",
      "10.583636363636364 {'max_features': 2, 'n_estimators': 30}\n",
      "11.119191919191922 {'max_features': 4, 'n_estimators': 3}\n",
      "10.975757575757576 {'max_features': 4, 'n_estimators': 10}\n",
      "9.87737373737374 {'max_features': 4, 'n_estimators': 30}\n",
      "12.341414141414143 {'max_features': 6, 'n_estimators': 3}\n",
      "9.955151515151515 {'max_features': 6, 'n_estimators': 10}\n",
      "9.391919191919193 {'max_features': 6, 'n_estimators': 30}\n",
      "12.224242424242426 {'max_features': 8, 'n_estimators': 3}\n",
      "9.852121212121212 {'max_features': 8, 'n_estimators': 10}\n",
      "9.150303030303032 {'max_features': 8, 'n_estimators': 30}\n",
      "14.480808080808078 {'bootstrap': False, 'max_features': 2, 'n_estimators': 3}\n",
      "11.893333333333334 {'bootstrap': False, 'max_features': 2, 'n_estimators': 10}\n",
      "13.054545454545455 {'bootstrap': False, 'max_features': 3, 'n_estimators': 3}\n",
      "11.716363636363635 {'bootstrap': False, 'max_features': 3, 'n_estimators': 10}\n",
      "10.931313131313132 {'bootstrap': False, 'max_features': 4, 'n_estimators': 3}\n",
      "10.149090909090912 {'bootstrap': False, 'max_features': 4, 'n_estimators': 10}\n",
      "13.147474747474746 {'max_features': 2, 'n_estimators': 3}\n",
      "11.153333333333334 {'max_features': 2, 'n_estimators': 10}\n",
      "10.583636363636364 {'max_features': 2, 'n_estimators': 30}\n",
      "11.119191919191922 {'max_features': 4, 'n_estimators': 3}\n",
      "10.975757575757576 {'max_features': 4, 'n_estimators': 10}\n",
      "9.87737373737374 {'max_features': 4, 'n_estimators': 30}\n",
      "12.341414141414143 {'max_features': 6, 'n_estimators': 3}\n",
      "9.955151515151515 {'max_features': 6, 'n_estimators': 10}\n",
      "9.391919191919193 {'max_features': 6, 'n_estimators': 30}\n",
      "12.224242424242426 {'max_features': 8, 'n_estimators': 3}\n",
      "9.852121212121212 {'max_features': 8, 'n_estimators': 10}\n",
      "9.150303030303032 {'max_features': 8, 'n_estimators': 30}\n",
      "14.480808080808078 {'bootstrap': False, 'max_features': 2, 'n_estimators': 3}\n",
      "11.893333333333334 {'bootstrap': False, 'max_features': 2, 'n_estimators': 10}\n",
      "13.054545454545455 {'bootstrap': False, 'max_features': 3, 'n_estimators': 3}\n",
      "11.716363636363635 {'bootstrap': False, 'max_features': 3, 'n_estimators': 10}\n",
      "10.931313131313132 {'bootstrap': False, 'max_features': 4, 'n_estimators': 3}\n",
      "10.149090909090912 {'bootstrap': False, 'max_features': 4, 'n_estimators': 10}\n"
     ]
    }
   ],
   "source": [
    "# score of each hyperparameter combination tested during the grid search:\n",
    "\n",
    "cvres = grid_search.cv_results_\n",
    "for mean_score, params in zip(cvres[\"mean_test_score\"], cvres[\"params\"]):\n",
    "    print(-mean_score, params)\n",
    "cvres = grid_search.cv_results_\n",
    "for mean_score, params in zip(cvres[\"mean_test_score\"], cvres[\"params\"]):\n",
    "    print(-mean_score, params)"
   ]
  },
  {
   "cell_type": "markdown",
   "metadata": {},
   "source": [
    "#### Random Serach"
   ]
  },
  {
   "cell_type": "code",
   "execution_count": 60,
   "metadata": {},
   "outputs": [
    {
     "data": {
      "text/plain": [
       "RandomizedSearchCV(cv=5, error_score='raise-deprecating',\n",
       "                   estimator=RandomForestRegressor(bootstrap=True,\n",
       "                                                   criterion='mse',\n",
       "                                                   max_depth=None,\n",
       "                                                   max_features='auto',\n",
       "                                                   max_leaf_nodes=None,\n",
       "                                                   min_impurity_decrease=0.0,\n",
       "                                                   min_impurity_split=None,\n",
       "                                                   min_samples_leaf=1,\n",
       "                                                   min_samples_split=2,\n",
       "                                                   min_weight_fraction_leaf=0.0,\n",
       "                                                   n_estimators='warn',\n",
       "                                                   n_jobs=None, oob_score=False,\n",
       "                                                   random_sta...\n",
       "                                                   warm_start=False),\n",
       "                   iid='warn', n_iter=10, n_jobs=None,\n",
       "                   param_distributions={'max_features': <scipy.stats._distn_infrastructure.rv_frozen object at 0x00000153F8096148>,\n",
       "                                        'n_estimators': <scipy.stats._distn_infrastructure.rv_frozen object at 0x00000153F806E248>},\n",
       "                   pre_dispatch='2*n_jobs', random_state=42, refit=True,\n",
       "                   return_train_score=False, scoring='neg_mean_absolute_error',\n",
       "                   verbose=0)"
      ]
     },
     "execution_count": 60,
     "metadata": {},
     "output_type": "execute_result"
    }
   ],
   "source": [
    "from sklearn.model_selection import RandomizedSearchCV\n",
    "from scipy.stats import randint\n",
    "\n",
    "param_distribs = {\n",
    "        'n_estimators': randint(low=1, high=200),\n",
    "        'max_features': randint(low=1, high=8),\n",
    "    }\n",
    "\n",
    "forest_reg = RandomForestRegressor(random_state=42)\n",
    "rnd_search = RandomizedSearchCV(forest_reg, param_distributions=param_distribs,\n",
    "                                n_iter=10, cv=5, scoring='neg_mean_absolute_error', random_state=42)\n",
    "rnd_search.fit(data_prepared, target_data)"
   ]
  },
  {
   "cell_type": "code",
   "execution_count": 61,
   "metadata": {},
   "outputs": [
    {
     "name": "stdout",
     "output_type": "stream",
     "text": [
      "8.822828282828283 {'max_features': 7, 'n_estimators': 180}\n",
      "9.898585858585859 {'max_features': 5, 'n_estimators': 15}\n",
      "9.76952861952862 {'max_features': 3, 'n_estimators': 72}\n",
      "9.535930735930737 {'max_features': 5, 'n_estimators': 21}\n",
      "8.789220069547937 {'max_features': 7, 'n_estimators': 122}\n",
      "9.846222222222222 {'max_features': 3, 'n_estimators': 75}\n",
      "9.840564738292011 {'max_features': 3, 'n_estimators': 88}\n",
      "9.185333333333334 {'max_features': 5, 'n_estimators': 100}\n",
      "9.847486868686868 {'max_features': 3, 'n_estimators': 150}\n",
      "13.33030303030303 {'max_features': 5, 'n_estimators': 2}\n"
     ]
    }
   ],
   "source": [
    "cvres = rnd_search.cv_results_\n",
    "for mean_score, params in zip(cvres[\"mean_test_score\"], cvres[\"params\"]):\n",
    "    print(-mean_score, params)"
   ]
  },
  {
   "cell_type": "markdown",
   "metadata": {},
   "source": [
    "It looks random hyperparameter search yielded better result than grid search."
   ]
  },
  {
   "cell_type": "code",
   "execution_count": 71,
   "metadata": {},
   "outputs": [
    {
     "data": {
      "text/plain": [
       "{'max_features': 7, 'n_estimators': 122}"
      ]
     },
     "execution_count": 71,
     "metadata": {},
     "output_type": "execute_result"
    }
   ],
   "source": [
    "# best parameter conbination\n",
    "rnd_search.best_params_"
   ]
  },
  {
   "cell_type": "markdown",
   "metadata": {},
   "source": [
    "#### Featue importance"
   ]
  },
  {
   "cell_type": "code",
   "execution_count": 64,
   "metadata": {},
   "outputs": [
    {
     "data": {
      "text/html": [
       "<div>\n",
       "<style scoped>\n",
       "    .dataframe tbody tr th:only-of-type {\n",
       "        vertical-align: middle;\n",
       "    }\n",
       "\n",
       "    .dataframe tbody tr th {\n",
       "        vertical-align: top;\n",
       "    }\n",
       "\n",
       "    .dataframe thead th {\n",
       "        text-align: right;\n",
       "    }\n",
       "</style>\n",
       "<table border=\"1\" class=\"dataframe\">\n",
       "  <thead>\n",
       "    <tr style=\"text-align: right;\">\n",
       "      <th></th>\n",
       "      <th>0</th>\n",
       "      <th>1</th>\n",
       "    </tr>\n",
       "  </thead>\n",
       "  <tbody>\n",
       "    <tr>\n",
       "      <td>0</td>\n",
       "      <td>0.222137</td>\n",
       "      <td>max_time</td>\n",
       "    </tr>\n",
       "    <tr>\n",
       "      <td>1</td>\n",
       "      <td>0.137360</td>\n",
       "      <td>min_time</td>\n",
       "    </tr>\n",
       "    <tr>\n",
       "      <td>2</td>\n",
       "      <td>0.041206</td>\n",
       "      <td>age</td>\n",
       "    </tr>\n",
       "    <tr>\n",
       "      <td>3</td>\n",
       "      <td>0.039114</td>\n",
       "      <td>hr_min</td>\n",
       "    </tr>\n",
       "    <tr>\n",
       "      <td>4</td>\n",
       "      <td>0.033888</td>\n",
       "      <td>BMI</td>\n",
       "    </tr>\n",
       "    <tr>\n",
       "      <td>5</td>\n",
       "      <td>0.031367</td>\n",
       "      <td>ex_min</td>\n",
       "    </tr>\n",
       "    <tr>\n",
       "      <td>6</td>\n",
       "      <td>0.030836</td>\n",
       "      <td>ex_max</td>\n",
       "    </tr>\n",
       "    <tr>\n",
       "      <td>7</td>\n",
       "      <td>0.029409</td>\n",
       "      <td>sleeping_time</td>\n",
       "    </tr>\n",
       "    <tr>\n",
       "      <td>8</td>\n",
       "      <td>0.028398</td>\n",
       "      <td>hr_max</td>\n",
       "    </tr>\n",
       "    <tr>\n",
       "      <td>9</td>\n",
       "      <td>0.023946</td>\n",
       "      <td>outdoor_temperature</td>\n",
       "    </tr>\n",
       "    <tr>\n",
       "      <td>10</td>\n",
       "      <td>0.022014</td>\n",
       "      <td>sporting_activity_(h/week)</td>\n",
       "    </tr>\n",
       "    <tr>\n",
       "      <td>11</td>\n",
       "      <td>0.019143</td>\n",
       "      <td>reaching HRmax</td>\n",
       "    </tr>\n",
       "    <tr>\n",
       "      <td>12</td>\n",
       "      <td>0.009190</td>\n",
       "      <td>smoking</td>\n",
       "    </tr>\n",
       "    <tr>\n",
       "      <td>13</td>\n",
       "      <td>0.004437</td>\n",
       "      <td>male</td>\n",
       "    </tr>\n",
       "    <tr>\n",
       "      <td>14</td>\n",
       "      <td>0.003771</td>\n",
       "      <td>female</td>\n",
       "    </tr>\n",
       "  </tbody>\n",
       "</table>\n",
       "</div>"
      ],
      "text/plain": [
       "           0                           1\n",
       "0   0.222137                    max_time\n",
       "1   0.137360                    min_time\n",
       "2   0.041206                         age\n",
       "3   0.039114                      hr_min\n",
       "4   0.033888                         BMI\n",
       "5   0.031367                      ex_min\n",
       "6   0.030836                      ex_max\n",
       "7   0.029409               sleeping_time\n",
       "8   0.028398                      hr_max\n",
       "9   0.023946         outdoor_temperature\n",
       "10  0.022014  sporting_activity_(h/week)\n",
       "11  0.019143              reaching HRmax\n",
       "12  0.009190                     smoking\n",
       "13  0.004437                        male\n",
       "14  0.003771                      female"
      ]
     },
     "execution_count": 64,
     "metadata": {},
     "output_type": "execute_result"
    }
   ],
   "source": [
    "# get feature importance values from best estimator\n",
    "feature_importances = rnd_search.best_estimator_.feature_importances_\n",
    "\n",
    "#cat_encoder = cat_pipeline.named_steps[\"cat_encoder\"] # old solution\n",
    "cat_encoder = full_pipeline.named_transformers_[\"cat\"]\n",
    "cat_one_hot_attribs = list(cat_encoder.categories_[0])\n",
    "attributes = num_attribs  + cat_one_hot_attribs\n",
    "pd.DataFrame(sorted(zip(feature_importances, attributes), reverse=True))"
   ]
  }
 ],
 "metadata": {
  "kernelspec": {
   "display_name": "Python 3",
   "language": "python",
   "name": "python3"
  },
  "language_info": {
   "codemirror_mode": {
    "name": "ipython",
    "version": 3
   },
   "file_extension": ".py",
   "mimetype": "text/x-python",
   "name": "python",
   "nbconvert_exporter": "python",
   "pygments_lexer": "ipython3",
   "version": "3.7.4"
  }
 },
 "nbformat": 4,
 "nbformat_minor": 2
}
